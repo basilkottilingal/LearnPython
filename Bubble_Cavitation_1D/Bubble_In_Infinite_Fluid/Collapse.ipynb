{
 "cells": [
  {
   "cell_type": "code",
   "execution_count": 7,
   "metadata": {},
   "outputs": [],
   "source": [
    "import numpy as np\n",
    "import matplotlib as mpl\n",
    "from matplotlib import pyplot as plt\n",
    "from scipy.integrate import odeint"
   ]
  },
  {
   "cell_type": "markdown",
   "metadata": {},
   "source": [
    "# Collapse\n",
    "A bubble initially at eqb with ambient pressure $p_{\\infty, 0}$ is suddenly appplied with a huge pressure pertubation $\\Delta p$\n",
    "$$\\forall ~t>0, \\quad p_\\infty(t) = p_{\\infty, 0} + \\Delta p ~~\\text{with} ~~\\Delta p >> p_{\\infty, 0}$$\n"
   ]
  },
  {
   "cell_type": "markdown",
   "metadata": {},
   "source": []
  },
  {
   "cell_type": "markdown",
   "metadata": {},
   "source": [
    "# Rayleigh-Plesset Equation\n",
    "$$\n",
    "    \\frac{1}{\\rho_L} {(p_B(t) - p_{\\infty}(t))} =  R\\frac{d^2 R}{dt^2}\n",
    "             + \\frac{3}{2} (\\frac{dR}{dt})^2 + \\frac{4 \\nu_L}{R} \\frac{dR}{dt} + \\frac{2\\sigma}{\\rho_L R}\n",
    "$$\n",
    "## Non dimensional numbers\n",
    "\n",
    "(Use characteristic velocity scale as collapse velocity \n",
    " $U_c = \\sqrt{\\frac{\\Delta p}{\\rho_L} }$ and length  scale $R_0$ and time scale $R_0/U$)\n",
    "\n",
    "(1) ratio of  new ambient pressure to  old\n",
    "$$\n",
    "    p^* = \\frac{p_{\\infty}}{p_{\\infty, 0}} = \\frac{p_{\\infty, 0} + \\Delta p}{p_{\\infty, 0}}\n",
    "$$ \n",
    "(with $p^*>0$). In violent collapse $p^* >> 1$\n",
    "\n",
    "(2) Weber Number, $We$\n",
    "$$\n",
    "        We = \\frac{\\Delta p R_0}{\\sigma}\n",
    "$$\n",
    "(5) Reynolds Number\n",
    "$$\n",
    "    Re = \\frac{R_0 \\sqrt{\\Delta p ~ \\rho_L}}{\\mu_L} \n",
    "$$\n",
    "(6) Non-dim time\n",
    "    $$\n",
    "        t^* = {t}{U/R_0} = \\sqrt{ \\frac{\\Delta p}{R_0} } \\frac{1}{R_0} ~ t\n",
    "    $$\n",
    "(7) Non-dim Radius\n",
    "    $$\n",
    "       R^*(t^*) =  \\frac{R(t^*)}{R_0}\n",
    "    $$\n",
    "(8) Non-dim Interface velocity\n",
    "    $$\n",
    "       U^*(t^*) = \\frac{d R^*}{d t^*} =  \\sqrt{\\frac{\\rho_L}{\\Delta p}} \\frac{d R}{d t}\n",
    "    $$\n",
    " We alse have\n",
    "    $$\n",
    "       \\frac{d R}{d t} =  \\sqrt{\\frac{\\Delta p} {\\rho_L}} \\frac{d R^*}{d t^*} ~;\\quad~\n",
    "       \\frac{d^2 R}{d t^2} =  \\frac{1}{R_0} \\frac{\\Delta p} {\\rho_L}  \\frac{d^2 R^*}{d {t^*}^2} ~;\\quad~\n",
    "       \\frac{p_{\\infty, 0}}{\\Delta p} = \\frac{1}{p^* - 1} ~;\\quad~\n",
    "       \\frac{p_{\\infty}}{\\Delta p} = \\frac{p^*}{p^* - 1}\n",
    "    $$\n",
    "    \n",
    "## R-P (Non-dimensionalised)\n",
    "\n",
    "$$\n",
    "    R^*\\frac{dU^*}{dt^*} + \\frac{3}{2} {U^*}^2 + \\frac{4}{Re} \\frac{U^*}{R^*} + \\frac{2}{We} \\frac{1}{R^*} =\n",
    "     \\bigg( \\frac{1}{p^*-1} + \\frac{2}{We} \\bigg) \\left( \\frac{1}{R^*} \\right)^{3\\gamma} - \\frac{p^*}{p^*-1} \n",
    "$$\n",
    "which gives\n",
    "\n",
    "$$\n",
    "\\frac{d}{dt^*} \n",
    "\\begin{bmatrix} R^* \\\\ U^* \\end{bmatrix} =\n",
    "\\begin{bmatrix} U^* \\\\ \\frac{1}{R^* }\\left[\n",
    "    \\bigg( p^* - 1 + \\frac{2}{We} \\bigg) \\left( \\frac{1}{R^*} \\right)^{3\\gamma} - p^* -  \\frac{3}{2} {U^*}^2 - \\frac{4}{Re} \\frac{U^*}{R^*} - \\frac{2}{We} \\frac{1}{R^*}\n",
    "\\right]\n",
    "\\end{bmatrix}\n",
    "$$\n",
    "\n",
    "In the above equation\n",
    "$$  p_G(t^*) = \\left[ \\bigg(\\frac{1}{p^* - 1}+ \\frac{2}{We} \\bigg) \\left( \\frac{1}{R^*}\\right)^{3\\gamma} \\right] \\Delta p  $$\n",
    "$$  p_\\infty (t^*) =  \\frac{p^*}{p^* - 1} ~ \\Delta p$$\n",
    "\n",
    "## New stable radius ($We >> 1$). \n",
    "Assuming the bubble doesn't collapse completely , the new stable radius for an initially 'large' bubble\n",
    "($We >> 1$)\n",
    "$$\n",
    "    R_\\infty = R(t)\\bigg|_{t \\rightarrow \\infty} \n",
    "    = R_0 \\left[ \\frac{ \\frac{1}{p^* - 1}+ \\frac{2}{We} }{ \\frac{p^*}{p^* - 1} } \\right]^{ \\frac{1}{3\\gamma} }\n",
    "    = R_0 \\left[ \\frac{1}{p^*}+ \\frac{p^* - 1}{p^*}\\frac{2}{We} \\right]^{ \\frac{1}{3\\gamma} } \n",
    "    \\quad ~\\text{given}\\quad We >> 1\n",
    "$$"
   ]
  },
  {
   "cell_type": "markdown",
   "metadata": {},
   "source": [
    "## Integration of R-P (Non-dim)"
   ]
  },
  {
   "cell_type": "code",
   "execution_count": 53,
   "metadata": {},
   "outputs": [],
   "source": [
    "#partial pressure of air as a function of R\n",
    "def p_gas(Rstar):\n",
    "    pg0 = 1./(pstar - 1) + 2./We;\n",
    "    return pg0*np.power(Rstar, -3*gamma) \n",
    "\n",
    "\n",
    "#d/dt (x) = equation(x,t)\n",
    "def RP(x, tstar):\n",
    "    (Rstar,Ustar) = x;\n",
    "    dfdt = ( p_gas(Rstar) - pstar/(pstar - 1) - 1.5*Ustar**2 - 4*Ustar/(Re * Rstar) - 2/(We*Rstar) )/Rstar\n",
    "    return (Ustar, dfdt)\n",
    "\n",
    "def NewRadius():\n",
    "    return np.power((1 + 2*(pstar-1)/We)/pstar, 1/(3*gamma))\n",
    "\n",
    "def solve_RP (params, tsample):\n",
    "    pstar, We, Re =  params;\n",
    "    R_RP = odeint(RP, [1, 0], tstarsample)\n",
    "    Ustarsample = R_RP[:,1]\n",
    "    Rstarsample = R_RP[:,0]\n",
    "    return (Rstarsample, Ustarsample);\n",
    "    "
   ]
  },
  {
   "cell_type": "markdown",
   "metadata": {},
   "source": [
    "## An Example\n"
   ]
  },
  {
   "cell_type": "markdown",
   "metadata": {},
   "source": [
    "## Bubble response (RP) ('Large' Bubble $We >> 1$)\n",
    "\n",
    "\n",
    "$$ p^* = 10 $$\n",
    "$$ Re = 10 $$\n",
    "$$ We = 1000 $$"
   ]
  },
  {
   "cell_type": "code",
   "execution_count": 49,
   "metadata": {},
   "outputs": [],
   "source": [
    "gamma = 1.4;"
   ]
  },
  {
   "cell_type": "code",
   "execution_count": 52,
   "metadata": {},
   "outputs": [
    {
     "data": {
      "image/png": "[encoded data removed]",
      "text/plain": [
       "<Figure size 432x288 with 1 Axes>"
      ]
     },
     "metadata": {
      "needs_background": "light"
     },
     "output_type": "display_data"
    }
   ],
   "source": [
    "tend = 5.;  # t_end = 5 t_collapse\n",
    "N=50000\n",
    "tstarsample  = (tend/N)*np.array(range(N))\n",
    "\n",
    "pstar = 100; Re = 10; We = 1000;\n",
    "Rstarsample,  Ustarsample = solve_RP([pstar, We, Re], tsample)\n",
    "\n",
    "fig, ax1 = plt.subplots()\n",
    "\n",
    "ax1.set_xlabel(r\"$t^* = t/t_{collapse}$\")\n",
    "ax1.set_ylabel(r\"$R^*$\")\n",
    "ax1.plot(tstarsample, Rstarsample, linewidth = 0.7, label = r\"$R/R_0$ (RP)\")\n",
    "\n",
    "Rinf = NewRadius();\n",
    "ax1.plot([0,tend], [Rinf, Rinf], linewidth = 0.7)\n",
    "plt.text(0, Rinf, r'$R_\\infty^*$',ha='left', va='bottom', fontsize=12)\n",
    "\n",
    "ax1.legend(loc = \"lower right\")\n",
    "\n",
    "fig.tight_layout()  # otherwise the right y-label is slightly clipped\n",
    "\n",
    "plt.show()\n"
   ]
  },
  {
   "cell_type": "markdown",
   "metadata": {},
   "source": [
    "## Viscous Damping. Varying $Re$"
   ]
  },
  {
   "cell_type": "code",
   "execution_count": 51,
   "metadata": {},
   "outputs": [
    {
     "data": {
      "image/png": "[encoded data removed]",
      "text/plain": [
       "<Figure size 432x288 with 1 Axes>"
      ]
     },
     "metadata": {
      "needs_background": "light"
     },
     "output_type": "display_data"
    }
   ],
   "source": [
    "fig, ax1 = plt.subplots()\n",
    "\n",
    "ax1.set_title(r\"$We=1000$\")\n",
    "ax1.set_xlabel(r\"$t^* = t/t_{collapse}$\")\n",
    "ax1.set_ylabel(r\"$R^*$\")\n",
    "\n",
    "pstar = 100; Re = 10; We = 1000;\n",
    "Rstarsample,  Ustarsample = solve_RP([pstar, We, Re], tsample)\n",
    "ax1.plot(tstarsample, Rstarsample, linewidth = 0.7, label = r\"$Re = 10$\")\n",
    "pstar = 100; Re = 100; We = 1000;\n",
    "Rstarsample,  Ustarsample = solve_RP([pstar, We, Re], tsample)\n",
    "ax1.plot(tstarsample, Rstarsample, linewidth = 0.7, label = r\"$Re = 100$\")\n",
    "pstar = 100; Re = 1000; We = 1000;\n",
    "Rstarsample,  Ustarsample = solve_RP([pstar, We, Re], tsample)\n",
    "ax1.plot(tstarsample, Rstarsample, linewidth = 0.7, label = r\"$Re = 1000$\")\n",
    "\n",
    "Rinf = NewRadius();\n",
    "ax1.plot([0,tend], [Rinf, Rinf], linewidth = 0.7)\n",
    "plt.text(0, Rinf, r'$R_\\infty^*$',ha='left', va='bottom', fontsize=12)\n",
    "\n",
    "ax1.legend(loc = \"lower right\")\n",
    "\n",
    "fig.tight_layout()  # otherwise the right y-label is slightly clipped\n",
    "\n",
    "plt.show()\n"
   ]
  },
  {
   "cell_type": "markdown",
   "metadata": {},
   "source": [
    "## Small Perturbation. $p^* \\rightarrow 1$ (Compare with Linearised solution)"
   ]
  },
  {
   "cell_type": "markdown",
   "metadata": {},
   "source": [
    "## Keller-Miksis (Weekly Compressible Liquid)"
   ]
  },
  {
   "cell_type": "markdown",
   "metadata": {},
   "source": [
    "## Compare with DNS (Basilisk. [Fuster and Popinet])"
   ]
  },
  {
   "cell_type": "code",
   "execution_count": null,
   "metadata": {},
   "outputs": [],
   "source": []
  }
 ],
 "metadata": {
  "kernelspec": {
   "display_name": "Python 3",
   "language": "python",
   "name": "python3"
  },
  "language_info": {
   "codemirror_mode": {
    "name": "ipython",
    "version": 3
   },
   "file_extension": ".py",
   "mimetype": "text/x-python",
   "name": "python",
   "nbconvert_exporter": "python",
   "pygments_lexer": "ipython3",
   "version": "3.8.5"
  }
 },
 "nbformat": 4,
 "nbformat_minor": 4
}
