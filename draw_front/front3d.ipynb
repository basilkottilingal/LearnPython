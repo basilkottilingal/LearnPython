{
 "cells": [
  {
   "cell_type": "code",
   "execution_count": null,
   "metadata": {
    "scrolled": true
   },
   "outputs": [
    {
     "name": "stdout",
     "output_type": "stream",
     "text": [
      "default\n",
      "_0\n"
     ]
    }
   ],
   "source": [
    "from matplotlib import pyplot as plt\n",
    "from mpl_toolkits.mplot3d.art3d import Poly3DCollection\n",
    "import numpy as np\n",
    "import os\n",
    "import re\n",
    "\n",
    "for file in os.listdir('.'):\n",
    "    if file.endswith('-connectivity.dat'):\n",
    "        prefix = re.sub('-connectivity.dat', '', file);\n",
    "        print( prefix);\t\n",
    "        file1 = prefix+\"-coordinates.dat\"\n",
    "        file2 = file\n",
    "        imgfile = prefix+\".png\"\n",
    "        fig = plt.figure()\n",
    "        ax = fig.add_subplot(111, projection='3d')\n",
    "        #Reading Coordinates\n",
    "        dat = np.loadtxt(file1);\n",
    "        xyz = np.reshape(dat,(-1,3));\n",
    "        xyzt = np.transpose(xyz)\n",
    "        #Reading connectivity of corners of triangles\n",
    "        dat = np.loadtxt(file2, dtype = 'int')\n",
    "        vertices = np.reshape(dat,(-1,3));\n",
    "        x = xyzt[0];\n",
    "        y = xyzt[1];\n",
    "        z = xyzt[2];\n",
    "        poly3d = [[xyz[vertices[ix][iy]] for iy in range(len(vertices[0]))] for ix in range(len(vertices))]\n",
    "        collection = Poly3DCollection(poly3d, linewidths=0.5, alpha=0.9)\n",
    "        face_color = [0.5, 1.0, 0.5] # alternative: matplotlib.colors.rgb2hex([0.5, 0.5, 1])\n",
    "        collection.set_facecolor(face_color)\n",
    "        ax.add_collection3d(collection)\n",
    "        ax.set_xlim([0, 2])\n",
    "        ax.set_ylim([0, 2])\n",
    "        ax.set_zlim([0, 2])\n",
    "        plt.savefig(imgfile)"
   ]
  },
  {
   "cell_type": "code",
   "execution_count": null,
   "metadata": {},
   "outputs": [],
   "source": []
  }
 ],
 "metadata": {
  "kernelspec": {
   "display_name": "Python 3",
   "language": "python",
   "name": "python3"
  },
  "language_info": {
   "codemirror_mode": {
    "name": "ipython",
    "version": 3
   },
   "file_extension": ".py",
   "mimetype": "text/x-python",
   "name": "python",
   "nbconvert_exporter": "python",
   "pygments_lexer": "ipython3",
   "version": "3.8.5"
  }
 },
 "nbformat": 4,
 "nbformat_minor": 4
}
