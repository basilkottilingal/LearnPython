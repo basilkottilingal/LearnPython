{
 "cells": [
  {
   "cell_type": "code",
   "execution_count": 12,
   "metadata": {},
   "outputs": [],
   "source": [
    "from matplotlib import pyplot as plt\n",
    "#from mpl_toolkits.mplot3d.art3d import Poly3DCollection, Line3DCollection\n",
    "import numpy as np"
   ]
  },
  {
   "cell_type": "code",
   "execution_count": 13,
   "metadata": {},
   "outputs": [],
   "source": [
    "I_ = 0; J_ = 0; K_= 0;\n",
    "\n",
    "def bounding_box():\n",
    "    ax.plot([(I_),(I_+1)], [(J_),(J_)], [(K_),(K_)], color = [0,0,0], alpha=0.1)\n",
    "    ax.plot([(I_),(I_+1)], [(J_+1),(J_+1)],     [(K_+1),(K_+1)], color = [0,0,0], alpha=0.1)\n",
    "    ax.plot([(I_),(I_+1)], [(J_),(J_)], [(K_+1),(K_+1)], color = [0,0,0], alpha=0.1)\n",
    "    ax.plot([(I_),(I_+1)], [(J_+1),(J_+1)],     [(K_),(K_)], color = [0,0,0], alpha=0.1)\n",
    "    ax.plot([(I_),(I_)], [(J_),(J_+1)], [(K_),(K_)], color = [0,0,0], alpha=0.1)\n",
    "    ax.plot([(I_+1),(I_+1)], [(J_),(J_+1)],     [(K_+1),(K_+1)], color = [0,0,0], alpha=0.1)\n",
    "    ax.plot([(I_+1),(I_+1)], [(J_),(J_+1)],     [(K_),(K_)], color = [0,0,0], alpha=0.1)\n",
    "    ax.plot([(I_),(I_)], [(J_),(J_+1)], [(K_+1),(K_+1)], color = [0,0,0], alpha=0.1)\n",
    "    ax.plot([(I_),(I_)], [(J_),(J_)],[(K_),(K_+1)], color = [0,0,0], alpha=0.1)\n",
    "    ax.plot([(I_+1),(I_+1)], [(J_+1),(J_+1)],       [(K_),(K_+1)], color = [0,0,0], alpha=0.1)\n",
    "    ax.plot([(I_+1),(I_+1)], [(J_),(J_)],   [(K_),(K_+1)], color = [0,0,0], alpha=0.1)\n",
    "    ax.plot([(I_),(I_)], [(J_+1),(J_+1)],   [(K_),(K_+1)], color = [0,0,0], alpha=0.1)\n",
    "    \n",
    "def draw_axi():\n",
    "    ax.quiver((I_+0.01), (J_+0.01), (K_+0.01), 0.1, 0., 0., color = 'r')\n",
    "    ax.quiver((I_+0.01), (J_+0.01), (K_+0.01), 0., 0.1, 0., color = 'g')\n",
    "    \n",
    "#line segment /edges of cube\n",
    "seg = [[[0,0,0],[0,0,1]],[[0,0,0],[0,1,0]],\n",
    "       [[0,0,0],[1,0,0]],[[1,1,0],[1,1,1]],[[0,1,1],[1,1,1]],\n",
    "       [[1,0,1],[1,1,1]],[[1,0,0],[1,0,1]],[[1,0,0],[1,1,0]],\n",
    "       [[0,1,0],[0,1,1]],[[0,1,0],[1,1,0]],[[0,0,1],[1,0,1]],\n",
    "       [[0,0,1],[0,1,1]]] ;\n",
    "\n"
   ]
  },
  {
   "cell_type": "code",
   "execution_count": 120,
   "metadata": {},
   "outputs": [
    {
     "data": {
      "image/png": "[encoded data removed]",
      "text/plain": [
       "<Figure size 432x288 with 1 Axes>"
      ]
     },
     "metadata": {
      "needs_background": "light"
     },
     "output_type": "display_data"
    }
   ],
   "source": [
    "###################\n",
    "##  EDGES cells and facets#######\n",
    "\n",
    "#streams\n",
    "imgfile = \"neighborhood.png\" #output .png\n",
    "\n",
    "#fig handle\n",
    "fig,ax = plt.subplots()\n",
    "\n",
    "#colormap\n",
    "cmap=plt.get_cmap('tab10')  #Only 10 distict colors\n",
    "\n",
    "#input elements data\n",
    "file = \"facets.dat\" #input\n",
    "dat = np.loadtxt(file);\n",
    "r,c  = np.shape(dat)\n",
    "for ir in range(r):\n",
    "    x = [dat[ir,2*(j%4)] for j in range(2)]\n",
    "    y = [dat[ir,2*(j%4)+1] for j in range(2)]\n",
    "    if(dat[ir,4]):\n",
    "        ax.plot(x,y, c = 'r')\n",
    "    else:\n",
    "        ax.plot(x,y, c = 'black')\n",
    "    \n",
    "ax.scatter(dat[:, 0], dat[:, 1], s = 4.*np.ones(r), c = 'm', marker = 'o')\n",
    "    \n",
    "#input cell data\n",
    "file = \"cells.dat\" #input\n",
    "dat = np.loadtxt(file);\n",
    "r,c  = np.shape(dat)\n",
    "for ir in range(r):\n",
    "    x = [dat[ir,2*(j%4)] for j in range(5)]\n",
    "    y = [dat[ir,2*(j%4)+1] for j in range(5)]\n",
    "    if(int(dat[ir,8]) == 2):\n",
    "        ax.fill(x,y, c = [1,0,0], alpha=0.3)\n",
    "        ax.plot(x,y, c = [0,0,0], lw = 0.1)\n",
    "    if(dat[ir,8]):\n",
    "        ax.fill(x,y, c = [1,0,0], alpha=0.1, edgecolor ='none')\n",
    "        #ax.plot(x,y, c = [0,0,0], lw = 0.)\n",
    "    else:\n",
    "        ax.plot(x,y, c = [0,0,0])\n",
    "\n",
    "#input element vectors data\n",
    "file = \"vectors.dat\" #input\n",
    "dat = np.loadtxt(file);\n",
    "r,c  = np.shape(dat)\n",
    "for ir in range(r):\n",
    "    x = dat[ir,0]\n",
    "    y = dat[ir,1]\n",
    "    u = dat[ir,2]\n",
    "    v = dat[ir,3] \n",
    "    if(int(dat[ir,4]) == 1):\n",
    "        ax.quiver(x,y, u,v, scale=0.3, color = 'b')\n",
    "    else:\n",
    "        ax.quiver(x,y, u,v, scale=0.3, color = 'g')\n",
    "\n",
    "ax.set_aspect('equal')\n",
    "ax.set_xlim([0, 0.5])\n",
    "ax.set_ylim([0, 0.5])\n",
    "ax.axes.xaxis.set_visible(False)\n",
    "ax.axes.yaxis.set_visible(False)\n",
    "plt.savefig(imgfile, dpi=1200)"
   ]
  },
  {
   "cell_type": "code",
   "execution_count": 122,
   "metadata": {},
   "outputs": [
    {
     "data": {
      "image/png": "[encoded data removed]",
      "text/plain": [
       "<Figure size 432x288 with 1 Axes>"
      ]
     },
     "metadata": {
      "needs_background": "light"
     },
     "output_type": "display_data"
    }
   ],
   "source": [
    "###################\n",
    "##  EDGES cells and facets#######\n",
    "\n",
    "#streams\n",
    "imgfile = \"neighborhood2.png\" #output .png\n",
    "\n",
    "#fig handle\n",
    "fig,ax = plt.subplots()\n",
    "\n",
    "#colormap\n",
    "cmap=plt.get_cmap('tab10')  #Only 10 distict colors\n",
    "\n",
    "#input elements data\n",
    "file = \"facets.dat\" #input\n",
    "dat = np.loadtxt(file);\n",
    "r,c  = np.shape(dat)\n",
    "for ir in range(r):\n",
    "    x = [dat[ir,2*(j%4)] for j in range(2)]\n",
    "    y = [dat[ir,2*(j%4)+1] for j in range(2)]\n",
    "    ax.plot(x,y, c = 'black')\n",
    "    \n",
    "ax.scatter(dat[:, 0], dat[:, 1], s = 4.*np.ones(r), c = 'm', marker = 'o')\n",
    "    \n",
    "#input cell data\n",
    "file = \"cells2.dat\" #input\n",
    "dat = np.loadtxt(file);\n",
    "r,c  = np.shape(dat)\n",
    "for ir in range(r):\n",
    "    x = [dat[ir,2*(j%4)] for j in range(5)]\n",
    "    y = [dat[ir,2*(j%4)+1] for j in range(5)]\n",
    "    if(int(dat[ir,8]) == 2):\n",
    "        ax.fill(x,y, c = [1,0,0], alpha=0.3)\n",
    "        ax.plot(x,y, c = [0,0,0], lw = 0.1)\n",
    "    if(dat[ir,8]):\n",
    "        ax.fill(x,y, c = [1,0,0], alpha=0.1, edgecolor ='none')\n",
    "        #ax.plot(x,y, c = [0,0,0], lw = 0.)\n",
    "    else:\n",
    "        ax.plot(x,y, c = [0,0,0])\n",
    "\n",
    "#input element vectors data\n",
    "file = \"vectors2.dat\" #input\n",
    "dat = np.loadtxt(file);\n",
    "r,c  = np.shape(dat)\n",
    "for ir in range(r):\n",
    "    x = dat[ir,0]\n",
    "    y = dat[ir,1]\n",
    "    u = dat[ir,2]\n",
    "    v = dat[ir,3] \n",
    "    if(int(dat[ir,4]) == 1):\n",
    "        ax.quiver(x,y, u,v, scale=10, color = 'g')\n",
    "    else:\n",
    "        ax.quiver(x,y, u,v, scale=10, color = 'b')\n",
    "\n",
    "ax.set_aspect('equal')\n",
    "ax.set_xlim([0, 0.5])\n",
    "ax.set_ylim([0, 0.5])\n",
    "ax.axes.xaxis.set_visible(False)\n",
    "ax.axes.yaxis.set_visible(False)\n",
    "plt.savefig(imgfile, dpi=1200)"
   ]
  },
  {
   "cell_type": "code",
   "execution_count": null,
   "metadata": {},
   "outputs": [],
   "source": []
  }
 ],
 "metadata": {
  "kernelspec": {
   "display_name": "Python 3",
   "language": "python",
   "name": "python3"
  },
  "language_info": {
   "codemirror_mode": {
    "name": "ipython",
    "version": 3
   },
   "file_extension": ".py",
   "mimetype": "text/x-python",
   "name": "python",
   "nbconvert_exporter": "python",
   "pygments_lexer": "ipython3",
   "version": "3.8.5"
  }
 },
 "nbformat": 4,
 "nbformat_minor": 4
}
