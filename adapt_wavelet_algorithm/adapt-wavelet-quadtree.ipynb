{
 "cells": [
  {
   "cell_type": "code",
   "execution_count": 6,
   "metadata": {},
   "outputs": [],
   "source": [
    "import numpy as np\n",
    "import matplotlib as mpl\n",
    "from matplotlib import pyplot as plt\n",
    "from scipy.optimize import minimize"
   ]
  },
  {
   "cell_type": "code",
   "execution_count": 135,
   "metadata": {},
   "outputs": [],
   "source": [
    "def quadtree(n):\n",
    "    h = np.power(2., -n);\n",
    "    nl = 1;\n",
    "    for i in range(n):\n",
    "        nl *= 2\n",
    "    x = 0.5*h + h*np.linspace(0, nl, nl, endpoint=False)\n",
    "    y = 0.5*h + h*np.linspace(0, nl, nl, endpoint=False)\n",
    "    tree =  np.meshgrid(x,y)\n",
    "    return tree"
   ]
  },
  {
   "cell_type": "code",
   "execution_count": 136,
   "metadata": {},
   "outputs": [],
   "source": [
    "def fx(x,y):\n",
    "    return np.exp(-32*(x**2 + y**2))\n",
    "\n",
    "def FX(x,y):\n",
    "    f = np.copy(x)\n",
    "    I,J = np.shape(x)\n",
    "    for i in range(I):\n",
    "        for j in range(J):\n",
    "            f[i][j] = 1.0 - fx(x[i][j], y[i][j])\n",
    "    return f\n",
    "    "
   ]
  },
  {
   "cell_type": "code",
   "execution_count": 137,
   "metadata": {},
   "outputs": [
    {
     "data": {
      "text/plain": [
       "array([[0.22119922, 0.7134952 , 0.96122579, 0.99806955, 0.99996464,\n",
       "        0.99999976, 1.        , 1.        ],\n",
       "       [0.7134952 , 0.89460078, 0.98573577, 0.99928983, 0.99998699,\n",
       "        0.99999991, 1.        , 1.        ],\n",
       "       [0.96122579, 0.98573577, 0.99806955, 0.99990389, 0.99999824,\n",
       "        0.99999999, 1.        , 1.        ],\n",
       "       [0.99806955, 0.99928983, 0.99990389, 0.99999521, 0.99999991,\n",
       "        1.        , 1.        , 1.        ],\n",
       "       [0.99996464, 0.99998699, 0.99999824, 0.99999991, 1.        ,\n",
       "        1.        , 1.        , 1.        ],\n",
       "       [0.99999976, 0.99999991, 0.99999999, 1.        , 1.        ,\n",
       "        1.        , 1.        , 1.        ],\n",
       "       [1.        , 1.        , 1.        , 1.        , 1.        ,\n",
       "        1.        , 1.        , 1.        ],\n",
       "       [1.        , 1.        , 1.        , 1.        , 1.        ,\n",
       "        1.        , 1.        , 1.        ]])"
      ]
     },
     "execution_count": 137,
     "metadata": {},
     "output_type": "execute_result"
    }
   ],
   "source": [
    "x3 = quadtree(3)[0]\n",
    "y3 = quadtree(3)[1]\n",
    "\n",
    "#exact vaalue at level 3\n",
    "FX3 = FX(x3,y3)\n",
    "FX3"
   ]
  },
  {
   "cell_type": "code",
   "execution_count": 138,
   "metadata": {},
   "outputs": [
    {
     "data": {
      "text/plain": [
       "<matplotlib.contour.QuadContourSet at 0x1fb6c223f10>"
      ]
     },
     "execution_count": 138,
     "metadata": {},
     "output_type": "execute_result"
    },
    {
     "data": {
      "image/png": "[encoded data removed]",
      "text/plain": [
       "<Figure size 432x288 with 1 Axes>"
      ]
     },
     "metadata": {
      "needs_background": "light"
     },
     "output_type": "display_data"
    }
   ],
   "source": [
    "from mpl_toolkits.mplot3d import Axes3D  \n",
    "# Axes3D import has side effects, it enables using projection='3d' in add_subplot\n",
    "import matplotlib.pyplot as plt\n",
    "\n",
    "\n",
    "\n",
    "fig = plt.figure()\n",
    "ax = fig.add_subplot(111, projection='3d')\n",
    "\n",
    "\n",
    "#ax.plot_surface(x, y, FX3)\n",
    "ax.contourf(x3, y3, FX3)"
   ]
  },
  {
   "cell_type": "code",
   "execution_count": 139,
   "metadata": {},
   "outputs": [],
   "source": [
    "def restriction(fxl):\n",
    "    #restricts or averages from l to l-1\n",
    "    N = len(fxl[0]);\n",
    "    fx = np.meshgrid(np.zeros(N),np.zeros(N))[0]\n",
    "    _i=2; _j=2;\n",
    "    for i in range(N):\n",
    "        if (i%2 == 1):\n",
    "            _j = 2\n",
    "            for j in range(N):\n",
    "                if (j%2 == 1):\n",
    "                    val = 0.25*(fxl[i-1][j] + fxl[i][j] + fxl[i-1][j-1] + fxl[i][j-1]); \n",
    "                    fx[_i][_j] = val\n",
    "                    _j = _j + 1\n",
    "            _i = _i+1;\n",
    "    return fx;\n",
    "\n",
    "downsample = restriction (FX3)"
   ]
  },
  {
   "cell_type": "code",
   "execution_count": 140,
   "metadata": {},
   "outputs": [
    {
     "data": {
      "text/plain": [
       "array([[0.   , 0.   , 0.   , 0.   , 0.   , 0.   , 0.   , 0.   ],\n",
       "       [0.   , 0.   , 0.   , 0.   , 0.   , 0.   , 0.   , 0.   ],\n",
       "       [0.   , 0.   , 0.125, 0.375, 0.625, 0.875, 0.   , 0.   ],\n",
       "       [0.   , 0.   , 0.125, 0.375, 0.625, 0.875, 0.   , 0.   ],\n",
       "       [0.   , 0.   , 0.125, 0.375, 0.625, 0.875, 0.   , 0.   ],\n",
       "       [0.   , 0.   , 0.125, 0.375, 0.625, 0.875, 0.   , 0.   ],\n",
       "       [0.   , 0.   , 0.   , 0.   , 0.   , 0.   , 0.   , 0.   ],\n",
       "       [0.   , 0.   , 0.   , 0.   , 0.   , 0.   , 0.   , 0.   ]])"
      ]
     },
     "execution_count": 140,
     "metadata": {},
     "output_type": "execute_result"
    }
   ],
   "source": [
    "#irrelavant section\n",
    "restriction(x3)"
   ]
  },
  {
   "cell_type": "code",
   "execution_count": 141,
   "metadata": {},
   "outputs": [
    {
     "data": {
      "text/plain": [
       "array([[0.99946813, 0.98608023, 0.98608023, 0.99946813, 0.99999953,\n",
       "        1.        , 1.        , 0.99999953],\n",
       "       [0.98608023, 0.6356976 , 0.6356976 , 0.98608023, 0.99998783,\n",
       "        1.        , 1.        , 0.99998783],\n",
       "       [0.98608023, 0.6356976 , 0.6356976 , 0.98608023, 0.99998783,\n",
       "        1.        , 1.        , 0.99998783],\n",
       "       [0.99946813, 0.98608023, 0.98608023, 0.99946813, 0.99999953,\n",
       "        1.        , 1.        , 0.99999953],\n",
       "       [0.99999953, 0.99998783, 0.99998783, 0.99999953, 1.        ,\n",
       "        1.        , 1.        , 1.        ],\n",
       "       [1.        , 1.        , 1.        , 1.        , 1.        ,\n",
       "        1.        , 1.        , 1.        ],\n",
       "       [1.        , 1.        , 1.        , 1.        , 1.        ,\n",
       "        1.        , 1.        , 1.        ],\n",
       "       [0.99999953, 0.99998783, 0.99998783, 0.99999953, 1.        ,\n",
       "        1.        , 1.        , 1.        ]])"
      ]
     },
     "execution_count": 141,
     "metadata": {},
     "output_type": "execute_result"
    }
   ],
   "source": [
    "def restriction2(fxl):\n",
    "    #restricts or averages from l to l-1\n",
    "    fx = np.copy(fxl)\n",
    "    N = len(fxl[0]);\n",
    "    I=2; J=2;\n",
    "    for i in range(N):\n",
    "        if (i%2 == 1):\n",
    "            J = 2\n",
    "            for j in range(N):\n",
    "                if (j%2 == 1):\n",
    "                    val = 0.25*(fxl[i-1][j] + fxl[i][j] + fxl[i-1][j-1] + fxl[i][j-1]); \n",
    "                    fx[I][J] = val\n",
    "                    J = J + 1\n",
    "            I = I+1;\n",
    "    #with bc\n",
    "    I = I-2\n",
    "    J = J-2\n",
    "    for i in range(I):\n",
    "        _i = i + 2\n",
    "        for j in range(2):\n",
    "            _j = j + 2;\n",
    "            _b = -(j+1) + 2\n",
    "            fx[_i][_b] = fx[_i][_j]\n",
    "            _b = j + 2 + J\n",
    "            _j = -(j+1) + 2 + J\n",
    "            fx[_i][_b] = fx[_i][_j]\n",
    "    for j in range(J+4):\n",
    "        _j = j\n",
    "        for i in range(2):\n",
    "            _i = i + 2;\n",
    "            _b = -(i+1) + 2\n",
    "            fx[_b][_j] = fx[_i][_j]\n",
    "            _b = i + 2 + I\n",
    "            _i = -(i+1) + 2 + I\n",
    "            fx[_b][_j] = fx[_i][_j]\n",
    "    return fx;\n",
    "\n",
    "#downsample at level 2 (with 2 ghost layers at each boundary)\n",
    "downsample = restriction2 (FX3)\n",
    "downsample"
   ]
  },
  {
   "cell_type": "code",
   "execution_count": 142,
   "metadata": {},
   "outputs": [
    {
     "data": {
      "text/plain": [
       "array([[0.63212056, 0.99326205, 0.99999774, 1.        ],\n",
       "       [0.99326205, 0.99987659, 0.99999996, 1.        ],\n",
       "       [0.99999774, 0.99999996, 1.        , 1.        ],\n",
       "       [1.        , 1.        , 1.        , 1.        ]])"
      ]
     },
     "execution_count": 142,
     "metadata": {},
     "output_type": "execute_result"
    }
   ],
   "source": [
    "x2 = quadtree(2)[0]\n",
    "y2 = quadtree(2)[1]\n",
    "\n",
    "#exact vaalue at level 3\n",
    "FX2 = FX(x2,y2)\n",
    "FX2"
   ]
  },
  {
   "cell_type": "code",
   "execution_count": 143,
   "metadata": {},
   "outputs": [
    {
     "data": {
      "text/plain": [
       "array([[0.375, 0.125, 0.125, 0.375, 0.625, 0.875, 0.875, 0.625],\n",
       "       [0.375, 0.125, 0.125, 0.375, 0.625, 0.875, 0.875, 0.625],\n",
       "       [0.375, 0.125, 0.125, 0.375, 0.625, 0.875, 0.875, 0.625],\n",
       "       [0.375, 0.125, 0.125, 0.375, 0.625, 0.875, 0.875, 0.625],\n",
       "       [0.375, 0.125, 0.125, 0.375, 0.625, 0.875, 0.875, 0.625],\n",
       "       [0.375, 0.125, 0.125, 0.375, 0.625, 0.875, 0.875, 0.625],\n",
       "       [0.375, 0.125, 0.125, 0.375, 0.625, 0.875, 0.875, 0.625],\n",
       "       [0.375, 0.125, 0.125, 0.375, 0.625, 0.875, 0.875, 0.625]])"
      ]
     },
     "execution_count": 143,
     "metadata": {},
     "output_type": "execute_result"
    }
   ],
   "source": [
    "#irrelavan section\n",
    "restriction2(quadtree(3)[0])"
   ]
  },
  {
   "cell_type": "code",
   "execution_count": 144,
   "metadata": {},
   "outputs": [
    {
     "data": {
      "text/plain": [
       "array([[0.6356976 , 0.72329326, 0.89848457, 0.98955713, 0.99651093,\n",
       "        0.99999087, 0.99999696, 1.        ],\n",
       "       [0.72329326, 0.78982675, 0.92289372, 0.99206809, 0.99734987,\n",
       "        0.99999307, 0.99999769, 1.        ],\n",
       "       [0.89848457, 0.92289372, 0.97171201, 0.99709002, 0.99902775,\n",
       "        0.99999746, 0.99999915, 1.        ],\n",
       "       [0.98955713, 0.99206809, 0.99709002, 0.99970065, 0.99989998,\n",
       "        0.99999974, 0.99999991, 1.        ],\n",
       "       [0.99651093, 0.99734987, 0.99902775, 0.99989998, 0.99996658,\n",
       "        0.99999991, 0.99999997, 1.        ],\n",
       "       [0.99999087, 0.99999307, 0.99999746, 0.99999974, 0.99999991,\n",
       "        1.        , 1.        , 1.        ],\n",
       "       [0.99999696, 0.99999769, 0.99999915, 0.99999991, 0.99999997,\n",
       "        1.        , 1.        , 1.        ],\n",
       "       [1.        , 1.        , 1.        , 1.        , 1.        ,\n",
       "        1.        , 1.        , 1.        ]])"
      ]
     },
     "execution_count": 144,
     "metadata": {},
     "output_type": "execute_result"
    }
   ],
   "source": [
    "def prolongation(fx_c):\n",
    "    #interpolates from l-1 to l\n",
    "    N = len(fx_c[0]);\n",
    "    fx = np.copy(fx_c)\n",
    "    N2 = int(N/2)\n",
    "    for i in range(N2):\n",
    "        for j in range(N2):\n",
    "            _i = i + 2\n",
    "            _j = j + 2;\n",
    "            for ic in range(2):\n",
    "                for jc in range(2):\n",
    "                    __i = _i-1 if (ic == 0) else _i+1\n",
    "                    __j = _j-1 if (jc == 0) else _j+1\n",
    "                    #prolongation\n",
    "                    fx[2*i+ic][2*j+jc] = (fx_c[__i][__j] + 3*(fx_c[__i][_j]+ fx_c[_i][__j]) + 9*fx_c[_i][_j])/16.\n",
    "    return fx;\n",
    "\n",
    "upsample  = prolongation(downsample)\n",
    "upsample"
   ]
  },
  {
   "cell_type": "code",
   "execution_count": 145,
   "metadata": {},
   "outputs": [
    {
     "data": {
      "text/plain": [
       "array([[0.22119922, 0.7134952 , 0.96122579, 0.99806955, 0.99996464,\n",
       "        0.99999976, 1.        , 1.        ],\n",
       "       [0.7134952 , 0.89460078, 0.98573577, 0.99928983, 0.99998699,\n",
       "        0.99999991, 1.        , 1.        ],\n",
       "       [0.96122579, 0.98573577, 0.99806955, 0.99990389, 0.99999824,\n",
       "        0.99999999, 1.        , 1.        ],\n",
       "       [0.99806955, 0.99928983, 0.99990389, 0.99999521, 0.99999991,\n",
       "        1.        , 1.        , 1.        ],\n",
       "       [0.99996464, 0.99998699, 0.99999824, 0.99999991, 1.        ,\n",
       "        1.        , 1.        , 1.        ],\n",
       "       [0.99999976, 0.99999991, 0.99999999, 1.        , 1.        ,\n",
       "        1.        , 1.        , 1.        ],\n",
       "       [1.        , 1.        , 1.        , 1.        , 1.        ,\n",
       "        1.        , 1.        , 1.        ],\n",
       "       [1.        , 1.        , 1.        , 1.        , 1.        ,\n",
       "        1.        , 1.        , 1.        ]])"
      ]
     },
     "execution_count": 145,
     "metadata": {},
     "output_type": "execute_result"
    }
   ],
   "source": [
    "FX3"
   ]
  },
  {
   "cell_type": "code",
   "execution_count": 146,
   "metadata": {},
   "outputs": [
    {
     "data": {
      "text/plain": [
       "array([[4.14498383e-01, 9.79805471e-03, 6.27412179e-02, 8.51241471e-03,\n",
       "        3.45371389e-03, 8.89131568e-06, 3.04272844e-06, 2.01589301e-10],\n",
       "       [9.79805471e-03, 1.04774030e-01, 6.28420457e-02, 7.22173112e-03,\n",
       "        2.63712506e-03, 6.84673063e-06, 2.31134281e-06, 1.53328461e-10],\n",
       "       [6.27412179e-02, 6.28420457e-02, 2.63575331e-02, 2.81386719e-03,\n",
       "        9.70493934e-04, 2.53215293e-06, 8.48012831e-07, 5.62975222e-11],\n",
       "       [8.51241471e-03, 7.22173112e-03, 2.81386719e-03, 2.94563747e-04,\n",
       "        9.99279350e-05, 2.61111618e-07, 8.72364484e-08, 5.79269965e-12],\n",
       "       [3.45371389e-03, 2.63712506e-03, 9.70493934e-04, 9.99279350e-05,\n",
       "        3.34146423e-05, 8.74266013e-08, 2.91470695e-08, 1.93578487e-12],\n",
       "       [8.89131568e-06, 6.84673063e-06, 2.53215293e-06, 2.61111618e-07,\n",
       "        8.74266013e-08, 2.28717045e-10, 7.62664376e-11, 4.99600361e-15],\n",
       "       [3.04272844e-06, 2.31134281e-06, 8.48012831e-07, 8.72364484e-08,\n",
       "        2.91470695e-08, 7.62664376e-11, 2.54233301e-11, 1.66533454e-15],\n",
       "       [2.01589190e-10, 1.53328461e-10, 5.62975222e-11, 5.79269965e-12,\n",
       "        1.93578487e-12, 4.99600361e-15, 1.66533454e-15, 0.00000000e+00]])"
      ]
     },
     "execution_count": 146,
     "metadata": {},
     "output_type": "execute_result"
    }
   ],
   "source": [
    "error = abs(upsample - FX3)\n",
    "error"
   ]
  },
  {
   "cell_type": "code",
   "execution_count": null,
   "metadata": {},
   "outputs": [],
   "source": []
  },
  {
   "cell_type": "code",
   "execution_count": 147,
   "metadata": {},
   "outputs": [
    {
     "data": {
      "text/plain": [
       "<matplotlib.contour.QuadContourSet at 0x1fb6c297f10>"
      ]
     },
     "execution_count": 147,
     "metadata": {},
     "output_type": "execute_result"
    },
    {
     "data": {
      "image/png": "[encoded data removed]",
      "text/plain": [
       "<Figure size 432x288 with 1 Axes>"
      ]
     },
     "metadata": {
      "needs_background": "light"
     },
     "output_type": "display_data"
    }
   ],
   "source": [
    "from mpl_toolkits.mplot3d import Axes3D  \n",
    "# Axes3D import has side effects, it enables using projection='3d' in add_subplot\n",
    "import matplotlib.pyplot as plt\n",
    "\n",
    "\n",
    "\n",
    "fig = plt.figure()\n",
    "ax = fig.add_subplot(111, projection='3d')\n",
    "\n",
    "\n",
    "#ax.plot_surface(x, y, FX3)\n",
    "ax.contourf(x3, y3, error)"
   ]
  },
  {
   "cell_type": "code",
   "execution_count": 8,
   "metadata": {},
   "outputs": [
    {
     "data": {
      "text/plain": [
       "[0.0029849477689738754,\n",
       " 0.05117684480092002,\n",
       " 0.3370492643007508,\n",
       " 0.8620364182326757,\n",
       " 0.8620364182326757,\n",
       " 0.3370492643007508,\n",
       " 0.05117684480092002,\n",
       " 0.0029849477689738754]"
      ]
     },
     "execution_count": 8,
     "metadata": {},
     "output_type": "execute_result"
    }
   ],
   "source": [
    "#restricted to coarser level\n"
   ]
  },
  {
   "cell_type": "code",
   "execution_count": null,
   "metadata": {},
   "outputs": [],
   "source": []
  }
 ],
 "metadata": {
  "kernelspec": {
   "display_name": "Python 3",
   "language": "python",
   "name": "python3"
  },
  "language_info": {
   "codemirror_mode": {
    "name": "ipython",
    "version": 3
   },
   "file_extension": ".py",
   "mimetype": "text/x-python",
   "name": "python",
   "nbconvert_exporter": "python",
   "pygments_lexer": "ipython3",
   "version": "3.8.5"
  }
 },
 "nbformat": 4,
 "nbformat_minor": 4
}
