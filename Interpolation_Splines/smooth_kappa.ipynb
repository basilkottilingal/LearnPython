{
 "cells": [
  {
   "cell_type": "code",
   "execution_count": 31,
   "metadata": {},
   "outputs": [],
   "source": [
    "import numpy as np\n",
    "import matplotlib as mpl\n",
    "from matplotlib import pyplot as plt\n",
    "from scipy.optimize import minimize "
   ]
  },
  {
   "cell_type": "code",
   "execution_count": 32,
   "metadata": {},
   "outputs": [],
   "source": [
    "x0 = np.array([2., 0.])\n",
    "x1 = np.array([2., 1.])\n",
    "x2 = np.array([2., 2.])\n",
    "x3 = np.array([1., 2.])\n",
    "x4 = np.array([0., 2.])\n",
    "x5 = np.array([0., 1.])\n",
    "x6 = np.array([0., 0.])"
   ]
  },
  {
   "cell_type": "code",
   "execution_count": 33,
   "metadata": {},
   "outputs": [],
   "source": [
    "def norm(a):\n",
    "    return np.linalg.norm(a);\n",
    "\n",
    "def normal(t):\n",
    "    tx, ty = t\n",
    "    n = np.array([-ty, tx]);\n",
    "    return n\n",
    "\n",
    "def tangent(a, b, c):\n",
    "    d1 = norm(b-a);\n",
    "    d2 = norm(c-b)\n",
    "    t = -a*d2/d1/(d1+d2) -b*(d1-d2)/d1/d2 + c*d1/d2/(d1+d2);\n",
    "    l = norm(t);\n",
    "    return (t/l)\n",
    "\n",
    "def kappa(t1, t2, a, b):\n",
    "    n = normal(b-a);  \n",
    "    kn = t2 - t1;\n",
    "    kappa = norm(kn)*np.sign(np.dot(kn,n))/norm(n);\n",
    "    return kappa;\n",
    "    \n",
    "def tangent2(ta, tb, a, b):\n",
    "    n = tb - ta;\n",
    "    n = n*np.sign(kappa(ta, tb, a, b))/norm(n);\n",
    "    t = -normal(n);\n",
    "    return t;\n",
    "\n",
    "def centroid(a,b):\n",
    "    c = (a+b)*0.5\n",
    "    return c;\n",
    "   "
   ]
  },
  {
   "cell_type": "code",
   "execution_count": 34,
   "metadata": {},
   "outputs": [],
   "source": [
    "def Hermite(a,b,ta,tb,s):\n",
    "    l = norm(a-b);\n",
    "    return ((2*(a-b) + l*(ta+tb))*s*s*s + (-3*(a-b) - l*(2*ta+tb))*s*s +  l*ta*s + a)\n",
    "\n",
    "def dHermite(a,b,ta,tb,s):\n",
    "    l = norm(a-b);\n",
    "    t = 3*(2*(a-b)/l + (ta+tb))*s*s + 2*(-3*(a-b)/l - (2*ta+tb))*s +  ta\n",
    "    return (t/norm(t))"
   ]
  },
  {
   "cell_type": "code",
   "execution_count": 43,
   "metadata": {},
   "outputs": [],
   "source": [
    "def kappa5(a,b,c,d,e):\n",
    "    tb = tangent(a,b,c);\n",
    "    tc = tangent(b,c,d);\n",
    "    td = tangent(c,d,e);\n",
    "    xl = Hermite(b,c,tb,tc,0.5);\n",
    "    xr = Hermite(c,d,tc,td,0.5);\n",
    "    tl = dHermite(b,c,tb,tc,0.5);\n",
    "    tr = dHermite(c,d,tc,td,0.5);\n",
    "    return (kappa(tl, tr, xl, xr))\n",
    "def kappa4(a,b,c,d):\n",
    "    tb = tangent(a,b,c);\n",
    "    tc = tangent(b,c,d);\n",
    "    return (kappa(tb, tc, b, c))"
   ]
  },
  {
   "cell_type": "code",
   "execution_count": 44,
   "metadata": {},
   "outputs": [
    {
     "name": "stdout",
     "output_type": "stream",
     "text": [
      "2.0827809312064964 -0.30287389694495154 2.0827809312064964\n"
     ]
    }
   ],
   "source": [
    "print(kappa5(x0,x1,x2,x3,x4), kappa5(x1,x2,x3,x4,x5), kappa5(x2,x3,x4,x5,x6))"
   ]
  },
  {
   "cell_type": "code",
   "execution_count": 45,
   "metadata": {},
   "outputs": [],
   "source": [
    "#p0 = np.array([0.,0.]);\n",
    "u0 = 0.;\n",
    "def objective(u): \n",
    "    n = normal(tangent(x2,x3,x4));\n",
    "    v = u*n;\n",
    "    kl = kappa5(x0,x1,x2,x3+v,x4);\n",
    "    km = kappa5(x1,x2,x3+v,x4,x5);\n",
    "    kr = kappa5(x2,x3+v,x4,x5,x6);\n",
    "    o = np.power(2*km-kl-kr, 2);\n",
    "    return o;\n",
    "\n",
    "def objective2(u): \n",
    "    n = normal(tangent(x2,x3,x4));\n",
    "    v = u*n;\n",
    "    kl = kappa4(x1,x2,x3+v,x4);\n",
    "    km = kappa5(x1,x2,x3+v,x4,x5);\n",
    "    kr = kappa4(x2,x3+v,x4,x5);\n",
    "    o = np.power(2*km-kl-kr, 2);\n",
    "    return o;"
   ]
  },
  {
   "cell_type": "code",
   "execution_count": 49,
   "metadata": {},
   "outputs": [
    {
     "name": "stdout",
     "output_type": "stream",
     "text": [
      "Optimization terminated successfully.\n",
      "         Current function value: 0.000000\n",
      "         Iterations: 37\n",
      "         Function evaluations: 74\n",
      "Optimization terminated successfully.\n",
      "         Current function value: 0.000000\n",
      "         Iterations: 36\n",
      "         Function evaluations: 72\n"
     ]
    }
   ],
   "source": [
    "objective(u0)\n",
    "res = minimize(objective, u0, method='nelder-mead',\n",
    "               options={'xatol': 1e-8, 'disp': True})\n",
    "ua = res.x\n",
    "objective2(u0)\n",
    "res = minimize(objective2, u0, method='nelder-mead',\n",
    "               options={'xatol': 1e-8, 'disp': True})\n",
    "ub = res.x"
   ]
  },
  {
   "cell_type": "code",
   "execution_count": 50,
   "metadata": {},
   "outputs": [],
   "source": [
    "X0 = np.array([x0,x1,x2,x3,x4,x5,x6]); X0 = np.transpose(X0)\n",
    "n_x3 = normal(tangent(x2,x3,x4))\n",
    "Xfa = np.array([x0,x1,x2,x3+ua*n_x3,x4,x5,x6]); Xfa = np.transpose(Xfa)\n",
    "Xfb = np.array([x0,x1,x2,x3+ua*n_x3,x4,x5,x6]); Xfb = np.transpose(Xfb)"
   ]
  },
  {
   "cell_type": "code",
   "execution_count": 51,
   "metadata": {},
   "outputs": [
    {
     "data": {
      "image/png": "[encoded data removed]",
      "text/plain": [
       "<Figure size 432x288 with 1 Axes>"
      ]
     },
     "metadata": {
      "needs_background": "light"
     },
     "output_type": "display_data"
    }
   ],
   "source": [
    "P0,Q0 = X0\n",
    "Pfa,Qfa = Xfa\n",
    "Pfb,Qfb = Xfb\n",
    "\n",
    "fig, ax1 = plt.subplots()\n",
    "\n",
    "ax1.set_xlabel(\"x\")\n",
    "ax1.set_ylabel(\"y\")\n",
    "ax1.plot(P0,Q0, linewidth = 0.7, label = \"initial\")\n",
    "ax1.plot(Pfa,Qfa, linewidth = 0.7, label = \"after smoothing (A)\")\n",
    "ax1.plot(Pfb,Qfb, linewidth = 0.7, label = \"after smoothing (B)\")\n",
    "\n",
    "\n",
    "ax1.legend(loc = \"lower right\")\n",
    "\n",
    "fig.tight_layout()  # otherwise the right y-label is slightly clipped\n",
    "\n",
    "plt.show()"
   ]
  },
  {
   "cell_type": "code",
   "execution_count": 42,
   "metadata": {},
   "outputs": [
    {
     "name": "stdout",
     "output_type": "stream",
     "text": [
      "0.9615568270833977 0.961556821072352 0.9615568270833976\n"
     ]
    }
   ],
   "source": [
    "print(kappa5(x0,x1,x2,x3+n_x3*uf,x4), kappa5(x1,x2,x3+n_x3*uf,x4,x5), kappa5(x2,x3+n_x3*uf,x4,x5,x6))"
   ]
  },
  {
   "cell_type": "code",
   "execution_count": null,
   "metadata": {},
   "outputs": [],
   "source": []
  }
 ],
 "metadata": {
  "kernelspec": {
   "display_name": "Python 3",
   "language": "python",
   "name": "python3"
  },
  "language_info": {
   "codemirror_mode": {
    "name": "ipython",
    "version": 3
   },
   "file_extension": ".py",
   "mimetype": "text/x-python",
   "name": "python",
   "nbconvert_exporter": "python",
   "pygments_lexer": "ipython3",
   "version": "3.8.5"
  }
 },
 "nbformat": 4,
 "nbformat_minor": 4
}
