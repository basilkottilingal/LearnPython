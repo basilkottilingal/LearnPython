{
 "cells": [
  {
   "cell_type": "code",
   "execution_count": 1,
   "metadata": {},
   "outputs": [],
   "source": [
    "import numpy as np\n",
    "import matplotlib as mpl\n",
    "from matplotlib import pyplot as plt\n",
    "from scipy.optimize import minimize as min"
   ]
  },
  {
   "cell_type": "code",
   "execution_count": 2,
   "metadata": {},
   "outputs": [],
   "source": [
    "x0 = np.array([4., 0.])\n",
    "x1 = np.array([3., 1.])\n",
    "x2 = np.array([2., 1.])\n",
    "x3 = np.array([1., 1.])\n",
    "x4 = np.array([0., 0.])"
   ]
  },
  {
   "cell_type": "code",
   "execution_count": 3,
   "metadata": {},
   "outputs": [],
   "source": [
    "def norm(a):\n",
    "    return np.linalg.norm(a);\n",
    "\n",
    "def normal(t):\n",
    "    tx, ty = t\n",
    "    n = np.array([-ty, tx]);\n",
    "    return n\n",
    "\n",
    "def tangent(a, b, c):\n",
    "    d1 = norm(b-a);\n",
    "    d2 = norm(c-b)\n",
    "    t = -a*d2/d1/(d1+d2) -b*(d1-d2)/d1/d2 + c*d1/d2/(d1+d2);\n",
    "    l = norm(t);\n",
    "    return (t/l)\n",
    "\n",
    "def kappa(t1, t2, a, b):\n",
    "    n = normal(b-a);  \n",
    "    kn = t2 - t1;\n",
    "    kappa = norm(kn)*np.sign(np.dot(kn,n))/norm(n);\n",
    "    return kappa;\n",
    "    \n",
    "def tangent2(ta, tb, a, b):\n",
    "    n = tb - ta;\n",
    "    n = n*np.sign(kappa(ta, tb, a, b))/norm(n);\n",
    "    t = -normal(n);\n",
    "    return t;\n",
    "\n",
    "def centroid(a,b):\n",
    "    c = (a+b)*0.5\n",
    "    return c;\n",
    "   "
   ]
  },
  {
   "cell_type": "code",
   "execution_count": 4,
   "metadata": {},
   "outputs": [],
   "source": [
    "def Hermite(a,b,ta,tb,s):\n",
    "    l = norm(a-b);\n",
    "    return ((2*(a-b) + l*(ta+tb))*s*s*s + (-3*(a-b) - l*(2*ta+tb))*s*s +  l*ta*s + a)\n",
    "\n",
    "def dHermite(a,b,ta,tb,s):\n",
    "    l = norm(a-b);\n",
    "    t = 3*(2*(a-b)/l + (ta+tb))*s*s + 2*(-3*(a-b)/l - (2*ta+tb))*s +  ta\n",
    "    return (t/norm(t))"
   ]
  },
  {
   "cell_type": "code",
   "execution_count": 5,
   "metadata": {},
   "outputs": [],
   "source": [
    "def objective(p): \n",
    "    #a, b, c, d, e, tl, tr):\n",
    "    a = x0;\n",
    "    b = x1;\n",
    "    c = x2 + p;\n",
    "    d = x3;\n",
    "    e = x4;\n",
    "    tb = tangent(a,b,c)\n",
    "    tc = tangent(b,c,d)\n",
    "    td = tangent(c,d,e)\n",
    "    #     tl = tangent2(tb,tc,b,c)\n",
    "    #     tr = tangent2(tc,td,c,d)\n",
    "    tl = dHermite(b,c,tb,tc,0.5)\n",
    "    tr = dHermite(c,d,tc,td,0.5)\n",
    "    tx, ty = tangent2(tl,tr,c,d)\n",
    "    nx, ny = normal(tc)\n",
    "    o = np.power(nx*tx+ny*ty, 2);\n",
    "    return o;"
   ]
  },
  {
   "cell_type": "code",
   "execution_count": 6,
   "metadata": {},
   "outputs": [
    {
     "name": "stdout",
     "output_type": "stream",
     "text": [
      "0.844757851193733 0.8494732774988195\n"
     ]
    }
   ],
   "source": [
    "p = np.array([0.,1.5])\n",
    "o = objective(p);\n",
    "\n",
    "a = x0;\n",
    "b = x1;\n",
    "c = x2 + p;\n",
    "d = x3;\n",
    "e = x4;\n",
    "tb = tangent(a,b,c)\n",
    "tc = tangent(b,c,d)\n",
    "td = tangent(c,d,e)\n",
    "\n",
    "tl = tangent2(tb,tc,b,c)\n",
    "tr = tangent2(tc,td,c,d)\n",
    "kl = kappa(tb,tc,b,c)\n",
    "kr = kappa(tc,td,c,d)\n",
    "xl = centroid(b,c)\n",
    "xr = centroid(c,d)\n",
    "\n",
    "km = kappa(tl, tr, xl, xr)\n",
    "km2 = kappa(tb, td, c, d)\n",
    "\n",
    "print(km, km2)"
   ]
  },
  {
   "cell_type": "code",
   "execution_count": 7,
   "metadata": {},
   "outputs": [
    {
     "data": {
      "text/plain": [
       "array([-0.42237893, -0.90641935])"
      ]
     },
     "execution_count": 7,
     "metadata": {},
     "output_type": "execute_result"
    }
   ],
   "source": [
    "normal(tl)"
   ]
  },
  {
   "cell_type": "code",
   "execution_count": 8,
   "metadata": {},
   "outputs": [],
   "source": [
    "X = np.array([x0, x1, x2+p, x3, x4])"
   ]
  },
  {
   "cell_type": "code",
   "execution_count": 9,
   "metadata": {},
   "outputs": [
    {
     "data": {
      "image/png": "[encoded data removed]",
      "text/plain": [
       "<Figure size 432x288 with 1 Axes>"
      ]
     },
     "metadata": {
      "needs_background": "light"
     },
     "output_type": "display_data"
    }
   ],
   "source": [
    "P,Q =np.transpose(X)\n",
    "fig, ax1 = plt.subplots()\n",
    "\n",
    "ax1.set_xlabel(\"x\")\n",
    "ax1.set_ylabel(\"y\")\n",
    "ax1.plot(P,Q, linewidth = 0.7, label = \"p5\")\n",
    "\n",
    "ax1.legend(loc = \"lower right\")\n",
    "\n",
    "fig.tight_layout()  # otherwise the right y-label is slightly clipped\n",
    "\n",
    "plt.show()"
   ]
  },
  {
   "cell_type": "code",
   "execution_count": 10,
   "metadata": {},
   "outputs": [
    {
     "data": {
      "text/plain": [
       "1.4142135623730951"
      ]
     },
     "execution_count": 10,
     "metadata": {},
     "output_type": "execute_result"
    }
   ],
   "source": [
    "np.linalg.norm(b-a)"
   ]
  },
  {
   "cell_type": "code",
   "execution_count": 171,
   "metadata": {},
   "outputs": [],
   "source": []
  },
  {
   "cell_type": "code",
   "execution_count": 172,
   "metadata": {},
   "outputs": [
    {
     "data": {
      "text/plain": [
       "array([-0.37032382,  0.92890272])"
      ]
     },
     "execution_count": 172,
     "metadata": {},
     "output_type": "execute_result"
    }
   ],
   "source": [
    "dHermite(b,c,tb,tc,0.5)"
   ]
  },
  {
   "cell_type": "code",
   "execution_count": null,
   "metadata": {},
   "outputs": [],
   "source": []
  }
 ],
 "metadata": {
  "kernelspec": {
   "display_name": "Python 3",
   "language": "python",
   "name": "python3"
  },
  "language_info": {
   "codemirror_mode": {
    "name": "ipython",
    "version": 3
   },
   "file_extension": ".py",
   "mimetype": "text/x-python",
   "name": "python",
   "nbconvert_exporter": "python",
   "pygments_lexer": "ipython3",
   "version": "3.8.5"
  }
 },
 "nbformat": 4,
 "nbformat_minor": 4
}
