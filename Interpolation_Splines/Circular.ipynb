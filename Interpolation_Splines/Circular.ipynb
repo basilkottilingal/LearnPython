{
 "cells": [
  {
   "cell_type": "code",
   "execution_count": 3,
   "metadata": {},
   "outputs": [],
   "source": [
    "import numpy as np\n",
    "import matplotlib as mpl\n",
    "from matplotlib import pyplot as plt"
   ]
  },
  {
   "cell_type": "code",
   "execution_count": 59,
   "metadata": {},
   "outputs": [],
   "source": [
    "x0 = np.array([0., 0.])\n",
    "x1 = np.array([0., 0.])\n",
    "R0 = 1.\n",
    "R1 = 1.2"
   ]
  },
  {
   "cell_type": "code",
   "execution_count": 60,
   "metadata": {},
   "outputs": [],
   "source": [
    "n0 = np.array([0., 1.]);\n",
    "n1 = np.array([1., 0.]);"
   ]
  },
  {
   "cell_type": "code",
   "execution_count": 71,
   "metadata": {},
   "outputs": [],
   "source": [
    "def circular(n0, n1, x0, x1, R0, R1, s):\n",
    "    n = n0*(1-s) + n1*s\n",
    "    nx, ny = n\n",
    "    l = np.power(nx*nx+ny*ny, 0.5);\n",
    "    R = R0*(1-s) + R1*s\n",
    "    x = x0*(1-s) + x1*s +n*R/l\n",
    "    return x;"
   ]
  },
  {
   "cell_type": "code",
   "execution_count": 111,
   "metadata": {},
   "outputs": [],
   "source": [
    "xx = circular(n0, n1, x0, x1, R0, R1, 0.5)\n",
    "s = np.arange(0., 1.0+0.000001, 0.01)\n",
    "x = []\n",
    "r, = np.shape(s)\n",
    "for i in range(r):\n",
    "    s2 = s[i]\n",
    "    y = circular(n0, n1, x0, x1, R0, R1, s2)\n",
    "    x.append(y)\n",
    "# #n = 0.5*n0 + 0.5*n1"
   ]
  },
  {
   "cell_type": "code",
   "execution_count": 121,
   "metadata": {},
   "outputs": [],
   "source": [
    "X = np.transpose(x)[0]\n",
    "Y = np.transpose(x)[1]"
   ]
  },
  {
   "cell_type": "code",
   "execution_count": 122,
   "metadata": {},
   "outputs": [
    {
     "data": {
      "image/png": "[encoded data removed]",
      "text/plain": [
       "<Figure size 432x288 with 1 Axes>"
      ]
     },
     "metadata": {
      "needs_background": "light"
     },
     "output_type": "display_data"
    }
   ],
   "source": [
    "fig, ax1 = plt.subplots()\n",
    "\n",
    "ax1.set_xlabel(\"x\")\n",
    "ax1.set_ylabel(\"y\")\n",
    "ax1.plot(X, Y, linewidth = 0.7, label = \"p5\")\n",
    "\n",
    "ax1.legend(loc = \"lower right\")\n",
    "\n",
    "fig.tight_layout()  # otherwise the right y-label is slightly clipped\n",
    "\n",
    "plt.show()"
   ]
  },
  {
   "cell_type": "code",
   "execution_count": null,
   "metadata": {},
   "outputs": [],
   "source": []
  },
  {
   "cell_type": "code",
   "execution_count": null,
   "metadata": {},
   "outputs": [],
   "source": []
  }
 ],
 "metadata": {
  "kernelspec": {
   "display_name": "Python 3",
   "language": "python",
   "name": "python3"
  },
  "language_info": {
   "codemirror_mode": {
    "name": "ipython",
    "version": 3
   },
   "file_extension": ".py",
   "mimetype": "text/x-python",
   "name": "python",
   "nbconvert_exporter": "python",
   "pygments_lexer": "ipython3",
   "version": "3.8.5"
  }
 },
 "nbformat": 4,
 "nbformat_minor": 4
}
