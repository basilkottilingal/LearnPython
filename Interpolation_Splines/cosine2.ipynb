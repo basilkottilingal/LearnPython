{
 "cells": [
  {
   "cell_type": "code",
   "execution_count": 47,
   "metadata": {},
   "outputs": [],
   "source": [
    "import numpy as np\n",
    "import matplotlib as mpl\n",
    "from matplotlib import pyplot as plt\n",
    "from scipy.optimize import minimize as min"
   ]
  },
  {
   "cell_type": "code",
   "execution_count": 53,
   "metadata": {},
   "outputs": [
    {
     "data": {
      "text/plain": [
       "(21,)"
      ]
     },
     "execution_count": 53,
     "metadata": {},
     "output_type": "execute_result"
    }
   ],
   "source": [
    "x = np.arange(0., 1.0+1.0E-10, 0.05)\n",
    "y = 0.01*np.cos(2.*np.pi*x)\n",
    "np.shape(x)"
   ]
  },
  {
   "cell_type": "code",
   "execution_count": 76,
   "metadata": {},
   "outputs": [],
   "source": [
    "def norm(a):\n",
    "    return np.linalg.norm(a);\n",
    "\n",
    "def normal(t):\n",
    "    tx, ty = t\n",
    "    n = np.array([-ty, tx]);\n",
    "    return n\n",
    "\n",
    "def tangent(a, b, c):\n",
    "    d1 = norm(b-a);\n",
    "    d2 = norm(c-b)\n",
    "    t = -a*d2/d1/(d1+d2) -b*(d1-d2)/d1/d2 + c*d1/d2/(d1+d2);\n",
    "    l = norm(t);\n",
    "    return (t/l)\n",
    "\n",
    "def kappa(t1, t2, a, b):\n",
    "    n = normal(b-a);  \n",
    "    kn = t2 - t1;\n",
    "    kappa = norm(kn)*np.sign(np.dot(kn,n))/norm(n);\n",
    "    return kappa;\n",
    "    \n",
    "def tangent2(ta, tb, a, b):\n",
    "    n = tb - ta;\n",
    "    n = n*np.sign(kappa(ta, tb, a, b))/norm(n);\n",
    "    t = -normal(n);\n",
    "    return t;\n",
    "\n",
    "def centroid(a,b):\n",
    "    c = (a+b)*0.5\n",
    "    return c;\n",
    "   \n",
    "def Hermite(a,b,ta,tb,s):\n",
    "    l = norm(a-b);\n",
    "    return ((2*(a-b) + l*(ta+tb))*s*s*s + (-3*(a-b) - l*(2*ta+tb))*s*s +  l*ta*s + a)\n",
    "\n",
    "def dHermite(a,b,ta,tb,s):\n",
    "    l = norm(a-b);\n",
    "    t = 3*(2*(a-b)/l + (ta+tb))*s*s + 2*(-3*(a-b)/l - (2*ta+tb))*s +  ta\n",
    "    return (t/norm(t))\n",
    "\n",
    "def kappa5(a,b,c,d,e):\n",
    "    tb = tangent(a,b,c);\n",
    "    tc = tangent(b,c,d);\n",
    "    td = tangent(c,d,e);\n",
    "    xl = Hermite(b,c,tb,tc,0.5);\n",
    "    xr = Hermite(c,d,tc,td,0.5);\n",
    "    tl = dHermite(b,c,tb,tc,0.5);\n",
    "    tr = dHermite(c,d,tc,td,0.5);\n",
    "    return (kappa(tl, tr, xl, xr))\n",
    "\n",
    "def kappa4(a,b,c,d):\n",
    "    tb = tangent(a,b,c);\n",
    "    tc = tangent(b,c,d);\n",
    "    return (kappa(tb, tc, b, c))"
   ]
  },
  {
   "cell_type": "code",
   "execution_count": 77,
   "metadata": {},
   "outputs": [
    {
     "data": {
      "text/plain": [
       "(21,)"
      ]
     },
     "execution_count": 77,
     "metadata": {},
     "output_type": "execute_result"
    }
   ],
   "source": [
    "y2 = y + 0.0005*np.random.normal(0,1,21)\n",
    "\n",
    "np.shape(y2) "
   ]
  },
  {
   "cell_type": "code",
   "execution_count": 78,
   "metadata": {
    "scrolled": true
   },
   "outputs": [
    {
     "data": {
      "image/png": "[encoded data removed]",
      "text/plain": [
       "<Figure size 432x288 with 1 Axes>"
      ]
     },
     "metadata": {
      "needs_background": "light"
     },
     "output_type": "display_data"
    }
   ],
   "source": [
    "fig, ax1 = plt.subplots()\n",
    "\n",
    "ax1.set_xlabel(\"x\")\n",
    "ax1.set_ylabel(\"y\")\n",
    "ax1.plot(x, y, linewidth = 0.7, label = \"smooth\")\n",
    "ax1.plot(x, y2, linewidth = 0.7, label = \"noise\")\n",
    "\n",
    "ax1.legend(loc = \"lower right\")\n",
    "\n",
    "fig.tight_layout()  # otherwise the right y-label is slightly clipped\n",
    "\n",
    "plt.show()"
   ]
  },
  {
   "cell_type": "code",
   "execution_count": 79,
   "metadata": {},
   "outputs": [
    {
     "data": {
      "image/png": "[encoded data removed]",
      "text/plain": [
       "<Figure size 432x288 with 1 Axes>"
      ]
     },
     "metadata": {
      "needs_background": "light"
     },
     "output_type": "display_data"
    }
   ],
   "source": [
    "fig, ax1 = plt.subplots()\n",
    "\n",
    "ax1.set_xlabel(\"x\")\n",
    "ax1.set_ylabel(\"y\")\n",
    "ax1.plot(x, y, linewidth = 0.7, label = \"smooth\")\n",
    "ax1.plot(x, y2, linewidth = 0.7, label = \"noise\")\n",
    "ax1.set_xlim(left=0.45, right=0.55);\n",
    "\n",
    "ax1.legend(loc = \"lower right\")\n",
    "\n",
    "fig.tight_layout()  # otherwise the right y-label is slightly clipped\n",
    "\n",
    "plt.show()"
   ]
  },
  {
   "cell_type": "code",
   "execution_count": 91,
   "metadata": {},
   "outputs": [],
   "source": [
    "def boundary(x,y):\n",
    "    xb = []\n",
    "    yb = []\n",
    "    for i_ in range(5):\n",
    "        i = 5-i_;\n",
    "        xb.append(-x[i])\n",
    "        yb.append(y[i])\n",
    "    l, = np.shape(x)\n",
    "    for i in range(l):\n",
    "        xb.append(x[i])\n",
    "        yb.append(y[i])\n",
    "    for i_ in range(5):\n",
    "        i = (l-2)-i_\n",
    "        xb.append(2.0-x[i])\n",
    "        yb.append(y[i])\n",
    "    return xb,yb\n",
    "def boundary_symm(s):\n",
    "    sb = []\n",
    "    for i_ in range(5):\n",
    "        i = 5-i_;\n",
    "        sb.append(s[i])\n",
    "    l, = np.shape(s)\n",
    "    for i in range(l):\n",
    "        sb.append(s[i])\n",
    "    for i_ in range(5):\n",
    "        i = (l-2)-i_\n",
    "        sb.append(s[i])\n",
    "    return sb\n",
    "\n",
    "def kappa5_vector(xb,yb):\n",
    "    l, = np.shape(xb);\n",
    "    l = l - 10;\n",
    "    k = []\n",
    "    for i_ in range(l):\n",
    "        i = i_ + 5;\n",
    "        a = np.array([xb[i-2],yb[i-2]]);\n",
    "        b = np.array([xb[i-1],yb[i-1]]);\n",
    "        c = np.array([xb[i],yb[i]]);\n",
    "        d = np.array([xb[i+1],yb[i+1]]);\n",
    "        e = np.array([xb[i+2],yb[i+2]]);\n",
    "        k.append(kappa5(a,b,c,d,e))\n",
    "    return k;\n",
    "def kappa5_vector(xb,yb):\n",
    "    l, = np.shape(xb);\n",
    "    l = l - 10;\n",
    "    k = []\n",
    "    for i_ in range(l):\n",
    "        i = i_ + 5;\n",
    "        a = np.array([xb[i-2],yb[i-2]]);\n",
    "        b = np.array([xb[i-1],yb[i-1]]);\n",
    "        c = np.array([xb[i],yb[i]]);\n",
    "        d = np.array([xb[i+1],yb[i+1]]);\n",
    "        e = np.array([xb[i+2],yb[i+2]]);\n",
    "        k.append(kappa5(a,b,c,d,e))\n",
    "    return k;\n",
    "\n",
    "def dk_ds_vector(xb,yb):\n",
    "    l, = np.shape(xb);\n",
    "    l = l - 10;\n",
    "    k = []\n",
    "    for i_ in range(l):\n",
    "        i = i_ + 5;\n",
    "        a = np.array([xb[i-2],yb[i-2]]);\n",
    "        b = np.array([xb[i-1],yb[i-1]]);\n",
    "        c = np.array([xb[i],yb[i]]);\n",
    "        d = np.array([xb[i+1],yb[i+1]]);\n",
    "        e = np.array([xb[i+2],yb[i+2]]);\n",
    "        k.append(kappa5(a,b,c,d,e))\n",
    "    return k;\n",
    "\n",
    "xb,yb = boundary(x,y)\n",
    "\n",
    "kappav = kappa_vector(xb,yb)\n"
   ]
  },
  {
   "cell_type": "code",
   "execution_count": 92,
   "metadata": {},
   "outputs": [
    {
     "data": {
      "image/png": "[encoded data removed]",
      "text/plain": [
       "<Figure size 432x288 with 1 Axes>"
      ]
     },
     "metadata": {
      "needs_background": "light"
     },
     "output_type": "display_data"
    }
   ],
   "source": [
    "fig, ax1 = plt.subplots()\n",
    "\n",
    "ax1.set_xlabel(\"x\")\n",
    "ax1.set_ylabel(\"y\")\n",
    "ax1.plot(x, kappav, linewidth = 0.7, label = \"bdry\")\n",
    "#ax1.set_xlim(left=0.45, right=0.55);\n",
    "\n",
    "ax1.legend(loc = \"lower right\")\n",
    "\n",
    "fig.tight_layout()  # otherwise the right y-label is slightly clipped\n",
    "\n",
    "plt.show()"
   ]
  },
  {
   "cell_type": "code",
   "execution_count": null,
   "metadata": {},
   "outputs": [],
   "source": [
    "\n",
    "def dkds(xb,yb):\n",
    "    l, = np.shape(xb);\n",
    "    l = l - 10;\n",
    "    for i_ in range(l):\n",
    "        i = i_ + 5;\n",
    "        \n",
    "    \n",
    "\n",
    "z = []\n",
    "ie_, = np.shape(x);\n",
    "ie_ = ie_ - 2\n",
    "for i_ in range(ie_):\n",
    "    i = i_ + 1 \n",
    "    z.append(i)\n",
    "\n",
    "def dkappa(x,y):\n",
    "    r,  =np.shape(x);\n",
    "    x2 = [];\n",
    "    y2 = [];\n",
    "    for i in range():"
   ]
  }
 ],
 "metadata": {
  "kernelspec": {
   "display_name": "Python 3",
   "language": "python",
   "name": "python3"
  },
  "language_info": {
   "codemirror_mode": {
    "name": "ipython",
    "version": 3
   },
   "file_extension": ".py",
   "mimetype": "text/x-python",
   "name": "python",
   "nbconvert_exporter": "python",
   "pygments_lexer": "ipython3",
   "version": "3.8.5"
  }
 },
 "nbformat": 4,
 "nbformat_minor": 4
}
