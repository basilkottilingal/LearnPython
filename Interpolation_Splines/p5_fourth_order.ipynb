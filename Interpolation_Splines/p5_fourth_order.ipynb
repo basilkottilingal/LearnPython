{
 "cells": [
  {
   "cell_type": "code",
   "execution_count": 63,
   "metadata": {},
   "outputs": [],
   "source": [
    "import numpy as np\n",
    "import matplotlib as mpl\n",
    "from matplotlib import pyplot as plt"
   ]
  },
  {
   "cell_type": "code",
   "execution_count": 64,
   "metadata": {},
   "outputs": [],
   "source": [
    "th = np.arange(-np.pi/20, np.pi/20+0.00000001, np.pi/40);\n",
    "\n",
    "th = th + np.pi/2\n",
    "\n",
    "x = np.cos(th)\n",
    "y = np.sin(th)"
   ]
  },
  {
   "cell_type": "code",
   "execution_count": 65,
   "metadata": {},
   "outputs": [],
   "source": [
    "def poly5(x0, x1, x2, x3, x4, s1, s2, s3, s4, u):\n",
    "    return ((u-s1)*(u-s2)*(u-s3)*(u-s4)*x0/s1/s2/s3/s4 + \\\n",
    "                            (u)*(u-s2)*(u-s3)*(u-s4)*x1/s1/(s1-s2)/(s1-s3)/(s1-s4) + \\\n",
    "                            (u)*(u-s1)*(u-s3)*(u-s4)*x2/s2/(s2-s1)/(s2-s3)/(s2-s4)  + \\\n",
    "                            (u)*(u-s1)*(u-s2)*(u-s4)*x3/s3/(s3-s1)/(s3-s2)/(s3-s4) + \\\n",
    "                            (u)*(u-s1)*(u-s2)*(u-s3)*x4/s4/(s4-s1)/(s4-s2)/(s4-s3))\n",
    "\n",
    "\n",
    "s = np.arange(0, 4.00001, 1)\n",
    "u = np.arange(0, 4.00000000000001, 0.001)\n"
   ]
  },
  {
   "cell_type": "code",
   "execution_count": 66,
   "metadata": {},
   "outputs": [],
   "source": [
    "s0, s1, s2, s3, s4 = s\n",
    "x0, x1, x2, x3, x4 = x\n",
    "xi = poly5(x0, x1, x2, x3, x4, s1, s2, s3, s4, u)\n",
    "y0, y1, y2, y3, y4 = y\n",
    "yi = poly5(y0, y1, y2, y3, y4, s1, s2, s3, s4, u)"
   ]
  },
  {
   "cell_type": "code",
   "execution_count": 67,
   "metadata": {},
   "outputs": [
    {
     "data": {
      "image/png": "[encoded data removed]",
      "text/plain": [
       "<Figure size 432x288 with 1 Axes>"
      ]
     },
     "metadata": {
      "needs_background": "light"
     },
     "output_type": "display_data"
    }
   ],
   "source": [
    "fig, ax1 = plt.subplots()\n",
    "\n",
    "ax1.set_xlabel(\"x\")\n",
    "ax1.set_ylabel(\"y\")\n",
    "ax1.plot(xi, yi, linewidth = 0.7, label = \"p5\")\n",
    "\n",
    "ax1.legend(loc = \"lower right\")\n",
    "\n",
    "fig.tight_layout()  # otherwise the right y-label is slightly clipped\n",
    "\n",
    "plt.show()"
   ]
  },
  {
   "cell_type": "code",
   "execution_count": 68,
   "metadata": {},
   "outputs": [],
   "source": [
    "u2 = s\n",
    "xii = poly5(x0, x1, x2, x3, x4, s1, s2, s3, s4, u2)\n"
   ]
  },
  {
   "cell_type": "code",
   "execution_count": 62,
   "metadata": {},
   "outputs": [
    {
     "data": {
      "text/plain": [
       "array([ 1.56434465e-01,  7.84590957e-02,  6.12323400e-17, -7.84590957e-02,\n",
       "       -1.56434465e-01])"
      ]
     },
     "execution_count": 62,
     "metadata": {},
     "output_type": "execute_result"
    }
   ],
   "source": [
    "xii"
   ]
  },
  {
   "cell_type": "code",
   "execution_count": null,
   "metadata": {},
   "outputs": [],
   "source": []
  }
 ],
 "metadata": {
  "kernelspec": {
   "display_name": "Python 3",
   "language": "python",
   "name": "python3"
  },
  "language_info": {
   "codemirror_mode": {
    "name": "ipython",
    "version": 3
   },
   "file_extension": ".py",
   "mimetype": "text/x-python",
   "name": "python",
   "nbconvert_exporter": "python",
   "pygments_lexer": "ipython3",
   "version": "3.8.5"
  }
 },
 "nbformat": 4,
 "nbformat_minor": 4
}
