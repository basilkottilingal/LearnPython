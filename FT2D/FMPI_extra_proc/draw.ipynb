{
 "cells": [
  {
   "cell_type": "code",
   "execution_count": 2,
   "metadata": {},
   "outputs": [],
   "source": [
    "import numpy as np\n",
    "import matplotlib as mpl\n",
    "from matplotlib import pyplot as plt"
   ]
  },
  {
   "cell_type": "code",
   "execution_count": null,
   "metadata": {},
   "outputs": [],
   "source": []
  },
  {
   "cell_type": "code",
   "execution_count": 5,
   "metadata": {},
   "outputs": [
    {
     "name": "stderr",
     "output_type": "stream",
     "text": [
      "No handles with labels found to put in legend.\n"
     ]
    },
    {
     "data": {
      "text/plain": [
       "(1368, 2, 2)"
      ]
     },
     "execution_count": 5,
     "metadata": {},
     "output_type": "execute_result"
    },
    {
     "data": {
      "image/png": "[encoded data removed]",
      "text/plain": [
       "<Figure size 432x288 with 1 Axes>"
      ]
     },
     "metadata": {
      "needs_background": "light"
     },
     "output_type": "display_data"
    }
   ],
   "source": [
    "mpl.rcParams.update({'font.size': 14})\n",
    "fig, ax1 = plt.subplots()\n",
    "\n",
    "\n",
    "\n",
    "plt.title(\"Numerical Volume Splitting in VOF\")\n",
    "ax1.set_xlabel(\"x\")\n",
    "ax1.set_ylabel(\"y\")\n",
    "\n",
    "f = open('front-0', 'r')\n",
    "data = np.genfromtxt(f, delimiter=',')\n",
    "f.close()\n",
    "l, = np.shape(data);\n",
    "p = (int) (l/4);\n",
    "edges = np.reshape(data, (p,2,2))\n",
    "left = []; right = [];\n",
    "for i in range(p):\n",
    "    edge = np.copy(edges[i]);\n",
    "    ax1.plot(edge[0], edge[1], '--r', linewidth = 2.0)\n",
    "\n",
    "f = open('boxes-0', 'r')\n",
    "data = np.genfromtxt(f, delimiter=',')\n",
    "f.close()\n",
    "l, = np.shape(data);\n",
    "p = (int) (l/4);\n",
    "edges = np.reshape(data, (p,2,2))\n",
    "left = []; right = [];\n",
    "for i in range(p):\n",
    "    edge = np.copy(edges[i]);\n",
    "    ax1.plot(edge[0], edge[1], '--b', linewidth = 2.0)\n",
    "\n",
    "\n",
    "ax1.legend(loc = \"upper right\")\n",
    "\n",
    "xlim = [0.,1.]; ylim = xlim;\n",
    "ax1.set_xlim(xlim);\n",
    "ax1.set_ylim(ylim);\n",
    "\n",
    "fig.tight_layout()  # otherwise the right y-label is slightly clipped\n",
    "#plt.axes().set_aspect('equal', 'datalim')\n",
    "\n",
    "#plt.show()\n",
    "# plt.draw()\n",
    "plt.savefig('NumericalVolumeSplittingVOF_underresolved_.png')\n",
    "np.shape(edges)"
   ]
  },
  {
   "cell_type": "code",
   "execution_count": 20,
   "metadata": {},
   "outputs": [
    {
     "data": {
      "image/png": "[encoded data removed]",
      "text/plain": [
       "<Figure size 432x288 with 1 Axes>"
      ]
     },
     "metadata": {
      "needs_background": "light"
     },
     "output_type": "display_data"
    }
   ],
   "source": [
    "mpl.rcParams.update({'font.size': 14})\n",
    "fig, ax1 = plt.subplots()\n",
    "\n",
    "\n",
    "\n",
    "f = open('front-0', 'r')\n",
    "data = np.genfromtxt(f, delimiter=',')\n",
    "f.close()\n",
    "l, = np.shape(data);\n",
    "p = (int) (l/4);\n",
    "edges = np.reshape(data, (p,2,2))\n",
    "left = []; right = [];\n",
    "for i in range(p):\n",
    "    edge = np.copy(edges[i]);\n",
    "    ax1.plot(edge[0], edge[1], '--r', linewidth = 2.0)\n",
    "f = open('front-1', 'r')\n",
    "data = np.genfromtxt(f, delimiter=',')\n",
    "f.close()\n",
    "l, = np.shape(data);\n",
    "p = (int) (l/4);\n",
    "edges = np.reshape(data, (p,2,2))\n",
    "left = []; right = [];\n",
    "for i in range(p):\n",
    "    edge = np.copy(edges[i]);\n",
    "    ax1.plot(edge[0], edge[1], '--r', linewidth = 2.0)\n",
    "f = open('front-2', 'r')\n",
    "data = np.genfromtxt(f, delimiter=',')\n",
    "f.close()\n",
    "l, = np.shape(data);\n",
    "p = (int) (l/4);\n",
    "edges = np.reshape(data, (p,2,2))\n",
    "left = []; right = [];\n",
    "for i in range(p):\n",
    "    edge = np.copy(edges[i]);\n",
    "    ax1.plot(edge[0], edge[1], '--r', linewidth = 2.0)\n",
    "    \n",
    "\n",
    "f = open('boxes-0', 'r')\n",
    "data = np.genfromtxt(f, delimiter=',')\n",
    "f.close()\n",
    "l, = np.shape(data);\n",
    "p = (int) (l/4);\n",
    "edges = np.reshape(data, (p,2,2))\n",
    "left = []; right = [];\n",
    "for i in range(p):\n",
    "    edge = np.copy(edges[i]);\n",
    "    ax1.plot(edge[0], edge[1], '--b', linewidth = 0.05)\n",
    "f = open('boxes-1', 'r')\n",
    "data = np.genfromtxt(f, delimiter=',')\n",
    "f.close()\n",
    "l, = np.shape(data);\n",
    "p = (int) (l/4);\n",
    "edges = np.reshape(data, (p,2,2))\n",
    "left = []; right = [];\n",
    "for i in range(p):\n",
    "    edge = np.copy(edges[i]);\n",
    "    ax1.plot(edge[0], edge[1], '--b', linewidth = 0.05)\n",
    "f = open('boxes-2', 'r')\n",
    "data = np.genfromtxt(f, delimiter=',')\n",
    "f.close()\n",
    "l, = np.shape(data);\n",
    "p = (int) (l/4);\n",
    "edges = np.reshape(data, (p,2,2))\n",
    "left = []; right = [];\n",
    "for i in range(p):\n",
    "    edge = np.copy(edges[i]);\n",
    "    ax1.plot(edge[0], edge[1], '--b', linewidth = 0.05)\n",
    "\n",
    "\n",
    "\n",
    "xlim = [0.,1.]; ylim = xlim;\n",
    "ax1.set_xlim(xlim);\n",
    "ax1.set_ylim(ylim);\n",
    "\n",
    "fig.tight_layout()  # otherwise the right y-label is slightly clipped\n",
    "#plt.axes().set_aspect('equal', 'datalim')\n",
    "plt.axis('off')\n",
    "#plt.show()\n",
    "# plt.draw()\n",
    "plt.savefig('ExtraProc_pid0.png')"
   ]
  },
  {
   "cell_type": "code",
   "execution_count": 22,
   "metadata": {},
   "outputs": [
    {
     "data": {
      "text/plain": [
       "(1364, 2, 2)"
      ]
     },
     "execution_count": 22,
     "metadata": {},
     "output_type": "execute_result"
    },
    {
     "data": {
      "image/png": "[encoded data removed]",
      "text/plain": [
       "<Figure size 432x288 with 1 Axes>"
      ]
     },
     "metadata": {
      "needs_background": "light"
     },
     "output_type": "display_data"
    }
   ],
   "source": [
    "mpl.rcParams.update({'font.size': 14})\n",
    "fig, ax1 = plt.subplots()\n",
    "\n",
    "\n",
    "\n",
    "f = open('front-0', 'r')\n",
    "data = np.genfromtxt(f, delimiter=',')\n",
    "f.close()\n",
    "l, = np.shape(data);\n",
    "p = (int) (l/4);\n",
    "edges = np.reshape(data, (p,2,2))\n",
    "left = []; right = [];\n",
    "for i in range(p):\n",
    "    edge = np.copy(edges[i]);\n",
    "    ax1.plot(edge[0], edge[1], '--r', linewidth = 0.1)\n",
    "f = open('front-1', 'r')\n",
    "data = np.genfromtxt(f, delimiter=',')\n",
    "f.close()\n",
    "l, = np.shape(data);\n",
    "p = (int) (l/4);\n",
    "edges = np.reshape(data, (p,2,2))\n",
    "left = []; right = [];\n",
    "for i in range(p):\n",
    "    edge = np.copy(edges[i]);\n",
    "    ax1.plot(edge[0], edge[1], '--r', linewidth = 0.1)\n",
    "f = open('front-2', 'r')\n",
    "data = np.genfromtxt(f, delimiter=',')\n",
    "f.close()\n",
    "l, = np.shape(data);\n",
    "p = (int) (l/4);\n",
    "edges = np.reshape(data, (p,2,2))\n",
    "left = []; right = [];\n",
    "for i in range(p):\n",
    "    edge = np.copy(edges[i]);\n",
    "    ax1.plot(edge[0], edge[1], '--r', linewidth = 0.1)\n",
    "    \n",
    "\n",
    "f = open('boxes-0', 'r')\n",
    "data = np.genfromtxt(f, delimiter=',')\n",
    "f.close()\n",
    "l, = np.shape(data);\n",
    "p = (int) (l/4);\n",
    "edges = np.reshape(data, (p,2,2))\n",
    "left = []; right = [];\n",
    "for i in range(p):\n",
    "    edge = np.copy(edges[i]);\n",
    "    ax1.plot(edge[0], edge[1], '--b', linewidth = 2.)\n",
    "f = open('boxes-1', 'r')\n",
    "data = np.genfromtxt(f, delimiter=',')\n",
    "f.close()\n",
    "l, = np.shape(data);\n",
    "p = (int) (l/4);\n",
    "edges = np.reshape(data, (p,2,2))\n",
    "left = []; right = [];\n",
    "for i in range(p):\n",
    "    edge = np.copy(edges[i]);\n",
    "    ax1.plot(edge[0], edge[1], '--b', linewidth = 0.05)\n",
    "f = open('boxes-2', 'r')\n",
    "data = np.genfromtxt(f, delimiter=',')\n",
    "f.close()\n",
    "l, = np.shape(data);\n",
    "p = (int) (l/4);\n",
    "edges = np.reshape(data, (p,2,2))\n",
    "left = []; right = [];\n",
    "for i in range(p):\n",
    "    edge = np.copy(edges[i]);\n",
    "    ax1.plot(edge[0], edge[1], '--b', linewidth = 0.05)\n",
    "\n",
    "xlim = [0.,1.]; ylim = xlim;\n",
    "ax1.set_xlim(xlim);\n",
    "ax1.set_ylim(ylim);\n",
    "\n",
    "fig.tight_layout()  # otherwise the right y-label is slightly clipped\n",
    "#plt.axes().set_aspect('equal', 'datalim')\n",
    "plt.axis('off')\n",
    "#plt.show()\n",
    "# plt.draw()\n",
    "plt.savefig('pid1.png')\n",
    "np.shape(edges)"
   ]
  },
  {
   "cell_type": "code",
   "execution_count": 21,
   "metadata": {},
   "outputs": [
    {
     "data": {
      "text/plain": [
       "(1364, 2, 2)"
      ]
     },
     "execution_count": 21,
     "metadata": {},
     "output_type": "execute_result"
    },
    {
     "data": {
      "image/png": "[encoded data removed]",
      "text/plain": [
       "<Figure size 432x288 with 1 Axes>"
      ]
     },
     "metadata": {
      "needs_background": "light"
     },
     "output_type": "display_data"
    }
   ],
   "source": [
    "mpl.rcParams.update({'font.size': 14})\n",
    "fig, ax1 = plt.subplots()\n",
    "\n",
    "\n",
    "\n",
    "f = open('front-0', 'r')\n",
    "data = np.genfromtxt(f, delimiter=',')\n",
    "f.close()\n",
    "l, = np.shape(data);\n",
    "p = (int) (l/4);\n",
    "edges = np.reshape(data, (p,2,2))\n",
    "left = []; right = [];\n",
    "for i in range(p):\n",
    "    edge = np.copy(edges[i]);\n",
    "    ax1.plot(edge[0], edge[1], '--r', linewidth = 0.1)\n",
    "f = open('front-1', 'r')\n",
    "data = np.genfromtxt(f, delimiter=',')\n",
    "f.close()\n",
    "l, = np.shape(data);\n",
    "p = (int) (l/4);\n",
    "edges = np.reshape(data, (p,2,2))\n",
    "left = []; right = [];\n",
    "for i in range(p):\n",
    "    edge = np.copy(edges[i]);\n",
    "    ax1.plot(edge[0], edge[1], '--r', linewidth = 0.1)\n",
    "f = open('front-2', 'r')\n",
    "data = np.genfromtxt(f, delimiter=',')\n",
    "f.close()\n",
    "l, = np.shape(data);\n",
    "p = (int) (l/4);\n",
    "edges = np.reshape(data, (p,2,2))\n",
    "left = []; right = [];\n",
    "for i in range(p):\n",
    "    edge = np.copy(edges[i]);\n",
    "    ax1.plot(edge[0], edge[1], '--r', linewidth = 0.1)\n",
    "    \n",
    "\n",
    "f = open('boxes-0', 'r')\n",
    "data = np.genfromtxt(f, delimiter=',')\n",
    "f.close()\n",
    "l, = np.shape(data);\n",
    "p = (int) (l/4);\n",
    "edges = np.reshape(data, (p,2,2))\n",
    "left = []; right = [];\n",
    "for i in range(p):\n",
    "    edge = np.copy(edges[i]);\n",
    "    ax1.plot(edge[0], edge[1], '--b', linewidth = 0.05)\n",
    "f = open('boxes-1', 'r')\n",
    "data = np.genfromtxt(f, delimiter=',')\n",
    "f.close()\n",
    "l, = np.shape(data);\n",
    "p = (int) (l/4);\n",
    "edges = np.reshape(data, (p,2,2))\n",
    "left = []; right = [];\n",
    "for i in range(p):\n",
    "    edge = np.copy(edges[i]);\n",
    "    ax1.plot(edge[0], edge[1], '--b', linewidth = 2.)\n",
    "f = open('boxes-2', 'r')\n",
    "data = np.genfromtxt(f, delimiter=',')\n",
    "f.close()\n",
    "l, = np.shape(data);\n",
    "p = (int) (l/4);\n",
    "edges = np.reshape(data, (p,2,2))\n",
    "left = []; right = [];\n",
    "for i in range(p):\n",
    "    edge = np.copy(edges[i]);\n",
    "    ax1.plot(edge[0], edge[1], '--b', linewidth = 0.05)\n",
    "\n",
    "xlim = [0.,1.]; ylim = xlim;\n",
    "ax1.set_xlim(xlim);\n",
    "ax1.set_ylim(ylim);\n",
    "\n",
    "fig.tight_layout()  # otherwise the right y-label is slightly clipped\n",
    "#plt.axes().set_aspect('equal', 'datalim')\n",
    "plt.axis('off')\n",
    "#plt.show()\n",
    "# plt.draw()\n",
    "plt.savefig('pid2.png')\n",
    "np.shape(edges)"
   ]
  },
  {
   "cell_type": "code",
   "execution_count": 23,
   "metadata": {},
   "outputs": [
    {
     "data": {
      "text/plain": [
       "(1364, 2, 2)"
      ]
     },
     "execution_count": 23,
     "metadata": {},
     "output_type": "execute_result"
    },
    {
     "data": {
      "image/png": "[encoded data removed]",
      "text/plain": [
       "<Figure size 432x288 with 1 Axes>"
      ]
     },
     "metadata": {
      "needs_background": "light"
     },
     "output_type": "display_data"
    }
   ],
   "source": [
    "mpl.rcParams.update({'font.size': 14})\n",
    "fig, ax1 = plt.subplots()\n",
    "\n",
    "\n",
    "\n",
    "\n",
    "f = open('front-0', 'r')\n",
    "data = np.genfromtxt(f, delimiter=',')\n",
    "f.close()\n",
    "l, = np.shape(data);\n",
    "p = (int) (l/4);\n",
    "edges = np.reshape(data, (p,2,2))\n",
    "left = []; right = [];\n",
    "for i in range(p):\n",
    "    edge = np.copy(edges[i]);\n",
    "    ax1.plot(edge[0], edge[1], '--r', linewidth = 0.1)\n",
    "f = open('front-1', 'r')\n",
    "data = np.genfromtxt(f, delimiter=',')\n",
    "f.close()\n",
    "l, = np.shape(data);\n",
    "p = (int) (l/4);\n",
    "edges = np.reshape(data, (p,2,2))\n",
    "left = []; right = [];\n",
    "for i in range(p):\n",
    "    edge = np.copy(edges[i]);\n",
    "    ax1.plot(edge[0], edge[1], '--r', linewidth = 0.1)\n",
    "f = open('front-2', 'r')\n",
    "data = np.genfromtxt(f, delimiter=',')\n",
    "f.close()\n",
    "l, = np.shape(data);\n",
    "p = (int) (l/4);\n",
    "edges = np.reshape(data, (p,2,2))\n",
    "left = []; right = [];\n",
    "for i in range(p):\n",
    "    edge = np.copy(edges[i]);\n",
    "    ax1.plot(edge[0], edge[1], '--r', linewidth = 0.1)\n",
    "    \n",
    "\n",
    "f = open('boxes-0', 'r')\n",
    "data = np.genfromtxt(f, delimiter=',')\n",
    "f.close()\n",
    "l, = np.shape(data);\n",
    "p = (int) (l/4);\n",
    "edges = np.reshape(data, (p,2,2))\n",
    "left = []; right = [];\n",
    "for i in range(p):\n",
    "    edge = np.copy(edges[i]);\n",
    "    ax1.plot(edge[0], edge[1], '--b', linewidth = 0.05)\n",
    "f = open('boxes-1', 'r')\n",
    "data = np.genfromtxt(f, delimiter=',')\n",
    "f.close()\n",
    "l, = np.shape(data);\n",
    "p = (int) (l/4);\n",
    "edges = np.reshape(data, (p,2,2))\n",
    "left = []; right = [];\n",
    "for i in range(p):\n",
    "    edge = np.copy(edges[i]);\n",
    "    ax1.plot(edge[0], edge[1], '--b', linewidth = 0.05)\n",
    "f = open('boxes-2', 'r')\n",
    "data = np.genfromtxt(f, delimiter=',')\n",
    "f.close()\n",
    "l, = np.shape(data);\n",
    "p = (int) (l/4);\n",
    "edges = np.reshape(data, (p,2,2))\n",
    "left = []; right = [];\n",
    "for i in range(p):\n",
    "    edge = np.copy(edges[i]);\n",
    "    ax1.plot(edge[0], edge[1], '--b', linewidth = 2.)\n",
    "\n",
    "xlim = [0.,1.]; ylim = xlim;\n",
    "ax1.set_xlim(xlim);\n",
    "ax1.set_ylim(ylim);\n",
    "\n",
    "fig.tight_layout()  # otherwise the right y-label is slightly clipped\n",
    "#plt.axes().set_aspect('equal', 'datalim')\n",
    "plt.axis('off')\n",
    "#plt.show()\n",
    "# plt.draw()\n",
    "plt.savefig('pid3.png')\n",
    "np.shape(edges)"
   ]
  },
  {
   "cell_type": "code",
   "execution_count": null,
   "metadata": {},
   "outputs": [],
   "source": []
  }
 ],
 "metadata": {
  "kernelspec": {
   "display_name": "Python 3",
   "language": "python",
   "name": "python3"
  },
  "language_info": {
   "codemirror_mode": {
    "name": "ipython",
    "version": 3
   },
   "file_extension": ".py",
   "mimetype": "text/x-python",
   "name": "python",
   "nbconvert_exporter": "python",
   "pygments_lexer": "ipython3",
   "version": "3.8.5"
  }
 },
 "nbformat": 4,
 "nbformat_minor": 4
}
