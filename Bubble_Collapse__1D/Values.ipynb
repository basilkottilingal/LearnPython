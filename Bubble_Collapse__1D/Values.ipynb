{
 "cells": [
  {
   "cell_type": "markdown",
   "metadata": {},
   "source": [
    "# Constants and Variables\n",
    "Value of some constants and variables used in cavitation "
   ]
  },
  {
   "cell_type": "markdown",
   "metadata": {},
   "source": [
    "## Standard Temperature and Pressure (STP)\n",
    "\n",
    "(Ambient pressure)\n",
    " $$\n",
    "    p_{\\infty,0} = 101.325 ~kPa = 1~ atm\n",
    " $$\n",
    " \n",
    " (Ambient Temperature)\n",
    " $$\n",
    "    T_{\\infty,0} = 293.15 K = 20^{\\circ} C\n",
    " $$\n"
   ]
  },
  {
   "cell_type": "markdown",
   "metadata": {},
   "source": [
    "## Density and Viscosity and other properties of water at STP ($1~atm, 20^\\circ C$)\n",
    "\n",
    "Density $$\\rho_L = 998.2 ~ kgm^{-3}$$,\n",
    "\n",
    "Dynamic Viscoisty $$\\mu_L= 1.0016 \\times 10^{-3}~  Ns/m^{2}$$,\n",
    "\n",
    "Kinematic Viscosity $$\\nu_L = \\frac{\\mu_L}{\\rho_L} = 1.0034 ~m^2/s $$\n"
   ]
  },
  {
   "cell_type": "markdown",
   "metadata": {},
   "source": [
    "## Polytropic Constant of gas\n",
    "\n",
    "### Monoatomic\n",
    "\n",
    "$$\\gamma = 1.33$$\n",
    "\n",
    "### Diatomic\n",
    "\n",
    "$$\\gamma = 1.4$$"
   ]
  },
  {
   "cell_type": "markdown",
   "metadata": {},
   "source": [
    "## Density and Viscosity and other properties of Air at STP   ($1~atm, 20^\\circ C$)\n",
    "\n",
    "Density\n",
    "$$ \\rho_{G,0}  = 1.204 ~kg/m^{-3}$$\n",
    "\n",
    "Specific Heat capacity at constant pressure\n",
    "$$ C_{P,G} = 1.007\\times 10^{3} \\frac{J}{kg~K} $$\n",
    "\n",
    "Specific Heat capacity at constant volume\n",
    "$$ C_{V,G} = 1.007\\times 10^{3} \\frac{J}{kg~K} $$\n",
    "\n",
    "Thermal Conductivity\n",
    "$$ k_G = 0.02514 \\frac{W}{m~K} $$\n",
    "\n",
    "Thermal diffusivity\n",
    "$$\n",
    "    \\alpha_G =  \\frac{k_G}{\\rho_{G,0}  C_{P,G}} = 2.074\\times 10^{-5} m^2/s\n",
    "$$\n",
    "\n",
    "Kinematic viscosity\n",
    "$$\n",
    "    \\mu_G = 1.825\\times 10^{-5} \\frac{kg}{m~s}\n",
    "$$\n",
    "\n",
    "Dynamic Viscosity\n",
    "$$\n",
    "    \\nu_G = 1.516\\times 10^{-5} {m^2}{s}\n",
    "$$\n"
   ]
  },
  {
   "cell_type": "markdown",
   "metadata": {},
   "source": [
    "## Surface Tension of water-air  at STP\n",
    "\n",
    "$$\\sigma = 0.072 ~N/m$$,"
   ]
  },
  {
   "cell_type": "code",
   "execution_count": null,
   "metadata": {},
   "outputs": [],
   "source": []
  },
  {
   "cell_type": "code",
   "execution_count": null,
   "metadata": {},
   "outputs": [],
   "source": []
  }
 ],
 "metadata": {
  "kernelspec": {
   "display_name": "Python 3",
   "language": "python",
   "name": "python3"
  },
  "language_info": {
   "codemirror_mode": {
    "name": "ipython",
    "version": 3
   },
   "file_extension": ".py",
   "mimetype": "text/x-python",
   "name": "python",
   "nbconvert_exporter": "python",
   "pygments_lexer": "ipython3",
   "version": "3.8.5"
  }
 },
 "nbformat": 4,
 "nbformat_minor": 4
}
