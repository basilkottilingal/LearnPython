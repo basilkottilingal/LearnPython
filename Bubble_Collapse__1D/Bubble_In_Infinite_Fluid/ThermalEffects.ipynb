{
 "cells": [
  {
   "cell_type": "markdown",
   "metadata": {},
   "source": [
    "# [Chapman and Plesset] [Prosperetti 1977]\n",
    "Let's define these non-dim numbers $Ma_1 = \\frac{1}{c_L} \\sqrt{\\frac{p_a}{\\rho_L}}$.\n",
    "Since pressure fluctuation or acoustic pressure amplitude $p_a$ doesn't come in the analysis\n",
    "of the paper, let's define\n",
    "another non-dimensional number $Ma_2 = \\frac{\\omega R_0}{c_L}$. Weber number $We_0 = \\frac{p_{\\infty,0}R_0}2{\\sigma}$,\n",
    "which gives $p_{G,0} = p_{\\infty,0} (1+ \\frac{1}{We_0})$. The bubble is perturbed from the initial equilibrium,\n",
    "$R=R_0 (1+\\epsilon e^{ht})$ where $h$ takes the form $j\\omega$ (a bit modified from the paper).\n",
    " The frequencies are defined as\n",
    "$\\omega = Im \\{h\\}$ and $f = \\frac{\\omega}{2\\pi} Im\\{h\\}$.\n",
    "Even $\\frac{p_{\\infty,0}}{\\rho_L \\omega ^2 R_0^2}$ is a non-dim number (looks like pressure coeff), which gives\n",
    "the natural frequency as\n",
    "$$\n",
    "  \\frac{\\omega_0}{\\omega} = \\sqrt{ \\frac{p_{\\infty,0}}{\\rho_L \\omega ^2 R_0^2} \\left(3\\gamma + \\frac{3\\gamma-1}{We_0} \\right) }\n",
    "$$\n",
    "Stress balance at the interface $p_L(R,t) = p_G(R,t) - \\frac{2\\sigma}{R} - 4\\mu_L \\frac{\\dot{R}}{R}$.\n",
    "Linearising gives"
   ]
  },
  {
   "cell_type": "markdown",
   "metadata": {},
   "source": [
    "## Linearising few terms\n",
    "\\begin{eqnarray}\n",
    "  \\frac{2\\sigma}{R} &=& \\frac{p_{\\infty,0}}{We_0} (1-\\epsilon) + \\mathcal{O}(\\epsilon^2)\n",
    "  \\label{eq:chapman:linearise:st}\n",
    "  \\\\\n",
    "  4\\mu_L\\frac{\\dot{R}}{R} &=& ~4\\mu_L h  \\epsilon + \\mathcal{O}(\\epsilon^2)\n",
    "  \\label{eq:chapman:linearise:viscous}\n",
    "\\end{eqnarray}\n",
    "## Velocity Potential in slightly compressible liquid\n",
    "(Acoustic theory, more reading required [Miksis Kolodner], velocity potenial in slightly compressible liquids)\n",
    "The liquid pressure near the interface can also be represented as\n",
    "\\begin{eqnarray}\n",
    "  p_L (R,t) &=& p_\\infty(t) + \\frac{\\rho_L h^2 R_0^2 \\epsilon} {1 + \\frac{hR_0}{c_L}}\n",
    "  \\label{eq:chapman:pressure:liquid:1}\n",
    "  \\\\\n",
    "  &=& p_G(R,t) - \\frac{2\\sigma}{R} - 4\\mu_L \\frac{\\dot{R}}{R}\n",
    "  \\label{eq:chapman:pressure:liquid:2}\n",
    "\\end{eqnarray}"
   ]
  },
  {
   "cell_type": "markdown",
   "metadata": {},
   "source": [
    "## Governing Equations inside gas\n",
    "Governing equations for radial velocity $q(r, t) = \\mathbf{u}\\cdot\\mathbf{e}_r$,\n",
    "temperature $T_G (r,t)$, density $\\rho_G (r, t)$ and pressure $p_G(r, t)$ for $ r< R(t)$ are explained below.\n",
    "Before going to the governing equations, we can express $q,T_G, \\rho_G$ can be expressed in the\n",
    "perturbation form\n",
    "\\begin{eqnarray}\n",
    "q &=& q(r, t) ~~\\text{with}~~ q \\approx \\mathcal{O} ( \\omega R_0 \\epsilon) \\\\\n",
    "T_G &=& T_{G,0} (1+\\theta) \\\\\n",
    "\\rho_G &=& \\rho_{G,0} (1+s)\n",
    "\\end{eqnarray}\n",
    "Using EOS of gas ($p\\propto \\rho T$) gives\n",
    "\\begin{eqnarray}\n",
    "p_G (r, t) = p_{G,0} ( 1+ s +\\theta)\n",
    "\\end{eqnarray}\n",
    "We also have from the perturbation equation form,\n",
    "$$\n",
    "\\frac{\\partial s}{\\partial t} = hs\n",
    "~,~~\n",
    "\\frac{\\partial \\theta}{\\partial t} = h\\theta\n",
    "~,~~\n",
    "\\frac{\\partial q}{\\partial t} = hq\n",
    "$$"
   ]
  },
  {
   "cell_type": "markdown",
   "metadata": {},
   "source": [
    "### Continuity equation\n",
    "\\begin{eqnarray}\n",
    "  \\frac{\\partial \\rho}{\\partial t} +\n",
    "  q\\frac{\\partial \\rho}{\\partial t} = -\\rho \\nabla \\cdot \\mathbf{u}\n",
    "  &=& -\\rho (\\frac{\\partial q}{\\partial r} + \\frac{2q}{r})\n",
    "  \\nonumber \\\\\n",
    "  hs &=&  -(\\frac{\\partial q}{\\partial r} + \\frac{2q}{r})\n",
    "  ~~\\text{since}~~ |hs| >> |qs_r|\n",
    "  \\label{eq:chapman:continuity}\n",
    "\\end{eqnarray}\n",
    "\n",
    "### Energy Equation\n",
    "\\begin{eqnarray}\n",
    "  \\frac{\\partial \\theta}{\\partial t} &=& (\\gamma-1) \\frac{\\partial s}{\\partial t}\n",
    "  + \\frac{k_G}{\\rho_{G,0} C_{p_G} }\\nabla^2 \\theta\n",
    "  \\nonumber \\\\\n",
    "  h\\theta &=& (\\gamma-1)hs\n",
    "  + D_G \\nabla^2 \\theta\n",
    "  \\label{eq:chapman:energy}\n",
    "\\end{eqnarray}\n",
    "(might have used $R_G = C_{p_G} - C_{v_G}$, $\\gamma = C_{p_G}/ C_{v_G}$,\n",
    "and some approximation for $\\nabla \\cdot (\\rho e \\mathbf{u})$)\n",
    "\n",
    "$\\textbf{Important:} ~D_G~ \\textbf{is thermual diffusivity at constant volume} ~D_G = k_G/\\rho_{G,0} C_{V,G}$\n",
    "\n",
    "### Momentum conservation\n",
    "\\begin{eqnarray}\n",
    "  \\rho_G \\frac{Dq}{Dt}  &=& -\\frac{\\partial p_G}{\\partial r}\n",
    "  \\nonumber \\\\\n",
    "  \\frac{\\partial q}{\\partial t}  &=& -p_{G,0} (\\theta_r + s_r)\n",
    "  \\label{eq:chapman:momentum}\n",
    "\\end{eqnarray}\n",
    "### Combine above equations\n",
    "Eq:\\ref{eq:chapman:momentum}, Eq:\\ref{eq:chapman:energy} and Eq:\\ref{eq:chapman:continuity}\n",
    "gives the pde\n",
    "\\begin{eqnarray}\n",
    "  h^2 - \\left( \\gamma  \\frac{p_{G,0}}{\\rho_{G,0}} + \\frac{ D_G}{h} \\right)\\nabla^2 \\theta + \\frac{p_{G,0}}{\\rho_{G,0}} \\frac{D_G}{h} \\nabla^4 \\theta &=& 0\n",
    "  \\label{eq:chapman:ode}\n",
    "\\end{eqnarray}"
   ]
  },
  {
   "cell_type": "markdown",
   "metadata": {},
   "source": [
    "If we take $\\theta$ of the form $(A_1 Q_1 (r) + A_2 Q_2(r))e^{ht} $ with\n",
    "$\\nabla^2 Q_1 = \\lambda_1 Q_1$\n",
    "and\n",
    "$\\nabla^2 Q_2 = \\lambda_1 Q_2$\n",
    "we get\n",
    "\\begin{eqnarray}\n",
    "  h^2 - \\left( \\gamma  \\frac{p_{G,0}}{\\rho_{G,0}} + \\frac{D_G}{h} \\right) \\lambda   + \\frac{p_{G,0}}{\\rho_{G,0}} \\frac{D_G}{h} \\lambda^2 &=& 0  \\label{eq:chapman:lambda} \\\\\n",
    "  1 + \\left( \\gamma  \\frac{p_{G,0}}{\\rho_{G,0} R_0^2\\omega^2} - j\\frac{D_G}{\\omega R_0^2} \\right) \\lambda^*  + j\\frac{p_{G,0}}{\\rho_{G,0} R_0^2 \\omega^2} \\frac{D_G}{\\omega R_0^2} {\\lambda^*}^2 &=& 0\n",
    "  \\quad \\text{if}~h=j\\omega, ~ \\lambda^* =  R_0^2 \\lambda\n",
    "  \\label{eq:chapman:lambda_star}\n",
    "\\end{eqnarray}\n",
    "and $\\lambda_1$ and $\\lambda_2$ are the roots of the above equation Eq:\\ref{eq:chapman:lambda}.\n",
    "We have these relations between $q,s$ and $\\theta$ whcih will be used in furthr portion of the section.\n",
    "\\begin{eqnarray}\n",
    "  s &=& \\frac{1}{\\gamma-1} \\left\\{ 1- \\frac{D_G}{h} \\Delta \\right\\} \\theta  \\\\\n",
    "  -h s_r &=& \\nabla^2 q \\\\\n",
    "  q &=& \\Delta^{-1} \\left\\{\\frac{\\partial }{\\partial r}\n",
    "      \\left\\{   -h\\frac{1}{\\gamma-1} \\left( 1- \\frac{D_G}{h}  \\Delta \\right\\} \\theta  \\right) \\right\\} \\\\\n",
    "  q &=& \\frac{1}{\\gamma-1} \\frac{\\partial }{\\partial r}\n",
    "      \\left(    \\left\\{ {D_G} -h \\Delta^{-1}  \\right\\} \\theta  \\right)\n",
    "\\end{eqnarray}"
   ]
  },
  {
   "cell_type": "markdown",
   "metadata": {},
   "source": [
    "(Check above equations. I expect a typo in Eq:18 of [Chapman], as i expect a '-' sign).\n",
    "\\begin{eqnarray}\n",
    "  \\theta(r,t) &=& e^{ht}\\left( A_1 ~\\frac{1}{r}sinh(\\frac{r}{R_0} \\sqrt{\\lambda_1^{*}}  + A_2 ~\\frac{1}{r}sinh(\\frac{r}{R_0} \\sqrt{\\lambda_2^{*}} ) \\right)  \\\\\n",
    "  \\theta(r,t) &=& C_0 e^{ht}\\left(  \\frac{1}{r} \\frac{sinh(\\frac{r}{R_0} \\sqrt{\\lambda_1^{*}})}{sinh(\\sqrt{\\lambda_1^{*}})}   -  \\frac{1}{r} \\frac{sinh(\\frac{r}{R_0} \\sqrt{\\lambda_2^{*}})}{sinh(\\sqrt{\\lambda_2^{*}})} \\right)  \\quad \\text{using} ~\\theta(R_0,t) = 0  \\\\\n",
    "  s(r,t) &=& \\frac{1}{\\gamma-1} C_0 e^{ht} \\left( (1 - \\frac{D_G \\lambda_1^{*}}{hR_0^2})  \\frac{1}{r}\\frac{sinh(\\frac{r}{R_0} \\sqrt{\\lambda_1^{*}})}{sinh(\\sqrt{\\lambda_1^{*}})}   - (1 - \\frac{D_G \\lambda_2^{*}}{hR_0^2})\n",
    "  \\frac{1}{r}\\frac{sinh(\\frac{r}{R_0} \\sqrt{\\lambda_2^{*}})}{sinh(\\sqrt{\\lambda_2^{*}})} \\right)  \\\\\n",
    "  q(r,t) &=& - \\frac{1}{\\gamma-1} C_0  e^{ht} \\frac{d}{dr} \\left( (\\frac{h R_0^2}{\\lambda_1^{*}} - D_G)  \\frac{1}{r}\\frac{sinh(\\frac{r}{R_0} \\sqrt{\\lambda_1^{*}})}{sinh(\\sqrt{\\lambda_1^{*}})}   - (\\frac{h R_0^2}{\\lambda_2^{*}} - D_G)\n",
    "  \\frac{1}{r}\\frac{sinh(\\frac{r}{R_0} \\sqrt{\\lambda_2^{*}})}{sinh(\\sqrt{\\lambda_2^{*}})} \\right)  \\\\\n",
    "  q(r,t) &=& - \\frac{1}{\\gamma-1} C_0  e^{ht}   \\left( (\\frac{h R_0^2}{\\lambda_1^{*}} - D_G)  \\frac{1}{r^2}\\frac{ \\frac{r}{R_0} \\sqrt{\\lambda_1^{*}} cosh(\\frac{r}{R_0} \\sqrt{\\lambda_1^{*}})- sinh(\\frac{r}{R_0} \\sqrt{\\lambda_1^{*}})} {sinh(\\sqrt{\\lambda_1^{*}})} \\right. \\\\\n",
    "  & &\\quad   \\left. -(\\frac{h R_0^2}{\\lambda_2^{*}} - D_G)  \\frac{1}{r^2}\\frac{ \\frac{r}{R_0}\\sqrt{\\lambda_2^{*}} cosh(\\frac{r}{R_0} \\sqrt{\\lambda_2^{*}})- sinh(\\frac{r}{R_0} \\sqrt{\\lambda_2^{*}})}  {sinh(\\sqrt{\\lambda_2^{*}})}  \\right)\n",
    "\\end{eqnarray}"
   ]
  },
  {
   "cell_type": "markdown",
   "metadata": {},
   "source": [
    "### At the Interface\n",
    "\\begin{align}\n",
    "  q(R(t),t) &=& - \\frac{1}{R_0^2}\\frac{1}{\\gamma-1} C_0  e^{ht}\n",
    "   &\\left( (\\frac{h R_0^2}{\\lambda_1^{*}} - D_G)\n",
    "  (  \\sqrt{\\lambda_1^{*}} coth(\\sqrt{\\lambda_1^{*}})- 1)\n",
    "  -  \\right. \\nonumber \\\\\n",
    "  & & &\n",
    "  \\left. (\\frac{h R_0^2}{\\lambda_2^{*}} - D_G)\n",
    "  (  \\sqrt{\\lambda_2^{*}} coth(\\sqrt{\\lambda_1^{*}})- 1)\n",
    "  \\right)\n",
    "  \\\\\n",
    "  &=& \\frac{\\partial}{\\partial t} \\left( R_0 (1+\\epsilon(t))\\right)  &= R_0 h \\epsilon(t)\n",
    "\\end{align}"
   ]
  },
  {
   "cell_type": "markdown",
   "metadata": {},
   "source": [
    "### Using boundary condition $q(R,t) = \\dot{R}$ \n",
    "\n",
    "(No diffusion and no phase change at the interface gives $q(R,t) = \\dot{R}$)\n",
    "which gives\n",
    "\\begin{eqnarray}\n",
    "  C_0 = \\frac{ -(\\gamma-1) h R_0^3}\n",
    "  {(\\frac{h R_0^2}{\\lambda_1^{*}} - D_G)\n",
    "  (  \\sqrt{\\lambda_1^{*}} coth(\\sqrt{\\lambda_1^{*}})- 1)\n",
    "  -(\\frac{h R_0^2}{\\lambda_2^{*}} - D_G)\n",
    "  (  \\sqrt{\\lambda_2^{*}} coth(\\sqrt{\\lambda_1^{*}})- 1)} \\frac{\\epsilon (t)}{e^{ht}}\n",
    "\\end{eqnarray}"
   ]
  },
  {
   "cell_type": "markdown",
   "metadata": {},
   "source": [
    "### At the interface\n",
    "\n",
    "And we have the perturbation(s) at the interface as\n",
    "\\begin{eqnarray}\n",
    "  T_G(R,t) &=& T_{\\infty,0}\n",
    "  \\label{eq:chapman:gas:temperature:interface}\n",
    "  \\\\\n",
    "  q(R,t) &=& R_0 h \\epsilon\n",
    "  \\label{eq:chapman:gas:temperature:velocity}\n",
    "  \\\\\n",
    "  \\rho_G(R,t) &=& \\rho_{G,0} \\bigg( 1 + \\epsilon(t) ~C_1(h, \\lambda_1^* (h), \\lambda_2^*(h))  \\bigg)\n",
    "  \\label{eq:chapman:gas:temperature:density}\n",
    "  \\\\\n",
    "  p_G(R,t) &=& p_{G,0} \\bigg( 1 + \\epsilon(t) ~C_1(h, \\lambda_1^* (h), \\lambda_2^*(h))  \\bigg)\n",
    "  \\label{eq:chapman:gas:temperature:pressure}\n",
    "  \\\\\n",
    "   \\text{where}\\quad\n",
    "  C_1 &=& \\frac{1}{\\gamma-1} C_0 e^{ht} \\frac{D_G}{h R_0^3}(\\lambda_2^* - \\lambda_1^*)\n",
    "  \\nonumber\n",
    "  \\\\\n",
    "  &=&\n",
    "  \\frac{ D_G (\\lambda_1^* - \\lambda_2^*)}\n",
    "  {(\\frac{h R_0^2}{\\lambda_1^{*}} - D_G)\n",
    "  (  \\sqrt{\\lambda_1^{*}} coth(\\sqrt{\\lambda_1^{*}})- 1)\n",
    "  -(\\frac{h R_0^2}{\\lambda_2^{*}} - D_G)\n",
    "  (  \\sqrt{\\lambda_2^{*}} coth(\\sqrt{\\lambda_1^{*}})- 1)}\n",
    "  \\label{eq:chapman:constant:c1}\n",
    "\\end{eqnarray}"
   ]
  },
  {
   "cell_type": "markdown",
   "metadata": {},
   "source": [
    "Using \\ref{eq:chapman:pressure:liquid:1}, \\ref{eq:chapman:pressure:liquid:2},\n",
    "\\ref{eq:chapman:pressure:linearise:st},\\ref{eq:chapman:pressure:linearise:viscous}\n",
    "we have\n",
    "\\begin{eqnarray}\n",
    "  p_{\\infty} + \\frac{\\rho_L R_0^2 h^2 }{1+\\frac{hR_0}{c_L}}\\epsilon(t) =\n",
    "  p_{\\infty,0}(1+ {(We_0)}^{-1}) (1+ C_1 \\epsilon(t)) - p_{\\infty,0} ~{(We_0)}^{-1}~(1-\\epsilon(t)) - 4\\mu_L h \\epsilon(t)\n",
    "\\end{eqnarray}\n"
   ]
  },
  {
   "cell_type": "markdown",
   "metadata": {},
   "source": [
    "## Non Dimensionalisation\n",
    "\\begin{eqnarray}\n",
    "  h^2 - \\left( \\gamma  \\frac{p_{G,0}}{\\rho_{G,0}} + \\frac{D_G}{h} \\right) \\lambda  + \\frac{p_{G,0}}{\\rho_{G,0}} \\frac{D_G}{h} \\lambda^2 &=& 0   \\label{eq:chapman:lambda} \\\\\n",
    "  1 + \\left( \\gamma  \\frac{p_{G,0}}{\\rho_{G,0} R_0^2\\omega^2} + j\\frac{D_G}{\\omega R_0^2} \\right) \\lambda^*  + j\\frac{p_{G,0}}{\\rho_{G,0} R_0^2 \\omega^2} \\frac{D_G}{\\omega R_0^2}  {\\lambda^* }^2 &=& 0  \\quad \\text{if}~h=j\\omega, ~ \\lambda^* =  R_0^2 \\lambda  \\label{eq:chapman:lambda_star}\n",
    "\\end{eqnarray}"
   ]
  },
  {
   "cell_type": "markdown",
   "metadata": {},
   "source": [
    "Non-dimensional number \n",
    "\n",
    "(1) square of ratio of length of thermal diffusion layer to wavelenth of sound \n",
    "    $$\n",
    "        G_1 = \\frac{M D_G \\omega}{\\gamma R_G T_{\\infty,0}} =  \\frac{\\rho_{G,0} D_G  \\omega}{\\gamma p_{G,0}} \\approx \\left( \\frac{\\delta_{th}}{\\lambda_G} \\right)^{2}\n",
    "    $$\n",
    "(2) square of ratio of $R_0$ to length of thermal diffusion layer \n",
    "    $$\n",
    "        G_2 = \\frac{R_0^2 \\omega}{D_G} \\approx \\left( \\frac{R_0}{\\delta_{th}} \\right)^{2}\n",
    "    $$\n",
    "(3) square of ratio of $R_0$ to wavelenth \n",
    "    $$\n",
    "        G_1 G_2 = \\frac{\\rho_{G,0} R_0^2 \\omega^2}{\\gamma p_{G,0}} \\approx \\left( \\frac{R_0}{\\lambda_G} \\right)^{2}\n",
    "    $$ \n",
    "    \n",
    "Now the above quadratic equation of $\\lambda$ can be rewritten as \n",
    "\n",
    "\\begin{eqnarray}\n",
    " 1 + \\left( \\gamma  \\frac{p_{G,0}}{\\rho_{G,0} R_0^2\\omega^2} - j\\frac{D_G}{\\omega R_0^2} \\right) \\lambda^*  + j\\frac{p_{G,0}}{\\rho_{G,0} R_0^2 \\omega^2} \\frac{D_G}{\\omega R_0^2} {\\lambda^* }^2 &=& 0  \\quad \\text{if}~h=j\\omega, ~ \\lambda^* &=&  R_0^2 \\lambda  \\label{eq:chapman:lambda_star}\\\\\n",
    "  1 + \\left( \\frac{1}{G_1 G_2} - j\\frac{1}{G_2} \\right) \\lambda^*  +  j \\frac{1}{\\gamma G_1 G_2^2} {\\lambda^* }^2 &=& 0  \\label{eq:chapman:lambda_star2}\n",
    "\\end{eqnarray}\n",
    "which gives\n",
    "$$\n",
    "    \\lambda_i^* = \\frac{1}{2} \\gamma G_2 \\left( j-G_1 \\pm \\sqrt{(j-G_1)^2 + j \\frac{4}{\\gamma}G_1} \\right) \n",
    "$$"
   ]
  },
  {
   "cell_type": "markdown",
   "metadata": {},
   "source": [
    "So $C_1(\\lambda_1^* (h), \\lambda_1^* (h))$ can be reqritten as\n",
    "\\begin{eqnarray}\n",
    "    C_1 &=& \\frac{ D_G (\\lambda_1^* - \\lambda_2^*)}\n",
    "  {(\\frac{h R_0^2}{\\lambda_1^{*}} - D_G)\n",
    "  (  \\sqrt{\\lambda_1^{*}} coth(\\sqrt{\\lambda_1^{*}})- 1)\n",
    "  -(\\frac{h R_0^2}{\\lambda_2^{*}} - D_G)\n",
    "  (  \\sqrt{\\lambda_2^{*}} coth(\\sqrt{\\lambda_1^{*}})- 1)}\\\\\n",
    "  &=&\n",
    "  \\frac{ D_G (\\lambda_1^* - \\lambda_2^*)}\n",
    "  {(\\frac{h R_0^2}{\\lambda_1^{*}} - D_G)\n",
    "  (  \\sqrt{\\lambda_1^{*}} coth(\\sqrt{\\lambda_1^{*}})- 1)\n",
    "  -(\\frac{h R_0^2}{\\lambda_2^{*}} - D_G)\n",
    "  (  \\sqrt{\\lambda_2^{*}} coth(\\sqrt{\\lambda_1^{*}})- 1)}\\\\\n",
    "  &=& -\\gamma G_1 \\frac{\\alpha_1 - \\alpha_2}{\\alpha_1\\beta_2 - \\alpha_2 \\beta_1}  \\\\\n",
    "  &=& -\\frac{\\rho_{G,0} R_0^2 \\omega^2}{p_{G,0}}  \\frac{\\alpha_1 - \\alpha_2}{\\alpha_1\\beta_2 - \\alpha_2 \\beta_1}\n",
    "\\end{eqnarray}\n",
    "where\n",
    "\\begin{eqnarray}\n",
    "    \\alpha_i &=& j+G_1 \\pm \\sqrt{(j-G_1)^2 + j \\frac{4}{\\gamma}G_1} \\\\\n",
    "    \\beta_i &=& \\sqrt{\\lambda_i^*} coth (\\sqrt{\\lambda_i^*}) - 1 \\\\\n",
    "    \\lambda_i^* &=& \\frac{1}{2} \\gamma G_2 \\left( j-G_1 \\pm \\sqrt{(j-G_1)^2 + j \\frac{4}{\\gamma}G_1} \\right)\n",
    "\\end{eqnarray}\n",
    "\n",
    "#### Some helpful relations in above derivation of $C_1$\n",
    "$\\frac{D_G}{h R_0^2} = -j \\frac{1}{G_2}$, $\\frac{D_G}{h R_0^2} \\lambda_1^* \\lambda_1^* = -\\gamma G_1 G_2$"
   ]
  },
  {
   "cell_type": "markdown",
   "metadata": {},
   "source": [
    "Which let's us write the gas pressure at $R$ as \n",
    "\\begin{eqnarray}\n",
    "     p_G(R,t) &=& p_{G,0} \\bigg( 1 + \\epsilon(t) ~C_1(h, \\lambda_1^* (h), \\lambda_2^*(h))  \\bigg) \\\\\n",
    "      &=& p_{G,0}  - \\epsilon(t) {\\rho_{G,0} R_0^2 \\omega^2} \\phi\n",
    "\\end{eqnarray}\n",
    "where \n",
    "$$\n",
    "    \\phi = \\frac{\\alpha_1 - \\alpha_2}{\\alpha_1\\beta_2 - \\alpha_2 \\beta_1}\n",
    "$$\n",
    "\n",
    "\\begin{eqnarray}\n",
    "  p_{\\infty} + \\frac{\\rho_L R_0^2 h^2 }{1+\\frac{hR_0}{c_L}}\\epsilon(t) &=&\n",
    "  p_{\\infty,0}(1+ {(We_0)}^{-1}) (1+ C_1 \\epsilon(t)) + p_{\\infty,0} ~{(We_0)}^{-1}~(1-\\epsilon(t)) + 4\\mu_L h \\epsilon(t) \\\\\n",
    "\\end{eqnarray}\n",
    "\n",
    "Neglecting higher orderd terms of $\\epsilon$\n",
    "\\begin{eqnarray}\n",
    "    -\\bigg[\n",
    "        -\\frac{\\rho_L R_0^2 \\omega^2}{1+j\\frac{\\omega R_0}{c_L}} + j 4 \\mu_L \\omega - \\frac{p_{\\infty,0}}{{We_0} }\n",
    "        + {\\rho_{G,0} R_0^2 \\omega^2} \\phi\n",
    "    \\bigg] \\epsilon(t)\n",
    "    = p_\\infty (t) - p_{\\infty,0}\n",
    "\\end{eqnarray}\n",
    "$$\n",
    "    -\\bigg[\n",
    "        -\\frac{ \\omega^2}{1+j\\frac{\\omega R_0}{c_L}} + j \\frac{4 \\mu_L}{\\rho_L R_0^2} \\omega \n",
    "        - \\frac{p_{\\infty,0}}{\\rho_L R_0^2}\\frac{1}{{We_0} }\n",
    "        + {\\frac{\\rho_{G,0}}{\\rho_L}  \\omega^2} \\phi\n",
    "    \\bigg] \\epsilon(t)\n",
    "    = \\frac{1}{\\rho_L R_0^2} \\left(p_\\infty (t) - p_{\\infty,0} \\right)\n",
    "$$\n"
   ]
  },
  {
   "cell_type": "code",
   "execution_count": 54,
   "metadata": {},
   "outputs": [],
   "source": [
    "# Fill these"
   ]
  },
  {
   "cell_type": "markdown",
   "metadata": {},
   "source": [
    "### Acoustic damping term\n",
    "$$\n",
    "    \\frac{ \\omega^2}{1+j\\frac{\\omega R_0}{c_L}} = {\\omega^2} \\left(1 - j\\frac{{\\omega R_0}/{c_L}}{1 +({\\omega R_0}/{c_L})^2 } -\n",
    "    \\frac{({\\omega R_0}/{c_L})^2}{1 +({\\omega R_0}/{c_L})^2 } \n",
    "                                                                      \\right)\n",
    "$$\n",
    "### Thermal Damping and Polytropic Coeff\n",
    "Writing gas pressure near the interface as a polytropic gas pressure + a thermal damping term\n",
    "\\begin{eqnarray}\n",
    "    p_G (R,t) = p_{G,0} (\\frac{R_0}{R})^{3k} - 4 \\mu_{th} \\frac{\\dot{R}}{R} &\\approx&  p_{G,0} + (-3k p_{G,0} - 4\\mu_{th} j\\omega) \\epsilon\n",
    "    \\\\\n",
    "    &=& p_{G,0}  - \\epsilon(t) {\\rho_{G,0} R_0^2 \\omega^2} \\phi\n",
    "\\end{eqnarray}\n",
    "Comparing real and complex parts give $k$ and $\\mu_{th}$\n",
    "\\begin{eqnarray}\n",
    "    k &=& \\frac{1}{3}\\frac{ \\rho_{G,0} R_0^2 \\omega^2}{p_{G,0}}~ Re\\{\\phi(\\omega)\\} = \\frac{1}{3}~ \\gamma G_1 G_2 Re\\{\\phi(\\omega)\\}\\\\\n",
    "    \\mu_{th} &=& \\frac{1}{4}{ \\rho_{G,0} R_0^2 \\omega}~ Im\\{\\phi(\\omega)\\}\n",
    "\\end{eqnarray}"
   ]
  },
  {
   "cell_type": "markdown",
   "metadata": {},
   "source": [
    "\n",
    "### Undamped oscillation\n",
    "if the ambient pressure remains constant at $p_{\\infty,0}$ then any\n",
    "perturbation on the radius will follows this (undamped oscillation equation)\n",
    "\\begin{eqnarray}\n",
    "    \\bigg[\n",
    "        -\\omega^2 + j\\omega \\left( \n",
    "            \\frac{4\\mu_L}{\\rho_L R_0^2} + \\frac{ \\rho_{G,0}  }{\\rho_L} \\omega~ Im\\{\\phi\\} + \\omega \\frac{\\omega R_0/c_L}{1+(\\omega R_0/c_L)^2}\n",
    "        \\right)\n",
    "        + \\left(\n",
    "            \\omega^2 \\frac{\\rho_{G,0}}{\\rho_L} ~ Re\\{\\phi\\} - \\frac{2\\sigma}{R_0} + \\omega^2 \\frac{({\\omega R_0}/{c_L})^2}{1 +({\\omega R_0}/{c_L})^2 }\n",
    "        \\right)\n",
    "    \\bigg]\n",
    "    \\epsilon(t)\n",
    "    &=& 0 \\\\\n",
    "        \\bigg[\n",
    "        -\\omega^2 + j\\omega \\left( \n",
    "            \\frac{4\\mu_L}{\\rho_L R_0^2} +\\frac{4\\mu_{th}}{\\rho_L R_0^2} + \\omega \\frac{\\omega R_0/c_L}{1+(\\omega R_0/c_L)^2}\n",
    "        \\right)\n",
    "        + \\left(\n",
    "            3k p_{\\infty,0}(1+\\frac{1}{We_0}) - \\frac{p_{\\infty,0}}{We_0} + \\omega^2 \\frac{({\\omega R_0}/{c_L})^2}{1 +({\\omega R_0}/{c_L})^2 }\n",
    "        \\right)\n",
    "    \\bigg]\n",
    "    \\epsilon(t)\n",
    "    &=& 0     \n",
    "\\end{eqnarray}\n",
    "\n",
    "(Approximation (1), In most practical cases (except larga $R_0$ and $\\omega$) $R_0 \\omega/c_L <<1$) gives,\n",
    "\\begin{eqnarray}\n",
    "    \\bigg[\n",
    "        -\\omega^2 + j\\omega \\left( \n",
    "            \\frac{4\\mu_L}{\\rho_L R_0^2} + \\frac{4\\mu_{th}}{\\rho_L R_0^2} + \\omega \\frac{\\omega R_0}{c_L}\n",
    "            \\right)\n",
    "        + \\left(\n",
    "            \\omega^2 \\frac{\\rho_{G,0}}{\\rho_L} ~ Re\\{\\phi\\} - \\frac{2\\sigma}{R_0}\n",
    "        \\right)\n",
    "    \\bigg]\n",
    "    \\epsilon(t)\n",
    "    &=& 0 \n",
    "\\end{eqnarray}\n",
    "\n",
    "#### Evaluating Damping Coeff. ( Logarithmic Decrement )\n",
    "The above Undamped system follows \n",
    "$$\n",
    "    \\epsilon(t) = \\epsilon_0 e^{-\\zeta \\omega_0 t} e^{j\\omega_0 \\sqrt{1-\\zeta^2} t}\n",
    "$$\n",
    "the logarithmic decrement defined as $\\Lambda = ln( \\frac{\\epsilon(T_n)}{\\epsilon(T_{n+1})}$ \n",
    "can be approximated if $\\zeta<<1$ as\n",
    "$$\n",
    "  \\Lambda = 2\\pi \\zeta = \\frac{2\\pi}{\\omega} \\left[            \n",
    "      \\frac{2\\mu_L}{\\rho_L R_0^2} +\\frac{2\\mu_{th}}{\\rho_L R_0^2} + \\frac{1}{2} \\frac{\\omega^2 R_0}{c_L}\n",
    "  \\right]\n",
    "$$\n",
    "\n",
    "As in [Chapman and Plesset]\n",
    "$$\n",
    "  \\Lambda_{th} =  2\\pi \\frac{\\beta \\omega}{\\omega_0^2} \n",
    "  =  2\\pi \\frac{2\\mu_{th}}{\\rho_L R_0^2} \\frac{\\omega}{\\omega_0^2} \n",
    "$$\n",
    "Natural frequency\n",
    "$$\n",
    "    \\omega_0^2 =\\frac{1}{\\rho_L R_0^2} \\left[ \\gamma G_1 G_2 Re\\{\\phi\\} p_{G,0} - \\frac{2\\sigma}{R_0} \\right]\n",
    "$$\n",
    "which gives\n",
    "$$\n",
    "  \\Lambda_{th} =  \\pi \\frac{\\gamma G_1 G_2 Im\\{\\phi\\} p_{G,0}}{\\gamma G_1 G_2 Re\\{\\phi\\} p_{G,0} - \\frac{2\\sigma}{R_0}}\n",
    "$$"
   ]
  },
  {
   "cell_type": "markdown",
   "metadata": {},
   "source": [
    "### Forced Oscillation (Acoustic Pressure Forcing)"
   ]
  },
  {
   "cell_type": "markdown",
   "metadata": {},
   "source": [
    "# Plots"
   ]
  },
  {
   "cell_type": "code",
   "execution_count": 76,
   "metadata": {},
   "outputs": [],
   "source": [
    "import numpy as np\n",
    "import matplotlib as mpl\n",
    "from matplotlib import pyplot as plt\n",
    "from scipy.integrate import odeint"
   ]
  },
  {
   "cell_type": "code",
   "execution_count": 77,
   "metadata": {},
   "outputs": [],
   "source": [
    "import cmath\n",
    "import math\n",
    "\n",
    "def complex_parameters (G1, G2, gamma):\n",
    "    j = complex(0,1)\n",
    "    lambda1 = 0.5*gamma*G2* (j-G1 +cmath.sqrt( (j-G1)**2+j*4*G1/gamma))\n",
    "    lambda2 = 0.5*gamma*G2* (j-G1 -cmath.sqrt( (j-G1)**2+j*4*G1/gamma))\n",
    "    alpha1 = (j+G1 +cmath.sqrt( (j-G1)**2+j*4*G1/gamma))\n",
    "    alpha2 = (j+G1 -cmath.sqrt( (j-G1)**2+j*4*G1/gamma))\n",
    "    beta1 = cmath.sqrt(lambda1)/cmath.tanh(cmath.sqrt(lambda1)) - 1\n",
    "    beta2 = cmath.sqrt(lambda2)/cmath.tanh(cmath.sqrt(lambda2)) - 1\n",
    "    phi = -(alpha1-alpha2)/(alpha1*beta2 - alpha2*beta1)\n",
    "    return [lambda1, lambda2, alpha1, alpha2, beta1, beta2, phi];"
   ]
  },
  {
   "cell_type": "markdown",
   "metadata": {},
   "source": [
    "## Polytropic Const\n",
    "$$\n",
    " k = \\frac{\\gamma}{3} G_1 G_2 ~Re\\{\\phi\\}\n",
    "$$"
   ]
  },
  {
   "cell_type": "code",
   "execution_count": 78,
   "metadata": {},
   "outputs": [
    {
     "data": {
      "image/png": "[encoded data removed]",
      "text/plain": [
       "<Figure size 432x288 with 1 Axes>"
      ]
     },
     "metadata": {
      "needs_background": "light"
     },
     "output_type": "display_data"
    }
   ],
   "source": [
    "fig, ax1 = plt.subplots()\n",
    "\n",
    "ax1.set_xlabel(\"$G_2$\")\n",
    "ax1.set_ylabel(\"$k$\")\n",
    "\n",
    "def init_parametric_space(G1_vector, G2_vector, gamma):\n",
    "    for i in range(len(G1_vector)):\n",
    "        G1 = G1_vector[i]\n",
    "        k_vector = [];\n",
    "        for j in range(len(G2_vector)):\n",
    "            G2 = G2_vector[j]\n",
    "            params = complex_parameters (G1, G2, gamma);\n",
    "            (lambda1, lambda2, alpha1, alpha2, beta1, beta2, phi) = params;\n",
    "            k = (gamma*G1*G2/3)*phi.real\n",
    "            k_vector.append(k)         \n",
    "        _label = \"G1=\"+str(G1)\n",
    "        ax1.plot(G2_vector, k_vector, linewidth = 0.7, label=_label)\n",
    "\n",
    "G1_space = [1e-5, 1e-6, 1e-7, 1e-8, 1e-9]\n",
    "G2_space = 10**np.linspace(-1,9, 1000)\n",
    "gamma = 1.4\n",
    "\n",
    "init_parametric_space(G1_space, G2_space, gamma)\n",
    "\n",
    "ax1.set_xscale('log')\n",
    "plt.ylim([0, 3])\n",
    "ax1.legend(loc = \"lower right\")\n",
    "fig.tight_layout()  # otherwise the right y-label is slightly clipped\n",
    "plt.show()"
   ]
  },
  {
   "cell_type": "code",
   "execution_count": 79,
   "metadata": {},
   "outputs": [
    {
     "data": {
      "image/png": "[encoded data removed]",
      "text/plain": [
       "<Figure size 432x288 with 1 Axes>"
      ]
     },
     "metadata": {
      "needs_background": "light"
     },
     "output_type": "display_data"
    }
   ],
   "source": [
    "fig, ax1 = plt.subplots()\n",
    "\n",
    "ax1.set_xlabel(\"$G_2$\")\n",
    "ax1.set_ylabel(\"$k$\")\n",
    "\n",
    "def init_parametric_space(G1_vector, G2_vector, gamma):\n",
    "    for i in range(len(G1_vector)):\n",
    "        G1 = G1_vector[i]\n",
    "        G2_vector_truncated = []\n",
    "        k_vector = [];\n",
    "        jcount = 0\n",
    "        for j in range(len(G2_vector)):\n",
    "            G2 = G2_vector[j]\n",
    "            params = complex_parameters (G1, G2, gamma);\n",
    "            (lambda1, lambda2, alpha1, alpha2, beta1, beta2, phi) = params;\n",
    "            k = (gamma*G1*G2/3)*phi.real\n",
    "            if k<0:\n",
    "                break;\n",
    "            k_vector.append(k)         \n",
    "            G2_vector_truncated.append(G2)\n",
    "        _label = \"G1=\"+str(G1)\n",
    "        ax1.plot(G2_vector_truncated, k_vector, linewidth = 0.7, label=_label)\n",
    "\n",
    "G1_space = [1e-5, 1e-6, 1e-7, 1e-8, 1e-9]\n",
    "G2_space = 10**np.linspace(-1,9, 1000)\n",
    "gamma = 1.4\n",
    "\n",
    "init_parametric_space(G1_space, G2_space, gamma)\n",
    "\n",
    "ax1.set_xscale('log')\n",
    "plt.ylim([0, 3])\n",
    "ax1.legend(loc = \"upper left\")\n",
    "fig.tight_layout()  # otherwise the right y-label is slightly clipped\n",
    "plt.show()"
   ]
  },
  {
   "cell_type": "markdown",
   "metadata": {},
   "source": [
    "## Thermal Damping\n",
    "### Damping Coefficient as in [Chapman and Plesset]\n",
    "Comparing Damping Coefficients\n",
    "$$\n",
    "  \\Lambda_{th} =  \\pi \\frac{\\gamma G_1 G_2 Im\\{\\phi\\} p_{G,0}}{\\gamma G_1 G_2 Re\\{\\phi\\} p_{G,0} - \\frac{2\\sigma}{R_0}}\n",
    "$$\n",
    "$$\n",
    "    \\Lambda_{visc} = \\frac{4\\pi \\mu_L}{\\rho_L \\omega R_0^2}\n",
    "$$\n",
    "$$\n",
    "    \\Lambda_{ac} = \\frac{\\pi \\omega R_0}{c_L}\n",
    "$$\n",
    "\n",
    "### As defined in [prsoperetti 1977]\n",
    "Approximated by $k=\\gamma$ and neglecting $\\frac{2\\sigma}{R_0}$ (How?)\n",
    "($2\\pi$ is not in the formula)\n",
    "$$\n",
    "    B = \\frac{1}{3} G_1 G_2 ~Im \\{ \\phi (G1, G2) \\} \n",
    "$$\n",
    "\n",
    "\n",
    "[Pfriem]  in the limits large $G_1$ and $G_2 \\approx 0$ \n",
    "$$~B= 3(\\gamma-1)(2\\gamma G_2)^{-1/2}$$"
   ]
  },
  {
   "cell_type": "code",
   "execution_count": 80,
   "metadata": {},
   "outputs": [
    {
     "data": {
      "image/png": "[encoded data removed]",
      "text/plain": [
       "<Figure size 432x288 with 1 Axes>"
      ]
     },
     "metadata": {
      "needs_background": "light"
     },
     "output_type": "display_data"
    }
   ],
   "source": [
    "fig, ax1 = plt.subplots()\n",
    "\n",
    "ax1.set_xlabel(\"$G_2$\")\n",
    "ax1.set_ylabel(\"$B$\")\n",
    "\n",
    "def init_parametric_space(G1_vector, G2_vector, gamma):\n",
    "    for i in range(len(G1_vector)):\n",
    "        G1 = G1_vector[i]\n",
    "        G2_truncated = []\n",
    "        B_vector = [];\n",
    "        for j in range(len(G2_vector)):\n",
    "            G2 = G2_vector[j]\n",
    "            params = complex_parameters (G1, G2, gamma);\n",
    "            (lambda1, lambda2, alpha1, alpha2, beta1, beta2, phi) = params;\n",
    "            B = (gamma*G1*G2/3)*phi.imag\n",
    "            if (phi.real < 0):\n",
    "                break;\n",
    "            B_vector.append(B)\n",
    "            G2_truncated.append(G2) \n",
    "        _label = \"G1=\"+str(G1)\n",
    "        ax1.plot(G2_truncated, B_vector, linewidth = 0.7, label=_label)\n",
    "\n",
    "G1_space = [1e-5, 1e-9]\n",
    "G2_space = 10**np.linspace(-1,9, 1000)\n",
    "gamma = 1.4\n",
    "\n",
    "init_parametric_space(G1_space, G2_space, gamma)\n",
    "#[Pfriem]\n",
    "ax1.plot(G2_space, 3*(gamma - 1)*np.power(2*gamma*G2_space, -0.5), linewidth = 0.7, \n",
    "         label=r'[Pfriem]$~B= 3(\\gamma-1)(2\\gamma G_2)^{-1/2}$')\n",
    "\n",
    "ax1.set_xscale('log')\n",
    "plt.ylim([0, .13])\n",
    "ax1.legend(loc = \"upper right\")\n",
    "fig.tight_layout()  # otherwise the right y-label is slightly clipped\n",
    "plt.show()"
   ]
  },
  {
   "cell_type": "markdown",
   "metadata": {},
   "source": [
    "### Damping Coefficient as in [Chapman and Plesset]\n",
    "Comparing Damping Coefficients\n",
    "$$\n",
    "  \\Lambda_{th} =  \\pi \\frac{\\gamma G_1 G_2 Im\\{\\phi\\} p_{G,0}}{\\gamma G_1 G_2 Re\\{\\phi\\} p_{G,0} - \\frac{2\\sigma}{R_0}}\n",
    "$$\n",
    "$$\n",
    "    \\Lambda_{visc} = \\frac{4\\pi \\mu_L}{\\rho_L \\omega R_0^2}\n",
    "$$\n",
    "$$\n",
    "    \\Lambda_{ac} = \\frac{\\pi \\omega R_0}{c_L}\n",
    "$$"
   ]
  },
  {
   "cell_type": "markdown",
   "metadata": {},
   "source": [
    "## Damping Coefficients (Dimensional)\n",
    "$$\n",
    "\\left( \n",
    "            \\frac{4\\mu_L}{\\rho_L R_0^2} + \\frac{ \\rho_{G,0}  }{\\rho_L} \\omega~ Im\\{\\phi\\} + \\omega \\frac{\\omega R_0/c_L}{1+(\\omega R_0/c_L)^2}\n",
    "        \\right)\n",
    "$$"
   ]
  },
  {
   "cell_type": "code",
   "execution_count": 87,
   "metadata": {},
   "outputs": [
    {
     "data": {
      "image/png": "[encoded data removed]",
      "text/plain": [
       "<Figure size 432x288 with 1 Axes>"
      ]
     },
     "metadata": {
      "needs_background": "light"
     },
     "output_type": "display_data"
    }
   ],
   "source": [
    "fig, ax1 = plt.subplots()\n",
    "\n",
    "ax1.set_xlabel(\"$G_2$\")\n",
    "ax1.set_ylabel(r\"$\\Lambda_{th}$\")\n",
    "\n",
    "def init_parametric_space(G1_vector, G2_vector, gamma):\n",
    "    for i in range(len(G1_vector)):\n",
    "        G1 = G1_vector[i]\n",
    "        G2_truncated = []\n",
    "        L_vector = [];\n",
    "        for j in range(len(G2_vector)):\n",
    "            G2 = G2_vector[j]\n",
    "            params = complex_parameters (G1, G2, gamma);\n",
    "            (lambda1, lambda2, alpha1, alpha2, beta1, beta2, phi) = params;\n",
    "            L = (2*np.pi*1e-3)*phi.imag\n",
    "            if (phi.real < 0):\n",
    "                break;\n",
    "            L_vector.append(L)\n",
    "            G2_truncated.append(G2) \n",
    "        _label = \"G1=\"+str(G1)\n",
    "        ax1.plot(G2_truncated, L_vector, linewidth = 0.7, label=_label)\n",
    "\n",
    "G1_space = [1e-5, 1e-9]\n",
    "G2_space = 10**np.linspace(-1,9, 1000)\n",
    "gamma = 1.4\n",
    "\n",
    "init_parametric_space(G1_space, G2_space, gamma)\n",
    "\n",
    "ax1.set_xscale('log')\n",
    "#plt.ylim([0, .13])\n",
    "ax1.legend(loc = \"upper right\")\n",
    "fig.tight_layout()  # otherwise the right y-label is slightly clipped\n",
    "plt.show()"
   ]
  },
  {
   "cell_type": "markdown",
   "metadata": {},
   "source": [
    "Fixed these parameters fixed for air-water at ambient\n",
    "\n",
    "$$p_{\\infty,0} = 1\\times 10^5 Pa$$,\n",
    "\n",
    "$$\\rho_L = 1\\times 10^{3} kgm^{-3}$$,\n",
    "\n",
    "$$\\mu_L=8.9\\times 10^{-4} Ns/m^{2}$$,\n",
    "\n",
    "$$\\sigma = 0.072 N/m$$,\n",
    "\n",
    "$$\\gamma = 1.33$$\n",
    "\n",
    "\n",
    "These parameters are chosen\n",
    "\n",
    "$$R_0 = 2\\times 10^{-6} m $$\n",
    "\n",
    "$$\\frac{\\omega_0}{\\omega} = 1.2 $$"
   ]
  },
  {
   "cell_type": "code",
   "execution_count": null,
   "metadata": {},
   "outputs": [],
   "source": []
  }
 ],
 "metadata": {
  "kernelspec": {
   "display_name": "Python 3",
   "language": "python",
   "name": "python3"
  },
  "language_info": {
   "codemirror_mode": {
    "name": "ipython",
    "version": 3
   },
   "file_extension": ".py",
   "mimetype": "text/x-python",
   "name": "python",
   "nbconvert_exporter": "python",
   "pygments_lexer": "ipython3",
   "version": "3.8.5"
  }
 },
 "nbformat": 4,
 "nbformat_minor": 4
}
