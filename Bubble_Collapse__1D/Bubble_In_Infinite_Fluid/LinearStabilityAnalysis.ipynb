{
 "cells": [
  {
   "cell_type": "code",
   "execution_count": 2,
   "metadata": {},
   "outputs": [],
   "source": [
    "import numpy as np\n",
    "import matplotlib as mpl\n",
    "from matplotlib import pyplot as plt\n",
    "from scipy.integrate import odeint"
   ]
  },
  {
   "cell_type": "markdown",
   "metadata": {},
   "source": [
    "# Linearisation of R-P equation\n",
    "$$\n",
    "\\omega^2  - j\\omega \\frac{4\\mu_L}{\\rho_L R_0^2} +  \\frac{1}{\\rho_L R_0^2} \\left(\n",
    "  ( \\frac{2\\sigma}{R_0} - {3kp_{G,0}}) \\right)\n",
    "  =\n",
    "  - \\frac{p_\\infty}{\\rho_L R_0^2 \\epsilon_0} e^{-j\\phi}\n",
    "$$\n"
   ]
  },
  {
   "cell_type": "markdown",
   "metadata": {},
   "source": [
    "$$\n",
    "R(t) = R_0  -  R_0 \\epsilon_0\n",
    "    ~Re\n",
    "      \\left\\{ e^{j ( \\omega t + \\phi)} \\right\\}\n",
    "$$"
   ]
  },
  {
   "cell_type": "markdown",
   "metadata": {},
   "source": [
    "$$\n",
    "\\phi = - arctan {\n",
    "            \\bigg( \\frac{ \\omega^2 - \\omega_0^2}{ ( \\omega \\frac{4\\mu_L}{\\rho_L R_0^2}  )} \\bigg)\n",
    "                 } - \\frac{\\pi}{2}\n",
    "$$"
   ]
  },
  {
   "cell_type": "markdown",
   "metadata": {},
   "source": [
    "$$\n",
    "\\epsilon_0 = \\frac{p_A}{\\rho_L R_0^2}\n",
    "  \\frac{1}{\\sqrt{\\left(  (\\omega^2 - \\omega_0^2)^2 + (\\omega \\frac{4\\mu_L}{\\rho_L R_0^2} )^2        \\right)}}\n",
    "$$"
   ]
  },
  {
   "cell_type": "markdown",
   "metadata": {},
   "source": [
    "## Non Dimensional numbers\n",
    "\n",
    "(1) Acoustic pressure to ambient pressure ratio\n",
    "$$\n",
    "    p^* = \\frac{p_A}{p_{\\infty,0}}\n",
    "$$\n",
    "(2) Weber Number\n",
    "$$\n",
    "    w^* = \\frac{p_{\\infty,0} R_0}{2\\sigma}\n",
    "$$\n",
    "(3) square of sound walength to radius ratio\n",
    "$$\n",
    " l^{*} = \\frac{1}{\\gamma} \\left( \\frac{\\lambda_L}{R_0} \\right)^2 = \\frac{p_{\\infty,0}}{\\rho_L R_0^2 \\omega^2}\n",
    "$$\n",
    "(4) Ratio of natural frequency to driving frequency ratio\n",
    "$$\n",
    "    \\omega^* = \\frac{\\omega_0}{\\omega} = \\sqrt{l^* \\left( 3k (1+\\frac{1}{w^*})  - \\frac{1}{w^*}\\right) }\n",
    "$$\n",
    "(5) Viscous Damping coefficient\n",
    "$$\n",
    "    \\zeta^* = \\frac{\\beta_{\\mu}}{\\omega_0} = \\frac{2\\mu_L}{\\rho_L R_0^2 \\omega_0}\n",
    "$$\n",
    "## Bubble response\n",
    "which gives for an external pressure field with an acoustic pressure pertubration\n",
    "$$\n",
    "    p_{\\infty}(t) = p_{\\infty,0} (1+p^* e^{j\\omega t})\n",
    "$$\n",
    "The bubble responds as\n",
    "$$\n",
    "R(t) = R_0  -  R_0 \\epsilon_0\n",
    "    ~Re\n",
    "      \\left\\{ e^{j ( \\omega t + \\phi)} \\right\\}\n",
    "$$\n",
    "where \n",
    "$$\n",
    "\\phi = - arctan {\n",
    "            \\bigg( \\frac{ 1 - {\\omega^*}^2 }{ ( 2\\zeta^* \\omega^* )} \\bigg)\n",
    "                 } - \\frac{\\pi}{2}\n",
    "$$\n",
    "and \n",
    "$$\n",
    "\\epsilon_0 = \n",
    "  \\frac{p^* l^*}{\\sqrt{\\left(  {(1 - {\\omega^*}^2)}^2 + { ( 2\\zeta^* \\omega^* )}^2        \\right)}}\n",
    "$$\n"
   ]
  },
  {
   "cell_type": "code",
   "execution_count": 4,
   "metadata": {},
   "outputs": [],
   "source": [
    "#Liquid properties\n",
    "rho = 1e3\n",
    "mu = 8.9e-4\n",
    "sigma=0.072\n",
    "\n",
    "#Ambient COnditions\n",
    "p_atm = 1e5\n",
    "\n",
    "#Polytropic coeff\n",
    "gamma=1.33"
   ]
  },
  {
   "cell_type": "markdown",
   "metadata": {},
   "source": [
    "Fixed these parameters fixed for air-water at ambient\n",
    "\n",
    "$$p_{\\infty,0} = 1\\times 10^5 Pa$$,\n",
    "\n",
    "$$\\rho_L = 1\\times 10^{3} kgm^{-3}$$,\n",
    "\n",
    "$$\\mu_L=8.9\\times 10^{-4} Ns/m^{2}$$,\n",
    "\n",
    "$$\\sigma = 0.072 N/m$$,\n",
    "\n",
    "$$\\gamma = 1.33$$\n",
    "\n",
    "These parameters are chosen\n",
    "\n",
    "$$R_0 = 2\\times 10^{-6} m $$\n",
    "\n",
    "$$\\frac{\\omega_0}{\\omega} = 1.2 $$"
   ]
  },
  {
   "cell_type": "code",
   "execution_count": 20,
   "metadata": {},
   "outputs": [],
   "source": [
    "#initial Condition\n",
    "R_0 = 2e-6\n",
    "u_0 = 0\n",
    "\n",
    "#frequency ratio\n",
    "omegastar = 1.2\n",
    "\n",
    "#Polytropic coeff\n",
    "k=gamma\n",
    "\n",
    "#acoustic pressure ratio\n",
    "pstar = 0.1"
   ]
  },
  {
   "cell_type": "code",
   "execution_count": 47,
   "metadata": {},
   "outputs": [],
   "source": [
    "#NOn dimensional numbers\n",
    "def parameters(omegastar, R_0, k, pstar):\n",
    "    #weber number\n",
    "    wstar = p_atm/(2*sigma*R_0)\n",
    "    #Natural Frequency\n",
    "    omega0 = np.sqrt(p_atm/(rho*R_0**2))*np.sqrt( 3*k*(1+1/wstar) - 1/wstar );\n",
    "    omega = omega0/omegastar\n",
    "    lstar = p_atm/(rho* R_0**2 * omega**2);\n",
    "    zetastar = 2*mu/(rho* R_0**2 * omega);\n",
    "    return [pstar, wstar, lstar, omegastar, zetastar, omega0]    "
   ]
  },
  {
   "cell_type": "code",
   "execution_count": 48,
   "metadata": {},
   "outputs": [],
   "source": [
    "#Amplitude and phase\n",
    "def cosineparameters(pstar, wstar, lstar, ostar, zetastar):\n",
    "    phi = -np.arctan2(2*zetastar*omegastar, 1-omegastar**2)-0.5*np.pi\n",
    "    eps = p*l/np.sqrt( ( 1-omegastar**2 )**2 +  ( 2*zetastar*omegastar )**2);\n",
    "    return [phi, eps]"
   ]
  },
  {
   "cell_type": "code",
   "execution_count": 57,
   "metadata": {},
   "outputs": [],
   "source": [
    "def cosine(A, PHI, OMEGA, T):\n",
    "    return A*np.cos(OMEGA*T+PHI)"
   ]
  },
  {
   "cell_type": "code",
   "execution_count": 58,
   "metadata": {},
   "outputs": [
    {
     "data": {
      "text/plain": [
       "[0.1,\n",
       " 347222222222.2222,\n",
       " 0.3609022556383189,\n",
       " 1.2,\n",
       " 0.053466875417506145,\n",
       " 9987492.177729866]"
      ]
     },
     "execution_count": 58,
     "metadata": {},
     "output_type": "execute_result"
    }
   ],
   "source": [
    "#check the non-dim numbers\n",
    "(pstar, wstar, lstar, omegastar, zetastar, omega0) = parameters (omegastar, R_0, gamma, pstar) \n",
    "parameters (omegastar, R_0, gamma, pstar) "
   ]
  },
  {
   "cell_type": "code",
   "execution_count": 59,
   "metadata": {},
   "outputs": [
    {
     "data": {
      "text/plain": [
       "[-4.428621749288298, 0.07874292758899537]"
      ]
     },
     "execution_count": 59,
     "metadata": {},
     "output_type": "execute_result"
    }
   ],
   "source": [
    "(phi, eps) = cosineparameters(pstar, wstar, lstar, omegastar, zetastar)\n",
    "cosineparameters(pstar, wstar, lstar, omegastar, zetastar)"
   ]
  },
  {
   "cell_type": "markdown",
   "metadata": {},
   "source": [
    "## Bubble response using Linear Response analysis"
   ]
  },
  {
   "cell_type": "code",
   "execution_count": 61,
   "metadata": {},
   "outputs": [
    {
     "data": {
      "image/png": "[encoded data removed]",
      "text/plain": [
       "<Figure size 432x288 with 1 Axes>"
      ]
     },
     "metadata": {
      "needs_background": "light"
     },
     "output_type": "display_data"
    }
   ],
   "source": [
    "#plot p_infty(t) vs t\n",
    "tsample = np.arange(0, 6*np.pi/o0, 6*np.pi/(o0*1000))\n",
    "psample = cosine(pstar, 0., o0/o, tsample)\n",
    "perturbation = -cosine(eps, phi, o0/o, tsample)\n",
    "fig, ax1 = plt.subplots()\n",
    "\n",
    "ax1.set_xlabel(\"t/T\")\n",
    "ax1.set_ylabel(\"$p_{acoustic}$/$p_{patm}$\")\n",
    "ax1.plot(tsample/(2*np.pi/o0), psample, linewidth = 0.7, label = \"acoustic pressure / p_atm\")\n",
    "ax1.plot(tsample/(2*np.pi/o0), perturbation, linewidth = 0.7, label = \"perturbation/ R_0\")\n",
    "\n",
    "ax1.legend(loc = \"lower right\")\n",
    "\n",
    "fig.tight_layout()  # otherwise the right y-label is slightly clipped\n",
    "\n",
    "plt.show()"
   ]
  },
  {
   "cell_type": "markdown",
   "metadata": {},
   "source": [
    "# Rayleigh-Plesset Equation\n",
    "$$\n",
    "    \\frac{1}{\\rho_L} {(p_B(t) - p_{\\infty}(t))} =  R\\frac{d^2 R}{dt^2}\n",
    "             + \\frac{3}{2} (\\frac{dR}{dt})^2 + \\frac{4 \\nu_L}{R} \\frac{dR}{dt} + \\frac{2\\sigma}{\\rho_L R}\n",
    "$$\n",
    "## (Some more) Non dimensional numbers\n",
    "(6) Non-dim time\n",
    "    $$\n",
    "        t^* = \\frac{2\\pi t}{\\omega}\n",
    "    $$\n",
    "(7) Non-dim Radius\n",
    "    $$\n",
    "       R^*(t) =  \\frac{R(t^*)}{R_0}\n",
    "    $$\n",
    "(8) Non-dim Interface velocity\n",
    "    $$\n",
    "       U^{*} =  \\frac{U(t^*) \\omega}{R_0}\n",
    "    $$\n",
    "    \n",
    "## R-P (Non-dimensionalised)\n",
    "\n",
    "$$\n",
    "    R^*\\frac{dU^*}{dt^*} + \\frac{3}{2} {U^*}^2 + 2\\zeta^* \\omega^* \\frac{U^*}{R^*} + \\frac{l^*}{w^*} \\frac{1}{R^*} =\n",
    "    l^* (1+\\frac{1}{w^*}) (\\frac{1}{R^*})^{3k} + l^* (1+p^* e^{j 2 \\pi t^*})\n",
    "$$\n",
    "which gives\n",
    "\n",
    "$$\n",
    "\\frac{d}{dt^*} \n",
    "\\begin{bmatrix} R^* \\\\ U^* \\end{bmatrix} =\n",
    "\\begin{bmatrix} U^* \\\\ \\frac{1}{R^* }\\left( \n",
    "    l^* (1+\\frac{1}{w^*}) (\\frac{1}{R^*})^{3k} + l^* (1+p^* e^{j\\omega t}) - \n",
    "    \\frac{3}{2} {U^*}^2 - 2\\zeta^* \\omega^* \\frac{U^*}{R^*} - \\frac{l^*}{w^*} \\frac{1}{R^*}\n",
    "\\right)\n",
    "\\end{bmatrix}\n",
    "$$"
   ]
  },
  {
   "cell_type": "code",
   "execution_count": 8,
   "metadata": {},
   "outputs": [],
   "source": []
  },
  {
   "cell_type": "code",
   "execution_count": null,
   "metadata": {},
   "outputs": [],
   "source": [
    "#partial pressure of air at eqb\n",
    "p_g0 = p_atm + 2 * sigma/R_0 - p_v"
   ]
  },
  {
   "cell_type": "code",
   "execution_count": null,
   "metadata": {},
   "outputs": [],
   "source": [
    "#pressure at infty as a function of time\n",
    "#6 cycles of sine waves with a gaussian envelope\n",
    "p_a = 1.2*p_atm\n",
    "omega_N = (1/R_0)*np.sqrt(3*gamma*p_g0/rho-2*sigma/R_0/rho);\n",
    "omega = 2*omega_N;\n",
    "t0 = 3*2*np.pi/omega\n",
    "def p_infty (t):\n",
    "    p_it = p_atm - p_a * np.sin(omega*t)*np.exp(-1.5*(t-t0)**2/(t0**2))\n",
    "    return p_it\n",
    "\n",
    "def dpinfty_dt(t):\n",
    "    return (-p_a*(omega*np.cos(omega*t) + (3*(t-t0)/t0**2)*np.sin(omega*t))*np.exp(-1.5*(t-t0)**2/(t0**2)));\n",
    "\n",
    "#partial pressure of air as a function of R\n",
    "def p_gas(R):\n",
    "    p_g = p_g0*np.power(R_0/R, 3*gamma);\n",
    "    return p_g"
   ]
  },
  {
   "cell_type": "code",
   "execution_count": 6,
   "metadata": {},
   "outputs": [
    {
     "data": {
      "image/png": "[encoded data removed]",
      "text/plain": [
       "<Figure size 432x288 with 1 Axes>"
      ]
     },
     "metadata": {
      "needs_background": "light"
     },
     "output_type": "display_data"
    }
   ],
   "source": [
    "#plot p_infty(t) vs t\n",
    "tsample = np.arange(0, 2*t0, t0/1000)\n",
    "psample = p_infty(tsample)\n",
    "fig, ax1 = plt.subplots()\n",
    "\n",
    "ax1.set_xlabel(\"t/T\")\n",
    "ax1.set_ylabel(\"$p_\\infty$/$p_{patm}$\")\n",
    "ax1.plot(tsample/(2*np.pi/omega), psample/p_atm, linewidth = 0.7, label = \"applied pressure\")\n",
    "\n",
    "ax1.legend(loc = \"lower right\")\n",
    "\n",
    "fig.tight_layout()  # otherwise the right y-label is slightly clipped\n",
    "\n",
    "plt.show()"
   ]
  },
  {
   "cell_type": "code",
   "execution_count": 7,
   "metadata": {},
   "outputs": [],
   "source": [
    "#d/dt (x) = equation(x,t)\n",
    "def RP(x, t):\n",
    "    (R,u) = x;\n",
    "    udot = (p_gas(R)+p_v-p_infty(t)-2*sigma/R-4*mu*u/R)/(R*rho)-3*u**2/(2*R)\n",
    "    return (u, udot)"
   ]
  },
  {
   "cell_type": "code",
   "execution_count": 8,
   "metadata": {},
   "outputs": [],
   "source": [
    "#speed of sound at ambient\n",
    "C0 = 1450;\n",
    "\n",
    "#Keller - Miksis\n",
    "def KM(x, t):\n",
    "    (R,u) = x; \n",
    "    p_L = p_gas(R) + p_v -2*sigma/R-4*mu*u/R; #p_l(r,t) at r=R\n",
    "    dpL_dt_res = -3*gamma*p_gas(R)*u/R  +  2*sigma*u/R  +  4*mu*u**2/R**2; #dpl_dt_res = dpL_dt - (-4*mu*udot/R)\n",
    "    udot = ( (1+u/C0)*(p_L-p_infty(t))/rho + R*(dpL_dt_res - dpinfty_dt(t))/(rho*C0) - 1.5*(1-u/3/C0)*u**2 )/ (1-u/C0 + 4*mu/(C0*rho*R))/R;\n",
    "    return (u, udot)"
   ]
  },
  {
   "cell_type": "code",
   "execution_count": 9,
   "metadata": {},
   "outputs": [
    {
     "data": {
      "image/png": "[encoded data removed]",
      "text/plain": [
       "<Figure size 432x288 with 1 Axes>"
      ]
     },
     "metadata": {
      "needs_background": "light"
     },
     "output_type": "display_data"
    }
   ],
   "source": [
    "time = np.arange(0, 24*2*np.pi/omega, 0.000000000025)\n",
    "#time = np.arange(0, 6*2*np.pi/omega, 0.00000000025)\n",
    "#solving ODE by RP\n",
    "R_RP = odeint(RP, [R_0, u_0], time)\n",
    "U_RP = R_RP[:,1]\n",
    "R_RP = R_RP[:,0]/R_0\n",
    "#solving ODE by KM\n",
    "R_KM = odeint(KM, [R_0, u_0], time)\n",
    "U_KM = R_KM[:,1]\n",
    "R_KM = R_KM[:,0]/R_0\n",
    "#plot results\n",
    "\n",
    "fig, ax1 = plt.subplots()\n",
    "\n",
    "ax1.set_xlabel(\"t/T\")\n",
    "ax1.set_ylabel(\"R/$R_0$\")\n",
    "ax1.plot(time/(2*np.pi/omega), R_RP, linewidth = 0.7, label = \"Bubble Radius (RP)\", color = 'blue')\n",
    "ax1.plot(time/(2*np.pi/omega), R_KM, linewidth = 0.7, label = \"Bubble Radius (KM)\", color = 'red')\n",
    "\n",
    "ax1.legend(loc = \"lower right\")\n",
    "\n",
    "fig.tight_layout()  # otherwise the right y-label is slightly clipped\n",
    "\n",
    "plt.show()"
   ]
  },
  {
   "cell_type": "code",
   "execution_count": 10,
   "metadata": {},
   "outputs": [],
   "source": [
    "#Fourier Analysis\n",
    "from numpy.fft import fft, ifft, fftshift, fftfreq\n",
    "\n",
    "def fft_transform(x, y):\n",
    "    \"\"\"\n",
    "    Plot y(x) and its transform.\n",
    "    \n",
    "    y can be real or complex.\n",
    "    \"\"\"\n",
    "    x = np.asarray(x)\n",
    "    y = np.asarray(y)\n",
    "    fy = fftshift(fft(y))\n",
    "    freqs = fftshift(fftfreq(len(x), d=(x[1] - x[0])))    \n",
    "\n",
    "    return fy, freqs \n",
    "\n",
    "def show_transform(x, y):\n",
    "    \"\"\"\n",
    "    Plot y(x) and its transform.\n",
    "    \n",
    "    y can be real or complex.\n",
    "    \"\"\"\n",
    "    x = np.asarray(x)\n",
    "    y = np.asarray(y)\n",
    "    fy = fftshift(fft(y))\n",
    "    freqs = fftshift(fftfreq(len(x), d=(x[1] - x[0])))    \n",
    "    fig, axs = plt.subplots(nrows=2, constrained_layout=True)\n",
    "\n",
    "    for ax in axs:\n",
    "        ax.margins(x=0.05, y=0.1)\n",
    "        ax.grid(True)\n",
    "        ax.locator_params(symmetric=True)\n",
    "        # (Line above doesn't seem to be working as expected...)\n",
    "            \n",
    "    ax = axs[0]\n",
    "    if y.dtype.kind == 'c':\n",
    "        ax.plot(x, y.real, 'r+', x, y.imag, 'bx')\n",
    "    else:\n",
    "        ax.plot(x, y, 'k.')\n",
    "    ax.set_xlabel(\"Time\")\n",
    "    \n",
    "    ax = axs[1]\n",
    "    ax.plot(freqs, np.abs(fy), 'ko', mfc='none', label='amp')\n",
    "    ax.plot(freqs, fy.real, 'r+', label='real')\n",
    "    ax.plot(freqs, fy.imag, 'bx', label='imag')\n",
    "\n",
    "    ax.set_xlabel(\"Frequency, cycles per unit time\")\n",
    "    ax.legend(loc=\"best\", \n",
    "                  numpoints=1,\n",
    "                  fontsize='small')\n",
    "    \n",
    "\n",
    "    return fig, axs "
   ]
  },
  {
   "cell_type": "code",
   "execution_count": 11,
   "metadata": {},
   "outputs": [
    {
     "data": {
      "text/plain": [
       "24596408.274380226"
      ]
     },
     "execution_count": 11,
     "metadata": {},
     "output_type": "execute_result"
    }
   ],
   "source": [
    "#Forcing frequency \n",
    "omega"
   ]
  },
  {
   "cell_type": "code",
   "execution_count": 12,
   "metadata": {},
   "outputs": [
    {
     "data": {
      "text/plain": [
       "12298204.137190113"
      ]
     },
     "execution_count": 12,
     "metadata": {},
     "output_type": "execute_result"
    }
   ],
   "source": [
    "#natural frequency\n",
    "omega_N"
   ]
  },
  {
   "cell_type": "code",
   "execution_count": 13,
   "metadata": {},
   "outputs": [
    {
     "data": {
      "text/plain": [
       "0.9986898494135765"
      ]
     },
     "execution_count": 13,
     "metadata": {},
     "output_type": "execute_result"
    }
   ],
   "source": [
    "#resonance frequency\n",
    "omega_P= np.sqrt(omega_N**2 - 8*mu**2/rho**2/R_0**4);\n",
    "omega_P/omega_N"
   ]
  },
  {
   "cell_type": "code",
   "execution_count": 14,
   "metadata": {},
   "outputs": [
    {
     "data": {
      "image/png": "[encoded data removed]",
      "text/plain": [
       "<Figure size 432x288 with 1 Axes>"
      ]
     },
     "metadata": {
      "needs_background": "light"
     },
     "output_type": "display_data"
    }
   ],
   "source": [
    "#pressure forcing\n",
    "fy, freqs = fft_transform(tsample*omega_N, psample/p_atm-1)\n",
    "\n",
    "fig, ax1 = plt.subplots()\n",
    "ax1.set_xlabel(\"omega/omega_N\")\n",
    "ax1.set_ylabel(\"amplitude\")\n",
    "ax1.plot(freqs*2*np.pi, np.abs(fy), linewidth = 0.7, label = \"energy spectrum of input acoustc wave\", color = 'blue')\n",
    "plt.xlim(0,3);\n",
    "plt.show() #expect amplitude max at omega/omega_N=2"
   ]
  },
  {
   "cell_type": "code",
   "execution_count": 15,
   "metadata": {},
   "outputs": [
    {
     "data": {
      "image/png": "[encoded data removed]",
      "text/plain": [
       "<Figure size 432x288 with 1 Axes>"
      ]
     },
     "metadata": {
      "needs_background": "light"
     },
     "output_type": "display_data"
    }
   ],
   "source": [
    "#fourier of radius\n",
    "fy, freqs = fft_transform(time*omega_N, R_KM-1)\n",
    "\n",
    "fig, ax1 = plt.subplots()\n",
    "ax1.set_xlabel(\"omega/omega_N\")\n",
    "ax1.set_ylabel(\"amplitude\")\n",
    "ax1.plot(freqs*2*np.pi, np.abs(fy), linewidth = 0.7, label = \"x(omega) from (R(t)/R0 -1 )\", color = 'blue')\n",
    "plt.xlim(0,4);\n",
    "plt.show() #expect amplitude max ?"
   ]
  },
  {
   "cell_type": "code",
   "execution_count": 16,
   "metadata": {},
   "outputs": [
    {
     "data": {
      "image/png": "[encoded data removed]",
      "text/plain": [
       "<Figure size 432x288 with 1 Axes>"
      ]
     },
     "metadata": {
      "needs_background": "light"
     },
     "output_type": "display_data"
    }
   ],
   "source": [
    "#energy spectrum of reflecting wave is rho*const*( 2*(Rdot**2)*R + (R**2)*Rdotdot )\n",
    "\n",
    "Energy = [];\n",
    "Energy.append(0.)\n",
    "#udot = [];\n",
    "r, = np.shape(R_KM)\n",
    "for i in np.arange(1, r):\n",
    "    t = time[i]\n",
    "    u = U_KM[i]\n",
    "    R = R_KM[i]\n",
    "    u,a = KM((R,u), t)\n",
    "    Energy.append(2*u**2*R+R**2*a)\n",
    "\n",
    "#energy spectrum\n",
    "fy, freqs = fft_transform(time*omega_N, Energy) \n",
    "fig, ax1 = plt.subplots()\n",
    "ax1.set_xlabel(\"omega/omega_N\")\n",
    "ax1.set_ylabel(\"amplitude\")\n",
    "ax1.semilogy(freqs*2*np.pi, np.abs(fy), linewidth = 0.7, label = \"x(omega) from (R(t)/R0 -1 )\", color = 'blue')\n",
    "plt.xlim(0,4);\n",
    "plt.show() #expect amplitude max ?"
   ]
  },
  {
   "cell_type": "code",
   "execution_count": null,
   "metadata": {},
   "outputs": [],
   "source": []
  },
  {
   "cell_type": "code",
   "execution_count": null,
   "metadata": {},
   "outputs": [],
   "source": []
  }
 ],
 "metadata": {
  "kernelspec": {
   "display_name": "Python 3",
   "language": "python",
   "name": "python3"
  },
  "language_info": {
   "codemirror_mode": {
    "name": "ipython",
    "version": 3
   },
   "file_extension": ".py",
   "mimetype": "text/x-python",
   "name": "python",
   "nbconvert_exporter": "python",
   "pygments_lexer": "ipython3",
   "version": "3.8.5"
  }
 },
 "nbformat": 4,
 "nbformat_minor": 4
}
