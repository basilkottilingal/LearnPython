{
 "cells": [
  {
   "cell_type": "code",
   "execution_count": 51,
   "metadata": {},
   "outputs": [],
   "source": [
    "import os"
   ]
  },
  {
   "cell_type": "code",
   "execution_count": 52,
   "metadata": {},
   "outputs": [],
   "source": [
    "#current working dir\n",
    "path=os.getcwd()\n",
    "#new files will be written to this dir\n",
    "path=path+'\\_allref'\n",
    "if not os.path.exists(path):\n",
    "    os.mkdir(path)"
   ]
  },
  {
   "cell_type": "code",
   "execution_count": 53,
   "metadata": {},
   "outputs": [
    {
     "data": {
      "text/plain": [
       "'C:\\\\Users\\\\kotti\\\\work\\\\Python\\\\Bibliography\\\\_allref'"
      ]
     },
     "execution_count": 53,
     "metadata": {},
     "output_type": "execute_result"
    }
   ],
   "source": [
    "#copy of path. Incase path is changed in future\n",
    "PATH_TO_WRITE=str(path)\n",
    "def _write_to(fname):\n",
    "    _fname = PATH_TO_WRITE+\"\\\\\"+fname\n",
    "    #object of (writing) file\n",
    "    _fw = open(_fname,\"w\");\n",
    "    if _fw == None:\n",
    "        print('COUDN\\'T OPEN')\n",
    "    return _fw;\n",
    "PATH_TO_WRITE"
   ]
  },
  {
   "cell_type": "code",
   "execution_count": 54,
   "metadata": {},
   "outputs": [],
   "source": [
    "#Remove Comments % in .bin files\n",
    "#Reading from\n",
    "fname='references'\n",
    "_fr = open(fname+'.bib', 'r')\n",
    "_fw=_write_to(fname+'.uncommented.bib');\n",
    "\n",
    "\n",
    "for line in _fr:\n",
    "    if (line.lstrip() != \"\"):\n",
    "        if (line[0] != '%'):\n",
    "            _fw.write(line)\n",
    "  \n",
    "    \n",
    "# Closing files\n",
    "_fr.close()\n",
    "_fw.close()"
   ]
  },
  {
   "cell_type": "code",
   "execution_count": 66,
   "metadata": {},
   "outputs": [
    {
     "data": {
      "text/plain": [
       "['UNKNOWN',\n",
       " 'title',\n",
       " 'author',\n",
       " 'journal',\n",
       " 'volume',\n",
       " 'pages',\n",
       " 'year',\n",
       " 'publisher',\n",
       " 'number',\n",
       " 'howpublished']"
      ]
     },
     "execution_count": 66,
     "metadata": {},
     "output_type": "execute_result"
    }
   ],
   "source": [
    "article_type=['UNKNOWN'];\n",
    "article_info=['UNKNOWN'];\n",
    "\n",
    "fname='references'\n",
    "_fr = open(fname+'.bib', 'r')\n",
    "\n",
    "for line in _fr:\n",
    "    _l=line.strip();\n",
    "    if (_l != ''):\n",
    "        if (_l[0] == \"@\"):\n",
    "            _type = _l[1:_l.find(\"{\")]\n",
    "            if _type not in article_type:\n",
    "                article_type.append(_type);\n",
    "        elif (_l[0] != '}' and _l[0] != '%'):\n",
    "            _info = _l[0:_l.find(\"=\")].rstrip();\n",
    "            if _info not in article_info:\n",
    "                article_info.append(_info);\n",
    "                \n",
    "    \n",
    "# Closing files\n",
    "_fr.close()\n",
    "\n",
    "article_info"
   ]
  },
  {
   "cell_type": "code",
   "execution_count": 56,
   "metadata": {},
   "outputs": [],
   "source": [
    "#Might have to update.\n",
    "#article_info=['UNKNOWN', 'title', 'author', 'journal', 'volume', 'pages', 'year', 'publisher', 'number', 'howpublished']\n",
    "#article_type=['UNKNOWN', 'article', 'book', 'Misc']"
   ]
  },
  {
   "cell_type": "code",
   "execution_count": 73,
   "metadata": {},
   "outputs": [
    {
     "data": {
      "text/plain": [
       "['UNKNOWN',\n",
       " 'peskin2002immersed',\n",
       " 'peskin1972flow',\n",
       " 'peskin1977numerical',\n",
       " 'peskin1989three',\n",
       " 'mcqueen1989three',\n",
       " 'mittal2005immersed',\n",
       " 'brujan2002final',\n",
       " 'qin2009ultrasound',\n",
       " 'rayleigh1917viii',\n",
       " 'brennen2014cavitation',\n",
       " 'fuster2018all',\n",
       " 'oguz1990bubble',\n",
       " 'brujan2001dynamics',\n",
       " 'basilisk',\n",
       " 'popinet2015',\n",
       " 'aniszewski2021parallel',\n",
       " 'afkhami2008',\n",
       " 'tryggvason2011',\n",
       " 'unverdi1992front',\n",
       " 'prosperetti2009computational',\n",
       " 'popinet1999front',\n",
       " 'weymouth2010conservative',\n",
       " 'coleman1987',\n",
       " 'wu2008',\n",
       " 'stride2019',\n",
       " 'crum1988',\n",
       " 'prosperetti1981motion',\n",
       " 'cortelezzi1981small',\n",
       " 'hysing2009quantitative',\n",
       " 'blake1949onset',\n",
       " 'neppiras1951cavitation',\n",
       " 'brennen2014',\n",
       " 'rayleigh1917',\n",
       " 'plesset1949dynamics',\n",
       " 'keller1956damping',\n",
       " 'keller1980bubble',\n",
       " 'minnaert1933xvi',\n",
       " 'chapman1971thermal',\n",
       " 'plesset1977bubble',\n",
       " 'lauterborn1976numerical',\n",
       " 'oguz1998natural',\n",
       " 'martynov2009natural',\n",
       " 'miller1979cylindrical',\n",
       " 'leighton2012acoustic',\n",
       " 'blake1986transient',\n",
       " 'blake1987transient',\n",
       " 'krasovitski2001gas',\n",
       " 'best1992numerical',\n",
       " 'sassaroli2004forced',\n",
       " 'miao2008ultrasonic',\n",
       " 'qin2006acoustic',\n",
       " 'qin2007natural',\n",
       " 'caskey2006microbubble',\n",
       " 'fung1966elastic',\n",
       " 'humphrey2002elastodynamics',\n",
       " 'belardinelli1992theoretical']"
      ]
     },
     "execution_count": 73,
     "metadata": {},
     "output_type": "execute_result"
    }
   ],
   "source": [
    "articles=['UNKNOWN'];\n",
    "for _file in os.listdir():\n",
    "    if (_file[-4:]=='.bib'):\n",
    "        #print(f'{_file}');\n",
    "        _fr = open(_file, 'r');\n",
    "        for line in _fr:\n",
    "            _l=line.strip();\n",
    "            if (_l != ''):\n",
    "                if (_l[0] == '@'):\n",
    "                    _article = _l[_l.find(\"{\")+1:_l.find(\",\")];\n",
    "                    if _article not in articles:\n",
    "                        articles.append(_article);\n",
    "        _fr.close();\n",
    "\n",
    "\n",
    "articles"
   ]
  },
  {
   "cell_type": "code",
   "execution_count": 84,
   "metadata": {},
   "outputs": [],
   "source": [
    "articles=['UNKNOWN'];\n",
    "_fw=_write_to(fname+'.all.bib');\n",
    "NotFound=1\n",
    "for _file in os.listdir():\n",
    "    if (_file[-4:]=='.bib'):\n",
    "        #print(f'{_file}');\n",
    "        _fr = open(_file, 'r');\n",
    "        for line in _fr:\n",
    "            _l=line.strip();\n",
    "            if (_l != ''):\n",
    "                if (_l[0] == '@'):\n",
    "                    _article = _l[_l.find(\"{\")+1:_l.find(\",\")];\n",
    "                    if _article not in articles:\n",
    "                        articles.append(_article);\n",
    "                        NotFound=1\n",
    "                    else:\n",
    "                        Notfound=0\n",
    "                if (_l[0] != '%' and NotFound == 1):\n",
    "                    _fw.write(line);\n",
    "\n",
    "        _fr.close();\n",
    "        \n",
    "_fw.close();"
   ]
  },
  {
   "cell_type": "code",
   "execution_count": null,
   "metadata": {},
   "outputs": [],
   "source": [
    "                elif (_l[0] == '}'):\n",
    "                    _fw.write(article+line); article = ''\n",
    "                elif (_l[0] != '%'):\n",
    "                    article = article + line"
   ]
  }
 ],
 "metadata": {
  "kernelspec": {
   "display_name": "Python 3",
   "language": "python",
   "name": "python3"
  },
  "language_info": {
   "codemirror_mode": {
    "name": "ipython",
    "version": 3
   },
   "file_extension": ".py",
   "mimetype": "text/x-python",
   "name": "python",
   "nbconvert_exporter": "python",
   "pygments_lexer": "ipython3",
   "version": "3.8.5"
  }
 },
 "nbformat": 4,
 "nbformat_minor": 4
}
