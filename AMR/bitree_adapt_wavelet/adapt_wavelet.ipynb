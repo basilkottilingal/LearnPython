{
 "cells": [
  {
   "cell_type": "code",
   "execution_count": 45,
   "metadata": {},
   "outputs": [],
   "source": [
    "import numpy as np\n",
    "import matplotlib as mpl\n",
    "from matplotlib import pyplot as plt\n",
    "from scipy.optimize import minimize"
   ]
  },
  {
   "cell_type": "code",
   "execution_count": 96,
   "metadata": {},
   "outputs": [],
   "source": [
    "def bitree(n):\n",
    "    h = np.power(2., -n);\n",
    "    nl = 1;\n",
    "    for i in range(n):\n",
    "        nl *= 2\n",
    "    tree =  0.5*h + h*np.linspace(0, nl, nl, endpoint=False)\n",
    "    return tree"
   ]
  },
  {
   "cell_type": "code",
   "execution_count": 194,
   "metadata": {},
   "outputs": [],
   "source": [
    "def fx(x):\n",
    "    return np.exp(-32*(0.5-x)**2)"
   ]
  },
  {
   "cell_type": "code",
   "execution_count": 195,
   "metadata": {},
   "outputs": [],
   "source": [
    "def restriction(fxl):\n",
    "    #restricts or averages from l to l-1\n",
    "    _fx = []\n",
    "    for i in range(len(fxl)):\n",
    "        if (i%2 == 1):\n",
    "            val = 0.5*(fxl[i-1] + fxl[i]); \n",
    "            _fx.append(val);\n",
    "    return _fx;\n",
    "\n",
    "#Apply ghost\n",
    "nghost = 2;\n",
    "def boundary(x, fx):\n",
    "    #symmetric boundary for fx at x=0, x=1\n",
    "    xb = []\n",
    "    fxb =[]\n",
    "    l = len(x)\n",
    "    for i_ in range(nghost):\n",
    "        i = nghost-i_-1;\n",
    "        xb.append(-x[i])\n",
    "        fxb.append(fx[i])\n",
    "    for i in range(l):\n",
    "        xb.append(x[i])\n",
    "        fxb.append(fx[i])\n",
    "    for i_ in range(nghost):\n",
    "        i = (l-nghost)-i_+1\n",
    "        xb.append(2. - x[i])\n",
    "        fxb.append(fx[i])\n",
    "    return xb,fxb\n",
    "\n",
    "def prolongation(xl_1, fxl_1):\n",
    "    #interpolates from l-1 to l\n",
    "    _x, _fx = boundary(xl_1, fxl_1);\n",
    "    fxl = []\n",
    "    for _i in range(len(fxl_1)):\n",
    "        i = _i + nghost\n",
    "        val = 0.25* _fx[i-1] + 0.75* _fx[i]\n",
    "        fxl.append(val)\n",
    "        val = 0.75* _fx[i] + 0.25* _fx[i+1]\n",
    "        fxl.append(val)\n",
    "    return fxl;"
   ]
  },
  {
   "cell_type": "code",
   "execution_count": 196,
   "metadata": {},
   "outputs": [],
   "source": [
    "x4 = bitree(4)\n",
    "x3 = bitree(3)\n",
    "x10 = bitree(10) # ~1000 points for reference only\n",
    "fx10 = fx(x10)"
   ]
  },
  {
   "cell_type": "code",
   "execution_count": 197,
   "metadata": {},
   "outputs": [
    {
     "data": {
      "text/plain": [
       "array([8.83826307e-04, 5.08606923e-03, 2.27941809e-02, 7.95595087e-02,\n",
       "       2.16265167e-01, 4.57833362e-01, 7.54839602e-01, 9.69233234e-01,\n",
       "       9.69233234e-01, 7.54839602e-01, 4.57833362e-01, 2.16265167e-01,\n",
       "       7.95595087e-02, 2.27941809e-02, 5.08606923e-03, 8.83826307e-04])"
      ]
     },
     "execution_count": 197,
     "metadata": {},
     "output_type": "execute_result"
    }
   ],
   "source": [
    "fx4 = fx(l4)\n",
    "fx4"
   ]
  },
  {
   "cell_type": "code",
   "execution_count": 198,
   "metadata": {},
   "outputs": [
    {
     "data": {
      "text/plain": [
       "[0.0029849477689738754,\n",
       " 0.05117684480092002,\n",
       " 0.3370492643007508,\n",
       " 0.8620364182326757,\n",
       " 0.8620364182326757,\n",
       " 0.3370492643007508,\n",
       " 0.05117684480092002,\n",
       " 0.0029849477689738754]"
      ]
     },
     "execution_count": 198,
     "metadata": {},
     "output_type": "execute_result"
    }
   ],
   "source": [
    "#restricted to coarser level\n",
    "fx3 = restriction(fx4)\n",
    "fx3"
   ]
  },
  {
   "cell_type": "code",
   "execution_count": 199,
   "metadata": {},
   "outputs": [
    {
     "data": {
      "image/png": "[encoded data removed]",
      "text/plain": [
       "<Figure size 432x288 with 1 Axes>"
      ]
     },
     "metadata": {
      "needs_background": "light"
     },
     "output_type": "display_data"
    }
   ],
   "source": [
    "fig, ax1 = plt.subplots()\n",
    "\n",
    "ax1.set_xlabel(\"x\")\n",
    "ax1.set_ylabel(\"fx\")\n",
    "ax1.plot(x4, fx4, linewidth = 0.7, label = \"fx4\")\n",
    "ax1.plot(x3, fx3, linewidth = 0.7, label = \"fx3\")\n",
    "\n",
    "#ax1.plot(x3, fx4, linewidth = 0.7, label = \"fx\")\n",
    "\n",
    "ax1.legend(loc = \"lower right\")\n",
    "\n",
    "fig.tight_layout()  # otherwise the right y-label is slightly clipped\n",
    "\n",
    "plt.show()"
   ]
  },
  {
   "cell_type": "code",
   "execution_count": 200,
   "metadata": {},
   "outputs": [
    {
     "data": {
      "image/png": "[encoded data removed]",
      "text/plain": [
       "<Figure size 432x288 with 1 Axes>"
      ]
     },
     "metadata": {
      "needs_background": "light"
     },
     "output_type": "display_data"
    }
   ],
   "source": [
    "fig, ax1 = plt.subplots()\n",
    "\n",
    "ax1.set_xlabel(\"x\")\n",
    "ax1.set_ylabel(\"fx\")\n",
    "ax1.plot(x10, fx10, linewidth = 0.7, label = \"fx\", color = 'r')\n",
    "#ax1.plot(x4, fx4, linewidth = 0.7, label = \"fx4\")\n",
    "ax1.scatter(x4, fx4, linewidth = 0.7, label = \"fx4\", color = 'b')\n",
    "#ax1.plot(x3, fx3, linewidth = 0.7, label = \"fx3\")\n",
    "ax1.scatter(x3, fx3, linewidth = 0.7, label = \"fx3\", color = \"black\")\n",
    "\n",
    "x3b, fx3b = boundary(x3, fx3)\n",
    "#ax1.plot(x3b, fx3b, linewidth = 0.7,  label = \"fx3\")\n",
    "\n",
    "#ax1.plot(x3, fx4, linewidth = 0.7, label = \"fx\")\n",
    "\n",
    "ax1.legend(loc = \"upper right\")\n",
    "\n",
    "fig.tight_layout()  # otherwise the right y-label is slightly clipped\n",
    "\n",
    "plt.show()"
   ]
  },
  {
   "cell_type": "code",
   "execution_count": 201,
   "metadata": {},
   "outputs": [
    {
     "data": {
      "text/plain": [
       "[0.0029849477689738754,\n",
       " 0.01503292202696041,\n",
       " 0.03912887054293348,\n",
       " 0.1226449496758777,\n",
       " 0.2655811594257931,\n",
       " 0.468296052783732,\n",
       " 0.7307896297496945,\n",
       " 0.8620364182326757,\n",
       " 0.8620364182326757,\n",
       " 0.7307896297496945,\n",
       " 0.468296052783732,\n",
       " 0.2655811594257931,\n",
       " 0.1226449496758777,\n",
       " 0.03912887054293348,\n",
       " 0.01503292202696041,\n",
       " 0.0029849477689738754]"
      ]
     },
     "execution_count": 201,
     "metadata": {},
     "output_type": "execute_result"
    }
   ],
   "source": [
    "Ifx4 = prolongation(x3, fx3)\n",
    "Ifx4"
   ]
  },
  {
   "cell_type": "code",
   "execution_count": 202,
   "metadata": {},
   "outputs": [
    {
     "data": {
      "image/png": "[encoded data removed]",
      "text/plain": [
       "<Figure size 432x288 with 1 Axes>"
      ]
     },
     "metadata": {
      "needs_background": "light"
     },
     "output_type": "display_data"
    }
   ],
   "source": [
    "fig, ax1 = plt.subplots()\n",
    "\n",
    "ax1.set_xlabel(r\"$x$\")\n",
    "ax1.set_ylabel(r\"$\\phi(x)$\")\n",
    "\n",
    "pl0 = ax1.plot(x10, fx10, linewidth = 0.7, label = r\"$\\phi(x)$\", color = 'r')\n",
    "pl1 = ax1.scatter(x4, fx4, linewidth = 0.7, label = r\"$\\mathbf{u}_\\phi^{4}$ (original)\", color = 'b')\n",
    "#ax1.plot(x3, fx3, linewidth = 0.7, label = \"fx3\")\n",
    "pl2 = ax1.scatter(x3, fx3, linewidth = 0.7, label = r\"$\\mathrm{R}_{2h}^{h} \\mathbf{u}_\\phi^l $  (restriction)\", color = 'black')\n",
    "pl3 = ax1.scatter(x4, Ifx4, linewidth = 0.7, label = r\"$ \\mathrm{I}_{h}^{2h} \\mathrm{R}_{2h}^{h} \\mathbf{u}_\\phi^l $  (interpolation)\", color = \"magenta\")\n",
    "\n",
    "x3b, fx3b = boundary(x3, fx3)\n",
    "#ax1.plot(x3b, fx3b, linewidth = 0.7,  label = \"fx3\")\n",
    "\n",
    "#ax1.plot(x3, fx4, linewidth = 0.7, label = \"fx\")\n",
    "\n",
    "ax1.legend(loc = \"upper right\")\n",
    "\n",
    "fig.tight_layout()  # otherwise the right y-label is slightly clipped\n",
    "\n",
    "plt.show()"
   ]
  },
  {
   "cell_type": "code",
   "execution_count": 203,
   "metadata": {},
   "outputs": [
    {
     "data": {
      "image/png": "[encoded data removed]",
      "text/plain": [
       "<Figure size 432x288 with 1 Axes>"
      ]
     },
     "metadata": {
      "needs_background": "light"
     },
     "output_type": "display_data"
    }
   ],
   "source": [
    "fig, ax1 = plt.subplots()\n",
    "\n",
    "ax1.set_xlabel(r\"$x$\")\n",
    "ax1.set_ylabel(r\"$\\phi(x)$\")\n",
    "\n",
    "pl0 = ax1.plot(x10, fx10, linewidth = 0.7, label = r\"$\\phi(x)$\", color = 'm')\n",
    "pl1 = ax1.scatter(x4, fx4, linewidth = 0.7, label = r\"$\\phi_h$\", color = 'b')\n",
    "#ax1.plot(x3, fx3, linewidth = 0.7, label = \"fx3\")\n",
    "pl2 = ax1.scatter(x3, fx3, linewidth = 0.7, label = r\"$\\mathrm{R}_{2h}^{h} \\phi_h $ \", color = 'black')\n",
    "pl3 = ax1.scatter(x4, Ifx4, linewidth = 0.7, label = r\"$ \\mathrm{I}_{h}^{2h} \\mathrm{R}_{2h}^{h} \\phi_h $\", color = \"magenta\")\n",
    "\n",
    "x3b, fx3b = boundary(x3, fx3)\n",
    "#ax1.plot(x3b, fx3b, linewidth = 0.7,  label = \"fx3\")\n",
    "\n",
    "#ax1.plot(x3, fx4, linewidth = 0.7, label = \"fx\")\n",
    "\n",
    "ax1.legend(loc = \"upper right\")\n",
    "\n",
    "fig.tight_layout()  # otherwise the right y-label is slightly clipped\n",
    "plt.savefig(\"bitree-adpt.png\")\n",
    "\n",
    "plt.show()"
   ]
  },
  {
   "cell_type": "code",
   "execution_count": null,
   "metadata": {},
   "outputs": [],
   "source": [
    "params = {\n",
    "    'axes.labelsize': 8,\n",
    "    'font.size': 8,\n",
    "    'mathtext.fontset' : 'cm',\n",
    "    'font.family' : 'TexGyreSchola',\n",
    "    'legend.fontsize': 8,\n",
    "    'xtick.labelsize': 8,\n",
    "    'ytick.labelsize': 8,\n",
    "    'xtick.major.size' : 2.,\n",
    "    'ytick.major.size' : 2.,\n",
    "    'xtick.minor.size' : 1.,\n",
    "    'ytick.minor.size' : 1.,\n",
    "    'text.usetex': True,\n",
    "    'figure.figsize': [2.75,1.85],\n",
    "    'axes.linewidth' : 0.75,\n",
    "    'figure.subplot.left' : 0.2,\n",
    "    'figure.subplot.bottom' : 0.18,\n",
    "    'figure.subplot.right' : 0.85,\n",
    "    'figure.subplot.top' : 0.97,\n",
    "    'savefig.dpi' : 300,\n",
    "}\n",
    "mpl.rcParams.update(params)"
   ]
  },
  {
   "cell_type": "code",
   "execution_count": null,
   "metadata": {},
   "outputs": [
    {
     "name": "stderr",
     "output_type": "stream",
     "text": [
      "findfont: Font family ['TexGyreSchola'] not found. Falling back to DejaVu Sans.\n",
      "The PostScript backend does not support transparency; partially transparent artists will be rendered opaque.\n",
      "The PostScript backend does not support transparency; partially transparent artists will be rendered opaque.\n"
     ]
    }
   ],
   "source": [
    "fig, ax1 = plt.subplots()\n",
    "\n",
    "ax1.set_xlabel(r\"$x$\")\n",
    "ax1.set_ylabel(r\"$\\phi(x)$\")\n",
    "\n",
    "pl0 = ax1.plot(x10, fx10, linewidth = 0.3, label = r\"$\\phi(x)$\", color = 'r', zorder = 1)\n",
    "ax1.errorbar(x4, 0.5*(Ifx4+fx4), xerr=x4-x4, yerr=0.5*(Ifx4 - fx4), linestyle = 'none', color = 'g', zorder = 2);#, lolims=1, uplims=0, label = r\"$e(\\phi_h(x))$\")\n",
    "pl1 = ax1.plot(x4, fx4, marker = 'o', markersize = 8, linestyle = 'none', label = r\"$\\phi_h$\", color = 'r', zorder = 3)\n",
    "pl3 = ax1.scatter(x4, Ifx4, linewidth = 0.7, label = r\"$ \\mathrm{I}_{h}^{2h} \\mathrm{R}_{2h}^{h} \\phi_h $\", color = \"black\", zorder = 4)\n",
    "#pl1 = ax1.scatter(x4, fx4, linewidth = 0.7, label = r\"$\\phi_h$\", color = 'b')\n",
    "#ax1.plot(x3, fx3, linewidth = 0.7, label = \"fx3\")\n",
    "pl2 = ax1.scatter(x3, fx3, linewidth = 0.7, label = r\"$\\mathrm{R}_{2h}^{h} \\phi_h $ \", color = 'b', zorder = 5)\n",
    "\n",
    "\n",
    "#             lolims=lolims, uplims=uplims,\n",
    "\n",
    "x3b, fx3b = boundary(x3, fx3)\n",
    "#ax1.plot(x3b, fx3b, linewidth = 0.7,  label = \"fx3\")\n",
    "\n",
    "#ax1.plot(x3, fx4, linewidth = 0.7, label = \"fx\")\n",
    "\n",
    "ax1.legend(loc = \"upper right\")\n",
    "\n",
    "fig.tight_layout()  # otherwise the right y-label is slightly clipped\n",
    "plt.savefig(\"bitree-adpt.png\")\n",
    "plt.savefig(\"bitree-adpt.eps\")\n",
    "\n",
    "\n",
    "plt.show()"
   ]
  },
  {
   "cell_type": "code",
   "execution_count": null,
   "metadata": {},
   "outputs": [],
   "source": [
    "\n",
    "fig, ax1 = plt.subplots()\n",
    "\n",
    "cols = [\"#7aa0c4\", \"#ca82e1\", \"#8bcd50\", \"#df9f53\", \"#64b9a1\",\n",
    "        \"#745ea6\", \"#db7e76\"]\n",
    "\n",
    "plt.rcParams[\"axes.prop_cycle\"] = plt.cycler(\"color\", cols)\n",
    "\n",
    "\n",
    "ax1.set_xlabel(r\"$x$\")\n",
    "ax1.set_ylabel(r\"$e_h(\\phi_h )$\")\n",
    "pl3 = ax1.scatter(x4, abs(Ifx4-fx4), linewidth = 0.7, label =  r\"$e_h(\\phi_h )$\", c = 'b');#label = \n",
    "                  #r\"${e}_h (\\phi_h (x_h))= |\\phi_h  - \\mathrm{I}_{h}^{2h} \\mathrm{R}_{2h}^{h}\\phi_h (x_h)$\", c = 'red');#color = \"#7aa0c4\")\n",
    "\n",
    "plt.axhline(y = .06, color = 'r', linestyle = 'dashed', label = r'$\\epsilon_\\phi$') \n",
    "plt.axhline(y = .04, color = 'g', linestyle = 'dashed', label = r'$2/3 \\epsilon_\\phi$') \n",
    "ax1.legend(loc = \"upper right\")\n",
    "\n",
    "fig.tight_layout()  # otherwise the right y-label is slightly clipped\n",
    "plt.savefig(\"bitree-adpt-error.png\")\n",
    "plt.savefig(\"bitree-adpt-error.eps\")\n",
    "\n",
    "\n",
    "plt.show()"
   ]
  },
  {
   "cell_type": "code",
   "execution_count": null,
   "metadata": {},
   "outputs": [],
   "source": [
    "\n",
    "# fig, ax1 = plt.subplots()\n",
    "\n",
    "# cols = [\"#7aa0c4\", \"#ca82e1\", \"#8bcd50\", \"#df9f53\", \"#64b9a1\",\n",
    "#         \"#745ea6\", \"#db7e76\"]\n",
    "\n",
    "# plt.rcParams[\"axes.prop_cycle\"] = plt.cycler(\"color\", cols)\n",
    "\n",
    "\n",
    "# ax1.set_xlabel(r\"$x$\")\n",
    "# ax1.set_ylabel(r\"$e_h(\\phi_h )$\")\n",
    "# pl3 = ax1.scatter(x4, abs(Ifx4-fx4), linewidth = 0.7, label =  r\"$e_h(\\phi_h )$\", c = 'b');#label = \n",
    "#                   #r\"${e}_h (\\phi_h (x_h))= |\\phi_h  - \\mathrm{I}_{h}^{2h} \\mathrm{R}_{2h}^{h}\\phi_h (x_h)$\", c = 'red');#color = \"#7aa0c4\")\n",
    "\n",
    "# plt.axhline(y = .06, color = 'r', linestyle = 'dashed', label = r'$\\epsilon_\\phi$') \n",
    "# plt.axhline(y = .04, color = 'g', linestyle = 'dashed', label = r'$2/3 \\epsilon_\\phi$') \n",
    "# ax1.legend(loc = \"upper right\")\n",
    "\n",
    "# fig.tight_layout()  # otherwise the right y-label is slightly clipped\n",
    "# #plt.savefig(\"bitree-adpt-error.png\", dpi = 600)\n",
    "\n",
    "# plt.show()\n",
    "\n",
    "# #ax1.imshow(fig, aspect='normal')\n",
    "# fig.savefig('bitree-adpt-error.png', dpi=600)"
   ]
  },
  {
   "cell_type": "code",
   "execution_count": null,
   "metadata": {},
   "outputs": [],
   "source": [
    "def export_figure_matplotlib(arr, f_name, dpi=200, resize_fact=1, plt_show=False):\n",
    "    \"\"\"\n",
    "    Export array as figure in original resolution\n",
    "    :param arr: array of image to save in original resolution\n",
    "    :param f_name: name of file where to save figure\n",
    "    :param resize_fact: resize facter wrt shape of arr, in (0, np.infty)\n",
    "    :param dpi: dpi of your screen\n",
    "    :param plt_show: show plot or not\n",
    "    \"\"\"\n",
    "    fig = plt.figure(frameon=False)\n",
    "    fig.set_size_inches(arr.shape[1]/dpi, arr.shape[0]/dpi)\n",
    "    ax = plt.Axes(fig, [0., 0., 1., 1.])\n",
    "    ax.set_axis_off()\n",
    "    fig.add_axes(ax)\n",
    "    ax.imshow(arr)\n",
    "    plt.savefig(f_name, dpi=(dpi * resize_fact))\n",
    "    if plt_show:\n",
    "        plt.show()\n",
    "    else:\n",
    "        plt.close()"
   ]
  },
  {
   "cell_type": "code",
   "execution_count": null,
   "metadata": {},
   "outputs": [],
   "source": []
  }
 ],
 "metadata": {
  "kernelspec": {
   "display_name": "Python 3",
   "language": "python",
   "name": "python3"
  }
 },
 "nbformat": 4,
 "nbformat_minor": 4
}
