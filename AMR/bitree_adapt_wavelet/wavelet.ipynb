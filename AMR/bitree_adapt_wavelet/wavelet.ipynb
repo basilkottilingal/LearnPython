{
 "cells": [
  {
   "cell_type": "code",
   "execution_count": 2,
   "metadata": {},
   "outputs": [],
   "source": [
    "import numpy as np\n",
    "import matplotlib as mpl\n",
    "from matplotlib import pyplot as plt\n",
    "from scipy.optimize import minimize"
   ]
  },
  {
   "cell_type": "code",
   "execution_count": 3,
   "metadata": {},
   "outputs": [],
   "source": [
    "def bitree(n):\n",
    "    h = np.power(2., -n);\n",
    "    nl = 1;\n",
    "    for i in range(n):\n",
    "        nl *= 2\n",
    "    tree =  0.5*h + h*np.linspace(0, nl, nl, endpoint=False)\n",
    "    return tree"
   ]
  },
  {
   "cell_type": "code",
   "execution_count": 4,
   "metadata": {},
   "outputs": [],
   "source": [
    "def fx(x):\n",
    "    return np.exp(-32*(0.5-x)**2)"
   ]
  },
  {
   "cell_type": "code",
   "execution_count": 5,
   "metadata": {},
   "outputs": [],
   "source": [
    "def restriction(fxl):\n",
    "    #restricts or averages from l to l-1\n",
    "    _fx = []\n",
    "    for i in range(len(fxl)):\n",
    "        if (i%2 == 1):\n",
    "            val = 0.5*(fxl[i-1] + fxl[i]); \n",
    "            _fx.append(val);\n",
    "    return _fx;\n",
    "\n",
    "#Apply ghost\n",
    "nghost = 2;\n",
    "def boundary(x, fx):\n",
    "    #symmetric boundary for fx at x=0, x=1\n",
    "    xb = []\n",
    "    fxb =[]\n",
    "    l = len(x)\n",
    "    for i_ in range(nghost):\n",
    "        i = nghost-i_-1;\n",
    "        xb.append(-x[i])\n",
    "        fxb.append(fx[i])\n",
    "    for i in range(l):\n",
    "        xb.append(x[i])\n",
    "        fxb.append(fx[i])\n",
    "    for i_ in range(nghost):\n",
    "        i = (l-nghost)-i_+1\n",
    "        xb.append(2. - x[i])\n",
    "        fxb.append(fx[i])\n",
    "    return xb,fxb\n",
    "\n",
    "def prolongation(xl_1, fxl_1):\n",
    "    #interpolates from l-1 to l\n",
    "    _x, _fx = boundary(xl_1, fxl_1);\n",
    "    fxl = []\n",
    "    for _i in range(len(fxl_1)):\n",
    "        i = _i + nghost\n",
    "        val = 0.25* _fx[i-1] + 0.75* _fx[i]\n",
    "        fxl.append(val)\n",
    "        val = 0.75* _fx[i] + 0.25* _fx[i+1]\n",
    "        fxl.append(val)\n",
    "    return fxl;"
   ]
  },
  {
   "cell_type": "code",
   "execution_count": 6,
   "metadata": {},
   "outputs": [],
   "source": [
    "x4 = bitree(4)\n",
    "x3 = bitree(3)\n",
    "x10 = bitree(10) # ~1000 points for reference only\n",
    "fx10 = fx(x10)"
   ]
  },
  {
   "cell_type": "code",
   "execution_count": 8,
   "metadata": {},
   "outputs": [],
   "source": [
    "fx4 = fx(x4)"
   ]
  },
  {
   "cell_type": "code",
   "execution_count": 9,
   "metadata": {},
   "outputs": [],
   "source": [
    "#restricted to coarser level\n",
    "fx3 = restriction(fx4)"
   ]
  },
  {
   "cell_type": "code",
   "execution_count": 10,
   "metadata": {},
   "outputs": [],
   "source": [
    "Ifx4 = prolongation(x3, fx3)"
   ]
  },
  {
   "cell_type": "code",
   "execution_count": 11,
   "metadata": {},
   "outputs": [
    {
     "name": "stderr",
     "output_type": "stream",
     "text": [
      "The PostScript backend does not support transparency; partially transparent artists will be rendered opaque.\n",
      "The PostScript backend does not support transparency; partially transparent artists will be rendered opaque.\n"
     ]
    },
    {
     "data": {
      "image/png": "[encoded data removed]",
      "text/plain": [
       "<Figure size 432x288 with 1 Axes>"
      ]
     },
     "metadata": {
      "needs_background": "light"
     },
     "output_type": "display_data"
    }
   ],
   "source": [
    "fig, ax1 = plt.subplots()\n",
    "\n",
    "ax1.set_xlabel(r\"$x$\")\n",
    "ax1.set_ylabel(r\"$\\phi(x)$\")\n",
    "\n",
    "pl0 = ax1.plot(x10, fx10, linewidth = 0.3, label = r\"$\\phi(x)$\", color = 'r', zorder = 1)\n",
    "ax1.errorbar(x4, 0.5*(Ifx4+fx4), xerr=x4-x4, yerr=0.5*(Ifx4 - fx4), linestyle = 'none', color = 'g', zorder = 2);#, lolims=1, uplims=0, label = r\"$e(\\phi_h(x))$\")\n",
    "pl1 = ax1.plot(x4, fx4, marker = 'o', markersize = 8, linestyle = 'none', label = r\"$\\phi_h$\", color = 'r', zorder = 3)\n",
    "pl3 = ax1.scatter(x4, Ifx4, linewidth = 0.7, label = r\"$ \\mathrm{I}_{h}^{2h} \\mathrm{R}_{2h}^{h} \\phi_h $\", color = \"black\", zorder = 4)\n",
    "#pl1 = ax1.scatter(x4, fx4, linewidth = 0.7, label = r\"$\\phi_h$\", color = 'b')\n",
    "#ax1.plot(x3, fx3, linewidth = 0.7, label = \"fx3\")\n",
    "pl2 = ax1.scatter(x3, fx3, linewidth = 0.7, label = r\"$\\mathrm{R}_{2h}^{h} \\phi_h $ \", color = 'b', zorder = 5)\n",
    "\n",
    "\n",
    "#             lolims=lolims, uplims=uplims,\n",
    "\n",
    "x3b, fx3b = boundary(x3, fx3)\n",
    "#ax1.plot(x3b, fx3b, linewidth = 0.7,  label = \"fx3\")\n",
    "\n",
    "#ax1.plot(x3, fx4, linewidth = 0.7, label = \"fx\")\n",
    "\n",
    "ax1.legend(loc = \"upper right\")\n",
    "\n",
    "fig.tight_layout()  # otherwise the right y-label is slightly clipped\n",
    "plt.savefig(\"bitree-adpt.png\")\n",
    "plt.savefig(\"bitree-adpt.eps\")\n",
    "\n",
    "\n",
    "plt.show()"
   ]
  },
  {
   "cell_type": "code",
   "execution_count": null,
   "metadata": {},
   "outputs": [],
   "source": []
  }
 ],
 "metadata": {
  "kernelspec": {
   "display_name": "Python 3",
   "language": "python",
   "name": "python3"
  },
  "language_info": {
   "codemirror_mode": {
    "name": "ipython",
    "version": 3
   },
   "file_extension": ".py",
   "mimetype": "text/x-python",
   "name": "python",
   "nbconvert_exporter": "python",
   "pygments_lexer": "ipython3",
   "version": "3.8.5"
  }
 },
 "nbformat": 4,
 "nbformat_minor": 4
}
