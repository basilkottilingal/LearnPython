{
 "cells": [
  {
   "cell_type": "markdown",
   "metadata": {},
   "source": [
    "# [Landau and Lifshitz] Chapter 8. Sound\n",
    "\n",
    "$$ p = p_0 + p' \\quad ;\\quad \\rho = \\rho_0 +\\rho'$$\n",
    "\n",
    "($|p'|<< p_0$)"
   ]
  },
  {
   "cell_type": "markdown",
   "metadata": {},
   "source": [
    "## Velocity Potential\n",
    "Velocity potential satisfies the wave eqn\n",
    "$$\n",
    "    \\frac{\\partial^2}{\\partial t^2} \\phi - c^2 \\Delta \\phi = 0\n",
    "$$\n",
    "For 1D case (homogenous in $y,z$ directions\n",
    "$\\phi$ has the solution of form\n",
    "$$\n",
    "    \\phi = f_1 (x- c t) + f_2 (x+ct)\n",
    "$$\n",
    "Let's write \n",
    "Velocity potential as \n",
    "$$\n",
    "    \\phi = Re \\{ a_1 e^{j(kx  -  \\omega t)} + a_2 e^{j(kx  + \\omega t)} \\}\n",
    "$$\n",
    "which gives \n",
    "the velocity as $\\mathbf{u} = u\\mathbf{e}_x$ where\n",
    "$$\n",
    "    u = k\\phi = k~Re \\{ a_1 e^{j(kx  -  \\omega t)} + a_2 e^{j(kx  + \\omega t)} \\}\n",
    "$$"
   ]
  },
  {
   "cell_type": "markdown",
   "metadata": {},
   "source": [
    "## Relationship between pressure, density and velocity perturbations\n",
    "### Pressure Perturbation\n",
    "$$\n",
    "      p' = -{\\rho}\\frac{\\partial \\phi}{\\partial t}  \n",
    "$$\n",
    "which gives\n",
    "$$\n",
    "      p' = \\omega ~ Re \\{ j \\left( a_1 e^{j(kx  -  \\omega t)} - a_2 e^{j(kx  + \\omega t)} \\right) \\}\n",
    "$$\n",
    "### Density Perturbation\n",
    "$$\n",
    "      \\rho' = \\frac{1}{c^2} p'\n",
    "$$\n",
    "which gives\n",
    "$$\n",
    "      \\rho' = \\frac{\\omega}{c^2} ~ Re \\{ j \\left( a_1 e^{j(kx  -  \\omega t)} - a_2 e^{j(kx  + \\omega t)} \\right) \\}\n",
    "$$"
   ]
  },
  {
   "cell_type": "code",
   "execution_count": null,
   "metadata": {},
   "outputs": [],
   "source": []
  }
 ],
 "metadata": {
  "kernelspec": {
   "display_name": "Python 3",
   "language": "python",
   "name": "python3"
  },
  "language_info": {
   "codemirror_mode": {
    "name": "ipython",
    "version": 3
   },
   "file_extension": ".py",
   "mimetype": "text/x-python",
   "name": "python",
   "nbconvert_exporter": "python",
   "pygments_lexer": "ipython3",
   "version": "3.8.5"
  }
 },
 "nbformat": 4,
 "nbformat_minor": 4
}
