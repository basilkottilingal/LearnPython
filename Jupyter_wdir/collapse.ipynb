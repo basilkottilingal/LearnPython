{
 "cells": [
  {
   "cell_type": "code",
   "execution_count": 12,
   "metadata": {},
   "outputs": [],
   "source": [
    "import numpy as np\n",
    "from matplotlib import pyplot as plt\n",
    "from scipy.integrate import odeint"
   ]
  },
  {
   "cell_type": "code",
   "execution_count": 19,
   "metadata": {},
   "outputs": [],
   "source": [
    "#Non-dim numbers\n",
    "Weber = 10.;\n",
    "Reynolds = 10.;\n",
    "gamma2 = 1.4;\n",
    "\n",
    "Mach = 0.1;    #Doesn't matter as the liquid is incompressible in RP\n",
    "gamma1 = 5.5;  #Doesn't matter as the liquid is incompressible in RP\n",
    "mu1_by_mu2 = 100; #doesn;t matter as mu2 is 0 in RP\n",
    "rho1_by_rho2 = 1000; \n",
    "\n",
    "pr = 9; #Ratio of applied pressure p_inf to p0\n",
    "\n",
    "\n",
    "#scales\n",
    "#U0 = np.sqrt(pa*p0/rho);\n",
    "#X0 = R_0\n",
    "#T0 = \n",
    "\n",
    "#System parameters determined from Non-dimensional numbers\n",
    "R_0 = 1;\n",
    "rho = 1;\n",
    "mu  = 1./Reynolds;\n",
    "sigma = 1./Weber;\n",
    "\n",
    "U_0 = 0.;\n",
    "\n",
    "#Ambient pressure\n",
    "p0 = 1./9.;\n",
    "#pa(t), Applied Pressure (is a constant)\n",
    "pa = p0*(1+pr);\n",
    "\n",
    "#Polytropic coeff\n",
    "gamma=gamma2"
   ]
  },
  {
   "cell_type": "code",
   "execution_count": 20,
   "metadata": {},
   "outputs": [],
   "source": [
    "#Initsial gas pressure\n",
    "p_g0 = p0 + 2*sigma/R_0"
   ]
  },
  {
   "cell_type": "code",
   "execution_count": 27,
   "metadata": {},
   "outputs": [],
   "source": [
    "#pressure at infty as a function of time\n",
    "def p_infty (t):\n",
    "    return pa\n",
    "#pressure of gas as a function of R\n",
    "def p_gas(R):\n",
    "    p_g = p_g0*np.power(R_0/R, 3*gamma);\n",
    "    return p_g"
   ]
  },
  {
   "cell_type": "code",
   "execution_count": 28,
   "metadata": {},
   "outputs": [],
   "source": [
    "#d/dt (x) = equation(x,t)\n",
    "def RP(x, t):\n",
    "    (R,u) = x;\n",
    "    udot = (p_gas(R)-p_infty(t)-2*sigma/R-4*mu*u/R)/(R*rho)-3*u**2/(2*R)\n",
    "    return (u, udot)"
   ]
  },
  {
   "cell_type": "code",
   "execution_count": 32,
   "metadata": {},
   "outputs": [],
   "source": [
    "#solving ODE\n",
    "tend = 0.915*3.5;\n",
    "u_0 = 0.;\n",
    "\n",
    "time = np.arange(0, tend, 0.00025)"
   ]
  },
  {
   "cell_type": "code",
   "execution_count": 33,
   "metadata": {},
   "outputs": [],
   "source": [
    "#Solving By Rp\n",
    "R_1 = odeint(RP, [R_0, u_0], time)\n",
    "#plot\n",
    "V = R_1[:,1]\n",
    "R = R_1[:,0]\n",
    "mtimes = time/0.915"
   ]
  },
  {
   "cell_type": "code",
   "execution_count": 34,
   "metadata": {},
   "outputs": [
    {
     "data": {
      "image/png": "[encoded data removed]",
      "text/plain": [
       "<Figure size 432x288 with 1 Axes>"
      ]
     },
     "metadata": {
      "needs_background": "light"
     },
     "output_type": "display_data"
    }
   ],
   "source": [
    "#plot results\n",
    "\n",
    "fig, ax1 = plt.subplots()\n",
    "\n",
    "ax1.set_xlabel(\"t/T\")\n",
    "ax1.set_ylabel(\"R/$R_0$\")\n",
    "ax1.plot(mtimes, R, linewidth = 0.7, label = \"Bubble Radius\")\n",
    "\n",
    "ax1.legend(loc = \"lower right\")\n",
    "\n",
    "fig.tight_layout()  # otherwise the right y-label is slightly clipped\n",
    "\n",
    "plt.show()"
   ]
  },
  {
   "cell_type": "code",
   "execution_count": 35,
   "metadata": {},
   "outputs": [],
   "source": [
    "def dpinfty_dt(t):\n",
    "    return 0;\n",
    "\n",
    "u0 = np.sqrt((pa-p0)/rho);\n",
    "c0 = u0/Mach;\n",
    "#Keller - Miksis\n",
    "def KM(x, t):\n",
    "    (R,u) = x; \n",
    "    p_L = p_gas(R) - 2*sigma/R - 4*mu*u/R; #p_l(r,t) at r=R\n",
    "    dpL_dt_res = -3*gamma*p_gas(R)*u/R  +  2*sigma*u/R  +  4*mu*u**2/R**2; #dpl_dt_res = dpL_dt - (-4*mu*udot/R)\n",
    "    udot = ( (1+u/C0)*(p_L-p_infty(t))/rho + R*(dpL_dt_res - dpinfty_dt(t))/(rho*C0) - 1.5*(1-u/3/C0)*u**2 )/ (1-u/C0 + 4*mu/(C0*rho*R))/R;\n",
    "    return (u, udot)"
   ]
  },
  {
   "cell_type": "code",
   "execution_count": 39,
   "metadata": {},
   "outputs": [],
   "source": [
    "#Solving By Rp\n",
    "R_2 = odeint(RP, [R_0, u_0], time)\n",
    "#plot\n",
    "Vk = R_2[:,1]\n",
    "Rk = R_2[:,0]\n",
    "mtimes = time/0.915"
   ]
  },
  {
   "cell_type": "code",
   "execution_count": 41,
   "metadata": {},
   "outputs": [
    {
     "data": {
      "image/png": "[encoded data removed]",
      "text/plain": [
       "<Figure size 432x288 with 1 Axes>"
      ]
     },
     "metadata": {
      "needs_background": "light"
     },
     "output_type": "display_data"
    }
   ],
   "source": [
    "#plot results\n",
    "\n",
    "fig, ax1 = plt.subplots()\n",
    "\n",
    "ax1.set_xlabel(\"t/T\")\n",
    "ax1.set_ylabel(\"R/$R_0$\")\n",
    "ax1.plot(mtimes, R, linewidth = 0.7, label = \"RP\")\n",
    "ax1.plot(mtimes, Rk, linewidth = 0.7, label = \"KM\")\n",
    "\n",
    "ax1.legend(loc = \"lower right\")\n",
    "\n",
    "fig.tight_layout()  # otherwise the right y-label is slightly clipped\n",
    "\n",
    "plt.show()"
   ]
  },
  {
   "cell_type": "code",
   "execution_count": 57,
   "metadata": {},
   "outputs": [],
   "source": [
    "arr = np.column_stack((mtimes, R, V))\n",
    "np.savetxt(\"RP.txt\", arr, fmt=\"%s\")"
   ]
  },
  {
   "cell_type": "code",
   "execution_count": 58,
   "metadata": {},
   "outputs": [
    {
     "data": {
      "text/plain": [
       "(12810, 3)"
      ]
     },
     "execution_count": 58,
     "metadata": {},
     "output_type": "execute_result"
    }
   ],
   "source": [
    "np.shape(arr)"
   ]
  },
  {
   "cell_type": "code",
   "execution_count": null,
   "metadata": {},
   "outputs": [],
   "source": []
  }
 ],
 "metadata": {
  "kernelspec": {
   "display_name": "Python 3",
   "language": "python",
   "name": "python3"
  },
  "language_info": {
   "codemirror_mode": {
    "name": "ipython",
    "version": 3
   },
   "file_extension": ".py",
   "mimetype": "text/x-python",
   "name": "python",
   "nbconvert_exporter": "python",
   "pygments_lexer": "ipython3",
   "version": "3.8.5"
  }
 },
 "nbformat": 4,
 "nbformat_minor": 4
}
