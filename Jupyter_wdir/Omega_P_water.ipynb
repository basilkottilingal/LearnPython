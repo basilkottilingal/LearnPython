{
 "cells": [
  {
   "cell_type": "code",
   "execution_count": 1,
   "metadata": {},
   "outputs": [],
   "source": [
    "import numpy as np\n",
    "import matplotlib.pyplot as plt"
   ]
  },
  {
   "cell_type": "code",
   "execution_count": 2,
   "metadata": {},
   "outputs": [],
   "source": [
    "#Water properties\n",
    "mu = 0.000863\n",
    "sigma = 0.0717\n",
    "rho = 996.3\n",
    "nu = mu/rho"
   ]
  },
  {
   "cell_type": "code",
   "execution_count": 56,
   "metadata": {},
   "outputs": [],
   "source": [
    "p = np.linspace(-9, 3, num=40)\n",
    "p = np.multiply(p, np.log(10))\n",
    "#Eqb Radius of bubble\n",
    "R_E = np.exp(p)\n",
    "#R_E = {10}**{p}"
   ]
  },
  {
   "cell_type": "code",
   "execution_count": 57,
   "metadata": {},
   "outputs": [],
   "source": [
    "#\n",
    "k = 1.3\n",
    "Tensile = np.power(2, 1)"
   ]
  },
  {
   "cell_type": "code",
   "execution_count": 58,
   "metadata": {},
   "outputs": [],
   "source": [
    "omega_p = np.sqrt(np.multiply(np.power(R_E, -2), Tensile*3*k/rho) + np.multiply(np.power(R_E, -3), 2*(3*k-1)/rho))\n",
    "#omega_p2 = np.sqrt(np.multiply(np.power(R_E, -2), Tensile*3*k/rho) + np.multiply(np.power(R_E, -3), 2*(3*k-1)/rho) - np.multiply(np.power(R_E, -4), 8*nu**2))\n"
   ]
  },
  {
   "cell_type": "code",
   "execution_count": 59,
   "metadata": {},
   "outputs": [],
   "source": [
    "# fig, ax = plt.subplots()\n",
    "\n",
    "# # Using set_dashes() to modify dashing of an existing line\n",
    "# line1, = ax.plot(R_E, omega_p, label='Using set_dashes()')\n",
    "\n",
    "# ax.legend()\n",
    "# ax.set_yscale('log')\n",
    "# ax.set_xscale('log')\n",
    "# plt.show()"
   ]
  },
  {
   "cell_type": "code",
   "execution_count": 60,
   "metadata": {},
   "outputs": [
    {
     "data": {
      "image/png": "[encoded data removed]",
      "text/plain": [
       "<Figure size 432x288 with 1 Axes>"
      ]
     },
     "metadata": {
      "needs_background": "light"
     },
     "output_type": "display_data"
    }
   ],
   "source": [
    "fig, ax = plt.subplots()\n",
    "\n",
    "# Using set_dashes() to modify dashing of an existing line\n",
    "#line1, = ax.plot(R_E, omega_p2, label='Using set_dashes()')\n",
    "line1, = ax.plot(R_E, omega_p,  label='OmegaN', color='tab:blue')\n",
    "#line2, = ax.plot(R_E, omega_p2, label='OmegaP', color='tab:orange')\n",
    "\n",
    "ax.legend()\n",
    "ax.set_yscale('log')\n",
    "ax.set_xscale('log')\n",
    "plt.show()"
   ]
  },
  {
   "cell_type": "code",
   "execution_count": 37,
   "metadata": {},
   "outputs": [
    {
     "data": {
      "text/plain": [
       "array([2.40031573e+09, 1.68615530e+09, 1.18420272e+09, 8.31524942e+08,\n",
       "       5.83797320e+08, 4.09826219e+08, 2.87672681e+08, 2.01914235e+08,\n",
       "       1.41713475e+08, 9.94572266e+07, 6.97985724e+07, 4.89829462e+07,\n",
       "       3.43743058e+07, 2.41221277e+07, 1.69274483e+07, 1.18785334e+07,\n",
       "       8.33547918e+06, 5.84918724e+06, 4.10448149e+06, 2.88017852e+06,\n",
       "       2.02106017e+06, 1.41820219e+06, 9.95168019e+05, 6.98319663e+05,\n",
       "       4.90017912e+05, 3.43850516e+05, 2.41283521e+05, 1.69311374e+05,\n",
       "       1.18807909e+05, 8.33691976e+04, 5.85015401e+04, 4.10516696e+04,\n",
       "       2.88069143e+04, 2.02146265e+04, 1.41853029e+04, 9.95443204e+03,\n",
       "       6.98555122e+03, 4.90222112e+03, 3.44029179e+03, 2.41440731e+03])"
      ]
     },
     "execution_count": 37,
     "metadata": {},
     "output_type": "execute_result"
    }
   ],
   "source": [
    "omega_p2"
   ]
  },
  {
   "cell_type": "code",
   "execution_count": null,
   "metadata": {},
   "outputs": [],
   "source": []
  }
 ],
 "metadata": {
  "kernelspec": {
   "display_name": "Python 3",
   "language": "python",
   "name": "python3"
  },
  "language_info": {
   "codemirror_mode": {
    "name": "ipython",
    "version": 3
   },
   "file_extension": ".py",
   "mimetype": "text/x-python",
   "name": "python",
   "nbconvert_exporter": "python",
   "pygments_lexer": "ipython3",
   "version": "3.8.5"
  }
 },
 "nbformat": 4,
 "nbformat_minor": 4
}
