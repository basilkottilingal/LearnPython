{
 "cells": [
  {
   "cell_type": "code",
   "execution_count": 26,
   "metadata": {},
   "outputs": [],
   "source": [
    "import numpy as np\n",
    "from matplotlib import pyplot as plt\n",
    "from scipy.integrate import odeint"
   ]
  },
  {
   "cell_type": "code",
   "execution_count": 27,
   "metadata": {},
   "outputs": [],
   "source": [
    "#Liquid properties\n",
    "rho = 1e3\n",
    "mu = 8.9e-4\n",
    "sigma=0.072\n",
    "\n",
    "#Ambient COnditions\n",
    "p_atm = 1e5\n",
    "p_v = 2330\n",
    "\n",
    "#Polytropic coeff\n",
    "gamma=1.33"
   ]
  },
  {
   "cell_type": "code",
   "execution_count": 91,
   "metadata": {},
   "outputs": [],
   "source": [
    "#initial Condition\n",
    "R_0 = 2e-6\n",
    "u_0 = 0"
   ]
  },
  {
   "cell_type": "code",
   "execution_count": 169,
   "metadata": {},
   "outputs": [],
   "source": [
    "#partial pressure of air at eqb\n",
    "p_g0 = p_atm + 2 * sigma/R_0 - p_v"
   ]
  },
  {
   "cell_type": "code",
   "execution_count": 170,
   "metadata": {},
   "outputs": [],
   "source": [
    "#pressure at infty as a function of time\n",
    "p_a = 1.2*p_atm\n",
    "omega = 2*np.pi*25600\n",
    "def p_infty (t):\n",
    "    p_it = p_atm - p_a * np.sin(omega*t)\n",
    "    return p_it\n",
    "#partial pressure of air as a function of R\n",
    "def p_gas(R):\n",
    "    p_g = p_g0*np.power(R_0/R, 3*gamma);\n",
    "    return p_g"
   ]
  },
  {
   "cell_type": "code",
   "execution_count": 171,
   "metadata": {},
   "outputs": [],
   "source": [
    "#d/dt (x) = equation(x,t)\n",
    "def equation(x, t):\n",
    "    (R,u) = x;\n",
    "    udot = (p_gas(R)+p_v-p_infty(t)-2*sigma/R-4*mu*u/R)/(R*rho)-3*u**2/(2*R)\n",
    "    return (u, udot)"
   ]
  },
  {
   "cell_type": "code",
   "execution_count": 172,
   "metadata": {},
   "outputs": [],
   "source": [
    "#solving ODE\n",
    "#time = np.arange(0, 0.0003, 0.00000000025)\n",
    "time = np.arange(0, 70e-6, 0.00000000025)\n",
    "R_1 = odeint(equation, [R_0, u_0], time)"
   ]
  },
  {
   "cell_type": "code",
   "execution_count": 173,
   "metadata": {},
   "outputs": [],
   "source": [
    "#plot\n",
    "V = R_1[:,1]\n",
    "R = R_1[:,0]/R_0\n",
    "mtimes = time/(2*np.pi/omega)"
   ]
  },
  {
   "cell_type": "code",
   "execution_count": 174,
   "metadata": {},
   "outputs": [
    {
     "data": {
      "image/png": "[encoded data removed]",
      "text/plain": [
       "<Figure size 432x288 with 1 Axes>"
      ]
     },
     "metadata": {
      "needs_background": "light"
     },
     "output_type": "display_data"
    }
   ],
   "source": [
    "#plot results\n",
    "\n",
    "fig, ax1 = plt.subplots()\n",
    "\n",
    "ax1.set_xlabel(\"t/T\")\n",
    "ax1.set_ylabel(\"R/$R_0$\")\n",
    "ax1.plot(mtimes, R, linewidth = 0.7, label = \"Bubble Radius\")\n",
    "\n",
    "ax1.legend(loc = \"lower right\")\n",
    "\n",
    "fig.tight_layout()  # otherwise the right y-label is slightly clipped\n",
    "\n",
    "plt.show()"
   ]
  },
  {
   "cell_type": "code",
   "execution_count": null,
   "metadata": {},
   "outputs": [],
   "source": []
  },
  {
   "cell_type": "code",
   "execution_count": null,
   "metadata": {},
   "outputs": [],
   "source": []
  }
 ],
 "metadata": {
  "kernelspec": {
   "display_name": "Python 3",
   "language": "python",
   "name": "python3"
  },
  "language_info": {
   "codemirror_mode": {
    "name": "ipython",
    "version": 3
   },
   "file_extension": ".py",
   "mimetype": "text/x-python",
   "name": "python",
   "nbconvert_exporter": "python",
   "pygments_lexer": "ipython3",
   "version": "3.8.5"
  }
 },
 "nbformat": 4,
 "nbformat_minor": 4
}
